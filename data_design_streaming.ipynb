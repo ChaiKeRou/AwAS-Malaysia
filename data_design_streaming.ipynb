{
 "cells": [
  {
   "cell_type": "markdown",
   "id": "f3683056",
   "metadata": {},
   "source": [
    "## <span style=\"color:#0b486b\">Part 1: MongoDB Data Model</span>"
   ]
  },
  {
   "cell_type": "markdown",
   "id": "e0284978",
   "metadata": {},
   "source": [
    "### Task 1.1 Collection Design"
   ]
  },
  {
   "cell_type": "markdown",
   "id": "c363b457",
   "metadata": {},
   "source": [
    "<div style=\"text-align: center\"> \n",
    "    <img src=\"erddiagram.png\"></img>\n",
    "    <p style=\"text-align: center\">Figure 1 – Data Model Design </p>\n",
    "</div>"
   ]
  },
  {
   "cell_type": "markdown",
   "id": "c69d6ea9",
   "metadata": {},
   "source": [
    "This ERD diagram illustrates the design of our MongoDB database, detailing the structure of the three main collections: Violation, Vehicle, and Camera. It also indicates the primary keys, foreign keys, indexing keys, and shard keys. The relationships between the collections are clearly shown, except for the logged_pairs violation collection, which has no relationship with the others. The embedded documents for the Violation collection are also clearly specified, treating each record as a single object."
   ]
  },
  {
   "cell_type": "markdown",
   "id": "0dce06cd",
   "metadata": {},
   "source": [
    "#### Collection 1: Vehicle\n",
    "\n",
    "* This collection is used to store the static metadata about the registered vehicles to enable quick identification and linking to traffic violations\n",
    "\n",
    "* Schema and sample for this collection. The field _id is used as an alias for the car_plate column in the provided CSV file.\n",
    "    * schema\n",
    "        ```json\n",
    "        {\n",
    "          \"_id\": String,\n",
    "          \"owner_name\": String,\n",
    "          \"owner_addr\": String,\n",
    "          \"vehicle_type\": String,\n",
    "          \"registration_date\": Date\n",
    "        }\n",
    "        ```\n",
    "    * sample\n",
    "        ```json\n",
    "        {\n",
    "          \"_id\": \"FZP 98\n",
    "          \"owner_name\": \"Priya a/l Anita\",\n",
    "          \"owner_addr\": \"24 Jalan Bukit Jelutong, Kuala Lumpur\",\n",
    "          \"vehicle_type\": \"Hatchback\",\n",
    "          \"registration_date\": 1991-04-08T21:23:30.000+00:00\n",
    "        } \n",
    "        ```\n",
    "\n",
    "* Indexes\n",
    "    * The chosen field is _id, which serves as the default indexing key in MongoDB and is sorted in ascending order.\n",
    "    * The index type is a single field index.\n",
    "    * The purpose of this indexes is to ensure that each document in this collection has a unique _id (car_plate) value and to facilitate efficient querying based on the _id (car_plate) field.\n",
    "    \n",
    "* Data retention policy\n",
    "    * The data of the vehicle registrations are stored permanently.\n",
    "    * If the car_plate is deregistered, its associated document will be removed from the collection.\n",
    "    * Each _id (representing a car_plate) is uniquely assigned to one individual at any given time to ensure no duplicate registration, thus the latest registration is stored only."
   ]
  },
  {
   "cell_type": "markdown",
   "id": "30ca9239",
   "metadata": {},
   "source": [
    "#### Collection 2: Camera\n",
    "\n",
    "* This collection is used to hold static information about traffic cameras used for monitoring and capturing violations.\n",
    "\n",
    "* Schema and sample for this collection. The field _id is used as an alias for the camera_id column in the provided CSV file.\n",
    "    * schema\n",
    "        ```json\n",
    "        {\n",
    "          \"_id\": Int,\n",
    "          \"latitude\": Double,\n",
    "          \"longitude\": Double,\n",
    "          \"position\": Double,\n",
    "          \"speed_limit\": Int\n",
    "        }\n",
    "        ```\n",
    "    * sample\n",
    "        ```json\n",
    "        {\n",
    "          \"_id\": 2,\n",
    "          \"latitude\": 2.162418757,\n",
    "          \"longitude\": 102.6524549,\n",
    "          \"position\": 153.5,\n",
    "          \"speed_limit\": 110\n",
    "        }\n",
    "        ```\n",
    "\n",
    "* Indexes\n",
    "    * The chosen field is _id, which serves as the default indexing key in MongoDB and is sorted in ascending order.\n",
    "    * The index type is a single field index.\n",
    "    * The purpose of this indexes is to ensure that each document in this collection has a unique _id (camera_id) value and to facilitate efficient querying based on the _id (camera_id) field.\n",
    "    \n",
    "* Data retention policy\n",
    "    * The data of the traffic cameras are stored permanently."
   ]
  },
  {
   "cell_type": "markdown",
   "id": "a1949f1c",
   "metadata": {},
   "source": [
    "#### Collection 3: Violation\n",
    "\n",
    "* This collection is used to store dynamic records of flagged violations detected by cameras, including the vehicle involved and timestamp. The historic violations is stored in this collection as well.\n",
    "\n",
    "* Schema and sample for this collection. The field _id is used as an alias for the camera_id column in the provided CSV file.\n",
    "    * schema\n",
    "        ```json\n",
    "        {\n",
    "          \"_id\": ObjectId,\n",
    "          \"car_plate\": String,\n",
    "          \"date\": Date,\n",
    "          \"updatedAt\": Date,\n",
    "          \"violations\": Array[instant_violation | average_violation]\n",
    "        }\n",
    "\n",
    "        instant_violation = {\n",
    "            \"camera_id_end\": Int,\n",
    "            \"timestamp_end\": Date,\n",
    "            \"speed_reading\": Double,\n",
    "            \"type\": String,\n",
    "            \"updateAt\": Date\n",
    "        }\n",
    "\n",
    "        average_violation = {\n",
    "            \"camera_id_start\": Int,\n",
    "            \"camera_id_end\": Int,\n",
    "            \"timestamp_start\": Date,\n",
    "            \"timestamp_end\": Date,\n",
    "            \"speed_reading\": Double,\n",
    "            \"type\": String,\n",
    "            \"updateAt\": Date\n",
    "        }\n",
    "        ```\n",
    "    * sample\n",
    "        ```json\n",
    "        {\n",
    "          \"_id\": ObjectId(\"6831d6e89505ee6a199c06ec\"),\n",
    "          \"car_plate\": \"UTT 229\",\n",
    "          \"date\": 2024-01-01T00:00:00.000Z,\n",
    "          \"updateAt\": 2025-05-24T14:26:00.351Z,\n",
    "          \"violations\": [\n",
    "            {\n",
    "              \"camera_id_end\": 1,\n",
    "              \"timestamp_end\": 2024-01-01T08:00:00.000Z,\n",
    "              \"speed_reading\": 140.9,\n",
    "              \"type\": \"instant\",\n",
    "              \"updatedAt\": 2025-05-24T14:25:44.161Z\n",
    "            },\n",
    "            {\n",
    "              \"camera_id_end\": 2,\n",
    "              \"timestamp_end\": 2024-01-01T08:00:26.887Z,\n",
    "              \"speed_reading\": 134.1,\n",
    "              \"type\": \"instant\",\n",
    "              \"updatedAt\": 2025-05-24T14:25:44.161Z\n",
    "            },\n",
    "            {\n",
    "              \"camera_id_end\": 3,\n",
    "              \"timestamp_end\": 2024-01-01T08:00:54.958Z,\n",
    "              \"speed_reading\": 130.8,\n",
    "              \"type\": \"instant\",\n",
    "              \"updatedAt\": 2025-05-24T14:25:44.161Z\n",
    "            },\n",
    "            {\n",
    "              \"camera_id_start\": 1,\n",
    "              \"camera_id_end\": 2,\n",
    "              \"timestamp_start\": 2024-01-01T08:00:00.000Z,\n",
    "              \"timestamp_end\": 2024-01-01T08:00:26.887Z,\n",
    "              \"speed_reading\": 133.89285632420857,\n",
    "              \"type\": \"average\",\n",
    "              \"updatedAt\": 2025-05-24T14:26:00.351Z\n",
    "            },\n",
    "            {\n",
    "              \"camera_id_start\": 2,\n",
    "              \"camera_id_end\": 3,\n",
    "              \"timestamp_start\": 2024-01-01T08:00:26.887Z,\n",
    "              \"timestamp_end\": 2024-01-01T08:00:54.958Z,\n",
    "              \"speed_reading\": 128.24658958816858,\n",
    "              \"type\": \"average\",\n",
    "              \"updatedAt\": 2025-05-24T14:26:00.351Z\n",
    "            }\n",
    "          ]\n",
    "        }\n",
    "        ```\n",
    "\n",
    "* Indexes\n",
    "    * _id\n",
    "        * The chosen field is _id, which serves as the default indexing key in MongoDB and is sorted in ascending order.\n",
    "        * The index type is a single field index.\n",
    "        * The purpose of this indexes is to ensure that each document in this collection has a unique _id (camera_id) value and to facilitate efficient querying based on the _id (camera_id) field.\n",
    "    \n",
    "    * car_plate, date\n",
    "        * The chosen field is car_plate and date {car_plate, date}, and both of the sort order is in ascending order.\n",
    "        * The index type is compound index\n",
    "        * The purpose of this design is used to improve the performance of the query that contains these two fields. For example, the streaming application needs to query on car_plate and date to update the document or insert a new document based on the car_plate and date.\n",
    "\n",
    "* Shard key strategy (if any) by specifying\n",
    "    * The chosen shard key is the car_plate and date {car_plate, date}\n",
    "    * The shard key type is ranged-based sharding on compound index\n",
    "    * Sharding is used in this collection as this collection will continuously grow up to store the violation records captured by the cameras. Using sharding can improves the data distribution. The fields car_plate and date is chosen as the shard key as they match the query pattern of the streaming application. Therefore, both are selected to ensure efficient query routing and balanced data distribution across shards\n",
    "\n",
    "* Data retention policy\n",
    "    * All violation records are stored permanently in the collection\n",
    "    * A timestamp field is included in each document to record the exact time the record was stored in the collection.\n",
    "    * The timestamp is useful for performance the real time data analytics."
   ]
  },
  {
   "cell_type": "markdown",
   "id": "361c24db",
   "metadata": {},
   "source": [
    "#### Collection 4: dropped_pairs\n",
    "\n",
    "* This collection stores logged pairs of records that have been dropped from the system, including vehicles that could not be matched with other cameras due to late data arrival. It is useful for auditing and tracking purposes.\n",
    "\n",
    "* Schema and sample for this collection. The field _id is used as an alias for the car_plate column in the provided CSV file.\n",
    "    * schema\n",
    "        ```json\n",
    "        {\n",
    "          \"_id\": String,\n",
    "          \"car_plate\": String,\n",
    "          \"camera_id\": Int,\n",
    "          \"timestamp\": Date\n",
    "        }\n",
    "        ```\n",
    "    * sample\n",
    "        ```json\n",
    "        {\n",
    "        \"_id\": ObjextId(“d6079f0a-8926-40e0-b791-2bc8a3002b13”),\n",
    "        \"car_plate”: “OIE 79”,\n",
    "        \"camera_id\": 1,\n",
    "        \"timestamp”: 2024-01-01T13:39:48,134.3\n",
    "        }\n",
    "        ```\n",
    "\n",
    "* Indexes\n",
    "    * The chosen field is _id, which serves as the default indexing key in MongoDB and is sorted in ascending order.\n",
    "    * The index type is a single field index.\n",
    "    \n",
    "* Data retention policy\n",
    "    * The date are retained for a maximum of 1 year from the time of ingestion.\n",
    "    * A one-year retention window balances the need for auditing and debugging with storage optimization and system performance, ensuring manageable database growth and efficient query response times."
   ]
  },
  {
   "cell_type": "markdown",
   "id": "5d5dcadd",
   "metadata": {},
   "source": [
    "### Task 1.2 Collection Relationship"
   ]
  },
  {
   "cell_type": "markdown",
   "id": "c893a868",
   "metadata": {},
   "source": [
    "#### Vehicle and Violation\n",
    "* It is a one-to-many relationship between the `Vehicle` collection and the `Violation` collection. It means one vehicle can have multiples of violation record in the `Violation` collection, but only one record in a day.\n",
    "* As there are two collections involved, thus the strategy for modelling their relationship is reference. The `Vehicle` collection uses _id (car_plate) as its primary key. The `Violation` collection has a car_plate field that serves as a foreign key reference to the `Vehicle` collection.\n",
    "* Referencing model is chosen here as the violation records are frequently inserted or updated in the streaming application. The only information related to the vehicle can be captured by the camera is the car_plate only. Therefore, the metadata of the vehicle is not frequently involved in the query in this context. Additionally, the metadata of the vehicle is relative static, referencing can avoid the duplicating of the metadata of the vehicle in the violation. This design introduces a join cost when querying vehicle information alongside violations, but the cost is manageable and justified by the benefit of avoiding data duplication and saving storage space. Storing vehicle metadata separately helps ensure consistency of vehicle information across all related records."
   ]
  },
  {
   "cell_type": "markdown",
   "id": "6d75d602",
   "metadata": {},
   "source": [
    "#### Camera and Violation\n",
    "* It is a many-to-many relationship between the `Camera` collection and the `Violation` collection. This means that one camera can be associated with multiple violation records in the `Violation` collection, and a single violation record can involve multiple cameras.\n",
    "* As there are two collection involved, thus the strategy for modeling their relationship is reference. The `Camera` collection uses _id (camera_id) as its primary key. The `Violation` collection has camera_id_start or camera_id_end fields in the violations array field  that serves as a foreign key reference to the `Camera` collection.\n",
    "* Referencing model is chosen here as the violation records are frequently inserted or updated in the streaming application. Only the camera id is record in the violation records as the camera data rarely change. The camera data is static and do not change frequently, thus this design can prevent the duplication of the camera information within the violation record. The join cost is acceptable than the storing cost to store duplicate data. This referencing model can ensure the consistency on the camera details, especially when the information of the camera need to change, and only need to update in the `Camera` collection. "
   ]
  },
  {
   "cell_type": "markdown",
   "id": "4477b347",
   "metadata": {},
   "source": [
    "#### Violation\n",
    "* In `Violation` collection, the specific violation detail is embedded in the model, instead of using referencing model to saparate the violation record details. \n",
    "* As one car one day only can have one document inside the `Violation` collection, thus the violations field is bounded to only capture the violation detail of the car within that day. \n",
    "* Each record in the violations array is unique and tightly couple with the car_plate and the date. An embedded model is chosen because the violation details are essential in the data analysis. Embedding can reduce the need for the join cost during the queries, and lead to a better performance to retriece data.\n",
    "* The combination of the car_plate and the date is unqiue and the violations array is unique to ensure the consistency of the data in this collection.\n",
    "* Two types of violations are stored within the violations array field, making it easier and more efficient to query and analyze total violations."
   ]
  },
  {
   "cell_type": "markdown",
   "id": "afdf84e8",
   "metadata": {},
   "source": [
    "### Task 1.3 Discussion"
   ]
  },
  {
   "cell_type": "markdown",
   "id": "fa52160b",
   "metadata": {},
   "source": [
    "* Consistency and Idempotency\n",
    "    * A unique compound index is applied to the combination of the car_plate and date fields to ensure that each vehicle can have at most one violation document per day. The uniqueness of the combination of car_plate and date ensure that when writing the violation of a certain car in the same day does not create duplicate document. Each violation is embedded under the violations array field. The violation details stored in the array are unique and this can be ensured by using the `addToSet` operation.\n",
    "    * Upsert pattern is used when inserting or updating the violation records in the straming application. When detecting a new violation record, the streaming application used the car_plate and date as the query key to write the violation record into the collections. If the document with that car_plate and date existed, the new violation detail is appended into the violations array of that document. Contrastively, if no such document exists, a new document with the car_plate and date is created and the violation detail is appended in the create document as well. \n",
    "\n",
    "* Scalability and Fault-Tolerance\n",
    "    * The data model is designed to support high ingest rates. The embedding of the violation details inside the same document can reduce the number of operation to write the violation into the multiple collections when comparing with the referencing model. Additionally, the `Violation` collection is sharded using the car_plate and date as the shard key. The data distibution can helps to balance the load and enable parallel processing to handle high ingest rates.\n",
    "    * The model supports low-latency lookups, especially to retieving all the violation records of a car on a specific date. The indexing on the car_plate and date fields help to achieve this to prevent the query search through all the documents in the collection. The embedded structure prevents the join cost if storing the violation details in other collections. \n",
    "\n",
    "* Justify and explain the trade-off made in your design\n",
    "    * Choosing the embedded model on the `Violation` collection avoids the expensive join cost. The data analysis is interested in the violation details, thus this embedded model can provide a better performance than the referencing model. The updatedAt timestamp is indexing to ensure a better reading performance on the latest data during the real-time data analysis. This design increases the size for a single document in the `Violation` collection. However, the violation is grouped by the car_plate and the date, thus it can ensur that the violations array field is bounded to only store the violation details happened in that specific date. This can help to reduce the risk of exceeding the document size limit in MongoDB.\n"
   ]
  },
  {
   "cell_type": "markdown",
   "id": "c487ffa2",
   "metadata": {},
   "source": [
    "### Required imports\n",
    "Ensure that the three utility Python files are downloaded and located in the same directory as this Jupyter notebook before importing them.\n",
    "- read_stream_utils.py\n",
    "- online_join_utils.py\n",
    "- mongo_sink.py"
   ]
  },
  {
   "cell_type": "code",
   "execution_count": 27,
   "id": "d9cc4e6d",
   "metadata": {},
   "outputs": [],
   "source": [
    "# Required library\n",
    "import os\n",
    "from pymongo import MongoClient, UpdateOne\n",
    "from pathlib import Path\n",
    "import pandas as pd\n",
    "from datetime import datetime as dt\n",
    "from pyspark.sql import SparkSession\n",
    "from pyspark.sql.functions import col\n",
    "from pyspark.sql.types import (\n",
    "    StructType, \n",
    "    StructField,\n",
    "    StringType,\n",
    "    IntegerType,\n",
    "    TimestampType,\n",
    "    DoubleType\n",
    ")\n",
    "from utils.read_stream_utils import read_stream, get_kafka_header, get_kafka_message\n",
    "from utils.online_join_utils import (\n",
    "    calculate_time_boundary,\n",
    "    stream_stream_join_event,\n",
    "    get_matched_stream,\n",
    "    get_violated_average_stream,\n",
    ")\n",
    "from utils.mongo_sink_utils import write_dropped_pairs, write_violations_to_mongo"
   ]
  },
  {
   "cell_type": "markdown",
   "id": "fd91dffe",
   "metadata": {},
   "source": [
    "## <span style=\"color:#0b486b\">Additional: MongoDB Data Model Implementation</span>\n",
    "\n",
    "This is an additional part used to setup the MongoDB collection using pymongo"
   ]
  },
  {
   "cell_type": "markdown",
   "id": "fcd44d60",
   "metadata": {},
   "source": [
    "#### Connect to MongoClient"
   ]
  },
  {
   "cell_type": "code",
   "execution_count": 30,
   "id": "ed071bc8",
   "metadata": {},
   "outputs": [],
   "source": [
    "# Basic configuration parameters\n",
    "database = \"fit3182_a2\"\n",
    "violation = \"violation\"\n",
    "camera = \"camera\"\n",
    "vehicle = \"vehicle\"\n",
    "HOST_IP = \"192.168.64.1\"\n",
    "PORT = 27017\n",
    "\n",
    "# Establish the connecttion to mongos\n",
    "client = MongoClient(HOST_IP, PORT)\n",
    "\n",
    "# Drop the database \n",
    "client.drop_database(database)\n",
    "\n",
    "# Enable sharding on the fit3182_a2 database\n",
    "client.admin.command(\"enableSharding\", database) "
   ]
  },
  {
   "cell_type": "markdown",
   "id": "7b2efd79",
   "metadata": {},
   "source": [
    "#### Declare variables for the collections in the database"
   ]
  },
  {
   "cell_type": "code",
   "execution_count": 31,
   "id": "0b474fb4",
   "metadata": {},
   "outputs": [],
   "source": [
    "violation_collection = client[database][violation]\n",
    "vehicle_collection = client[database][vehicle]\n",
    "camera_collection = client[database][camera]"
   ]
  },
  {
   "cell_type": "markdown",
   "id": "3bc6266d",
   "metadata": {},
   "source": [
    "#### Setup for the Violation collection\n",
    "\n",
    "Refer to [Indexes](https://www.mongodb.com/docs/manual/indexes/)\n",
    "\n",
    "Refer to [Shrad Keys](https://www.mongodb.com/docs/manual/core/sharding-shard-key/)"
   ]
  },
  {
   "cell_type": "code",
   "execution_count": 32,
   "id": "27e0af67",
   "metadata": {},
   "outputs": [
    {
     "data": {
      "text/plain": [
       "'updatedAt_1'"
      ]
     },
     "execution_count": 32,
     "metadata": {},
     "output_type": "execute_result"
    }
   ],
   "source": [
    "# Create index on 'violation' collection for ('car_plate', 'date') combination\n",
    "violation_collection.create_index(\n",
    "    [(\"car_plate\", 1), (\"date\", 1)],\n",
    "    unique = True\n",
    ")\n",
    "\n",
    "# Create index on 'violation' for updateAt field\n",
    "violation_collection.create_index([(\"updatedAt\", 1)])\n",
    "\n",
    "# Add sharded key for 'violation' collection\n",
    "client.admin.command(\n",
    "    \"shardCollection\", \n",
    "    f\"{database}.{violation}\", \n",
    "    key = {\"car_plate\": 1, \"date\": 1}\n",
    ")"
   ]
  },
  {
   "cell_type": "markdown",
   "id": "dd9f48a4",
   "metadata": {},
   "source": [
    "#### Load the CSV files to be written into the corresponding collections"
   ]
  },
  {
   "cell_type": "code",
   "execution_count": 33,
   "id": "0b13654a",
   "metadata": {},
   "outputs": [],
   "source": [
    "# Define the root directory for data files\n",
    "root_dir = Path(\"data\")\n",
    "\n",
    "# Load the CSV files using pandas\n",
    "camera = pd.read_csv(root_dir / \"camera.csv\")\n",
    "vehicle = pd.read_csv(root_dir / \"vehicle.csv\")\n",
    "violation = pd.read_csv(root_dir / \"camera_event_historic.csv\")"
   ]
  },
  {
   "cell_type": "markdown",
   "id": "ffc2d5d5",
   "metadata": {},
   "source": [
    "#### Build the Camera collection in the database"
   ]
  },
  {
   "cell_type": "code",
   "execution_count": 34,
   "id": "562e43fa",
   "metadata": {},
   "outputs": [
    {
     "data": {
      "text/plain": [
       "InsertManyResult([1, 2, 3], acknowledged=True)"
      ]
     },
     "execution_count": 34,
     "metadata": {},
     "output_type": "execute_result"
    }
   ],
   "source": [
    "# Convert the camera dataframe to list of dictionaries\n",
    "camera_records = camera.to_dict(orient=\"records\")\n",
    "\n",
    "# Rename the column camera_id to _id\n",
    "for r in camera_records:\n",
    "    r[\"_id\"] = r.pop(\"camera_id\")\n",
    "    \n",
    "# Insert camera data into the Camera collection\n",
    "camera_collection.insert_many(camera_records)"
   ]
  },
  {
   "cell_type": "markdown",
   "id": "36adc777",
   "metadata": {},
   "source": [
    "#### Build the Vehicle collection in the database"
   ]
  },
  {
   "cell_type": "code",
   "execution_count": 35,
   "id": "ccd8a87f",
   "metadata": {},
   "outputs": [
    {
     "data": {
      "text/plain": [
       "InsertManyResult(['AA 1', 'AA 157', 'AA 32', 'AA 3607', 'AA 499', 'AA 50', 'AA 501', 'AA 556', 'AA 80', 'AA 93', 'AAC 835', 'AAO 08', 'AAP 3294', 'AAU 24', 'AAU 7147', 'AAV 14', 'AAV 9257', 'AB 0', 'AB 05', 'AB 0896', 'AB 114', 'AB 371', 'AB 7', 'AB 9', 'ABA 2', 'ABD 9', 'ABD 90', 'ABO 2', 'ABY 4', 'ABZ 3936', 'AC 372', 'AC 4295', 'AC 55', 'AC 6', 'AC 6862', 'AC 74', 'AC 7429', 'AC 9', 'ACA 705', 'ACC 168', 'ACF 790', 'ACM 02', 'ACN 411', 'ACQ 5073', 'ACR 12', 'ACR 273', 'ACT 8', 'ACY 089', 'AD 019', 'AD 2453', 'AD 246', 'AD 35', 'AD 5218', 'AD 6412', 'AD 8', 'AD 9374', 'ADF 7514', 'ADH 04', 'ADQ 91', 'ADR 04', 'ADU 916', 'ADZ 39', 'AE 07', 'AE 135', 'AE 38', 'AE 439', 'AE 504', 'AE 51', 'AE 691', 'AE 8', 'AE 822', 'AE 831', 'AE 91', 'AE 99', 'AEI 23', 'AEQ 56', 'AET 713', 'AF 3478', 'AF 6', 'AF 6128', 'AF 62', 'AF 8', 'AF 84', 'AF 89', 'AFB 1', 'AFE 364', 'AFP 3', 'AFS 0', 'AFW 912', 'AG 0', 'AG 050', 'AG 07', 'AG 10', 'AG 2', 'AG 2010', 'AG 6', 'AG 8571', 'AG 86', 'AG 9300', 'AGA 47', 'AGC 291', 'AGC 9507', 'AGI 386', 'AGJ 7680', 'AGN 388', 'AH 0', 'AH 06', 'AH 0762', 'AH 2298', 'AH 614', 'AH 693', 'AH 8', 'AHE 1', 'AHH 2', 'AHP 9', 'AHR 224', 'AHS 307', 'AHT 286', 'AI 2', 'AI 23', 'AI 3', 'AI 3825', 'AI 394', 'AI 9', 'AIE 1', 'AII 2', 'AIX 51', 'AIY 566', 'AJ 0', 'AJ 2', 'AJ 27', 'AJ 4', 'AJ 4825', 'AJ 5935', 'AJ 8925', 'AJ 9', 'AJB 6689', 'AJH 0', 'AJL 92', 'AJN 5', 'AJO 80', 'AJU 167', 'AK 11', 'AK 3', 'AK 35', 'AK 526', 'AK 8', 'AK 8828', 'AKM 1', 'AKM 2', 'AKP 5', 'AKZ 395', 'AKZ 72', 'AL 0', 'AL 006', 'AL 329', 'AL 40', 'AL 5793', 'AL 63', 'AL 6998', 'ALB 3', 'ALD 557', 'ALE 76', 'ALG 3', 'ALN 5', 'ALO 9439', 'ALQ 913', 'ALZ 0', 'AM 019', 'AM 114', 'AM 191', 'AM 4', 'AM 41', 'AM 44', 'AM 5', 'AM 51', 'AM 9547', 'AMB 4', 'AMD 7', 'AMG 316', 'AMJ 15', 'AML 140', 'AMR 7865', 'AMW 1', 'AMY 8', 'AMZ 9828', 'AN 0', 'AN 10', 'AN 378', 'AN 5634', 'AN 69', 'AN 73', 'AN 84', 'AN 98', 'ANF 57', 'ANO 44', 'ANS 184', 'AO 371', 'AO 5261', 'AO 659', 'AO 892', 'AO 9089', 'AOB 2551', 'AOB 58', 'AOL 1874', 'AOO 2666', 'AOR 9949', 'AOS 936', 'AOT 088', 'AOX 7', 'AP 0019', 'AP 02', 'AP 124', 'AP 2', 'AP 389', 'AP 455', 'AP 5', 'AP 52', 'AP 8', 'AP 9', 'APB 34', 'APJ 16', 'APL 59', 'APM 3969', 'APO 9', 'APQ 278', 'APT 8', 'APU 41', 'APV 821', 'AQ 039', 'AQ 53', 'AQA 79', 'AQC 1', 'AQD 47', 'AQS 112', 'AQT 3244', 'AR 049', 'AR 1754', 'AR 3', 'AR 370', 'AR 47', 'AR 5', 'AR 56', 'AR 970', 'ARC 135', 'ARD 5', 'ARF 53', 'ARG 984', 'ARK 5069', 'ARK 577', 'ARK 605', 'ARL 255', 'ARL 84', 'ARM 020', 'ARM 207', 'ARN 23', 'ARP 4', 'ARQ 7693', 'ARX 7573', 'AS 2', 'AS 313', 'AS 4', 'AS 470', 'AS 5', 'AS 791', 'AS 9', 'ASD 95', 'ASJ 637', 'ASM 29', 'ASO 650', 'ASQ 60', 'ASR 305', 'ASR 8', 'ASW 042', 'ASW 4', 'ASX 8980', 'AT 0', 'AT 2', 'AT 323', 'AT 3397', 'AT 4243', 'AT 4893', 'AT 7', 'AT 85', 'AT 866', 'AT 9', 'ATA 479', 'ATA 65', 'ATH 68', 'ATI 6', 'ATJ 39', 'ATT 42', 'ATU 6683', 'ATW 8886', 'AU 0', 'AU 10', 'AU 359', 'AU 656', 'AU 938', 'AUA 8', 'AUF 3', 'AUO 3', 'AUY 2109', 'AV 2193', 'AV 233', 'AV 394', 'AV 489', 'AV 593', 'AV 8', 'AV 8803', 'AVI 4', 'AVJ 65', 'AVK 647', 'AVL 637', 'AVL 666', 'AVO 8431', 'AVX 1481', 'AW 00', 'AW 10', 'AW 4335', 'AW 5483', 'AW 8', 'AW 937', 'AW 965', 'AWE 8959', 'AWI 67', 'AWN 63', 'AWP 66', 'AWW 2', 'AWW 8', 'AX 0692', 'AX 10', 'AX 18', 'AX 25', 'AX 5967', 'AX 6', 'AX 7', 'AX 852', 'AXA 13', 'AXE 0', 'AXE 976', 'AXG 7', 'AXJ 8259', 'AXL 4196', 'AXN 8215', 'AXW 7', 'AXX 773', 'AY 1', 'AY 236', 'AY 26', 'AY 4552', 'AY 610', 'AY 8', 'AY 86', 'AY 89', 'AYD 39', 'AYM 093', 'AYT 04', 'AYU 03', 'AYU 2', 'AYW 417', 'AZ 0', 'AZ 1448', 'AZ 39', 'AZ 4838', 'AZ 62', 'AZ 82', 'AZ 9', 'AZ 9424', 'AZE 1', 'AZH 16', 'AZJ 968', 'AZN 5', 'AZQ 5117', 'AZV 19', 'BA 0', 'BA 1155', 'BA 38', 'BAL 3', 'BAU 09', 'BAX 137', 'BB 1', 'BB 122', 'BB 420', 'BB 46', 'BB 507', 'BB 5193', 'BB 7823', 'BB 8', 'BBN 9500', 'BBR 5992', 'BBU 7692', 'BBW 84', 'BC 101', 'BC 11', 'BC 2272', 'BC 38', 'BC 5', 'BC 56', 'BC 6417', 'BC 8860', 'BC 976', 'BCE 916', 'BCF 813', 'BCF 928', 'BCI 840', 'BCJ 210', 'BCO 504', 'BCP 201', 'BCR 89', 'BCU 9', 'BCV 18', 'BCV 5', 'BCY 9701', 'BCZ 29', 'BD 0', 'BD 395', 'BD 4207', 'BD 6', 'BD 62', 'BD 7574', 'BDG 74', 'BDK 82', 'BDR 384', 'BDR 4', 'BDT 257', 'BDW 9', 'BE 031', 'BE 1', 'BEC 5', 'BEI 1', 'BEI 25', 'BEO 1', 'BEP 4989', 'BEX 31', 'BF 11', 'BF 219', 'BF 228', 'BF 3159', 'BF 403', 'BF 68', 'BF 83', 'BF 8545', 'BF 9514', 'BF 9653', 'BFC 573', 'BFJ 352', 'BFL 2', 'BFN 95', 'BFQ 819', 'BFS 206', 'BFU 81', 'BG 103', 'BG 1773', 'BG 276', 'BG 4', 'BG 5550', 'BGO 7', 'BGS 6588', 'BGT 0146', 'BGT 53', 'BGT 65', 'BGU 6', 'BGX 0800', 'BGX 65', 'BH 05', 'BH 3', 'BH 3940', 'BH 447', 'BH 5', 'BH 7', 'BH 7280', 'BH 804', 'BH 9', 'BHA 75', 'BHH 80', 'BHI 58', 'BHK 0265', 'BHL 7171', 'BHY 18', 'BI 13', 'BI 181', 'BI 330', 'BI 56', 'BI 798', 'BI 8588', 'BIA 459', 'BIC 0261', 'BIH 84', 'BIJ 904', 'BIO 7', 'BIP 735', 'BJ 2988', 'BJ 3', 'BJ 30', 'BJ 4', 'BJ 5757', 'BJB 02', 'BJK 8', 'BJS 3', 'BJT 40', 'BJV 0', 'BJV 6445', 'BJY 746', 'BJZ 955', 'BK 0', 'BK 12', 'BK 13', 'BK 7164', 'BKB 07', 'BKC 811', 'BKD 07', 'BKD 6091', 'BKE 4', 'BKK 6', 'BKL 520', 'BKL 96', 'BKN 8316', 'BKR 528', 'BKR 949', 'BKU 1412', 'BKZ 00', 'BL 099', 'BL 10', 'BL 387', 'BL 5078', 'BL 75', 'BL 8', 'BLA 3396', 'BLA 7945', 'BLD 30', 'BLP 60', 'BM 0020', 'BM 1', 'BM 49', 'BM 5', 'BM 6', 'BM 885', 'BM 9780', 'BMB 65', 'BMH 6', 'BMK 0812', 'BMR 20', 'BN 1719', 'BN 2', 'BN 347', 'BN 4004', 'BN 4357', 'BN 49', 'BN 7', 'BN 836', 'BN 839', 'BN 92', 'BND 00', 'BNF 434', 'BNH 3', 'BNJ 1880', 'BNN 5', 'BNN 6', 'BNN 8', 'BNQ 6', 'BNV 194', 'BNW 92', 'BO 0', 'BO 01', 'BO 13', 'BO 3265', 'BO 4', 'BO 457', 'BO 673', 'BO 97', 'BO 9925', 'BO 9988', 'BOD 5962', 'BOF 016', 'BOF 419', 'BOL 09', 'BOP 4', 'BOP 742', 'BOQ 3', 'BOQ 55', 'BOS 2', 'BOV 22', 'BP 0', 'BP 5', 'BPF 229', 'BPG 5360', 'BPP 3', 'BPP 8', 'BPS 880', 'BPV 0250', 'BPV 75', 'BQ 1', 'BQ 5958', 'BQ 76', 'BQ 8582', 'BQ 868', 'BQ 948', 'BQF 50', 'BQH 807', 'BQI 0', 'BQK 2', 'BQN 231', 'BQN 88', 'BQP 8143', 'BQU 2', 'BQV 376', 'BQY 106', 'BQY 47', 'BQY 532', 'BR 164', 'BR 361', 'BR 3815', 'BR 4658', 'BR 5', 'BR 5778', 'BR 719', 'BR 928', 'BR 982', 'BRB 080', 'BRB 41', 'BRE 534', 'BRG 2120', 'BRG 9', 'BRK 749', 'BRN 6', 'BRP 0713', 'BRP 3', 'BRQ 9', 'BRW 031', 'BS 03', 'BS 0694', 'BS 4', 'BS 506', 'BS 8', 'BS 80', 'BSH 5', 'BSI 7780', 'BSJ 003', 'BSN 0389', 'BT 0', 'BT 31', 'BT 6392', 'BT 7373', 'BT 87', 'BT 904', 'BT 929', 'BT 974', 'BTA 1954', 'BTC 8910', 'BTJ 68', 'BTM 250', 'BTX 49', 'BU 016', 'BU 024', 'BU 14', 'BU 16', 'BU 4', 'BU 6339', 'BU 690', 'BU 7440', 'BU 83', 'BU 9', 'BUB 647', 'BUC 9', 'BUD 40', 'BUL 38', 'BUR 5', 'BUV 4934', 'BV 027', 'BV 09', 'BV 134', 'BV 2', 'BV 4', 'BV 837', 'BV 909', 'BVC 72', 'BVN 316', 'BVQ 15', 'BVX 7', 'BVZ 92', 'BW 0159', 'BW 10', 'BW 8', 'BW 97', 'BWD 569', 'BWH 433', 'BWH 7007', 'BWN 6', 'BWP 81', 'BWR 198', 'BWT 1893', 'BWZ 3', 'BX 108', 'BX 2754', 'BX 303', 'BX 32', 'BX 3852', 'BXH 8', 'BXM 4127', 'BXM 99', 'BXT 0145', 'BXX 03', 'BXY 30', 'BY 099', 'BY 3347', 'BY 7', 'BY 9', 'BY 969', 'BY 978', 'BYE 030', 'BYF 81', 'BYG 62', 'BYL 8258', 'BYR 5819', 'BYT 450', 'BYW 6110', 'BYX 81', 'BYZ 64', 'BZ 016', 'BZ 0842', 'BZ 1', 'BZ 3100', 'BZ 358', 'BZ 4', 'BZ 455', 'BZ 615', 'BZ 646', 'BZ 6499', 'BZ 85', 'BZA 3293', 'BZA 459', 'BZF 0760', 'BZH 5', 'BZH 67', 'BZL 84', 'BZS 4721', 'BZT 8959', 'BZW 135', 'CA 3', 'CA 346', 'CA 4', 'CA 42', 'CA 55', 'CA 6', 'CA 9', 'CAA 2354', 'CAJ 5048', 'CAQ 8', 'CAT 2', 'CAV 730', 'CAV 8269', 'CAW 1', 'CAW 930', 'CAX 65', 'CB 0', 'CB 072', 'CB 1', 'CB 1070', 'CB 2', 'CB 3', 'CB 44', 'CB 4416', 'CB 6', 'CB 7', 'CB 95', 'CB 9868', 'CBF 21', 'CBF 7898', 'CBJ 5645', 'CBN 5', 'CBO 86', 'CBV 1', 'CBX 4', 'CC 011', 'CC 0903', 'CC 2097', 'CC 250', 'CC 261', 'CC 4', 'CC 675', 'CC 8', 'CC 8557', 'CC 990', 'CCQ 93', 'CCW 608', 'CD 023', 'CD 181', 'CD 2', 'CD 5232', 'CD 6', 'CD 767', 'CD 8184', 'CD 874', 'CD 9', 'CDC 5', 'CDC 5769', 'CDG 4', 'CDK 37', 'CDS 8', 'CDU 549', 'CDV 41', 'CDZ 92', 'CE 0', 'CE 432', 'CE 4436', 'CE 5275', 'CE 6', 'CE 7548', 'CEF 8', 'CEH 0', 'CEK 211', 'CEL 4763', 'CEL 83', 'CEN 209', 'CEY 15', 'CF 03', 'CF 1', 'CF 1188', 'CF 4959', 'CF 51', 'CF 565', 'CF 5864', 'CF 8', 'CF 870', 'CF 94', 'CFD 5', 'CFE 34', 'CFG 190', 'CFG 84', 'CFI 7147', 'CFJ 8', 'CFL 3435', 'CFN 6', 'CFX 585', 'CG 3', 'CG 4', 'CG 453', 'CG 65', 'CG 7', 'CGA 8285', 'CGD 0', 'CGE 2939', 'CGK 0029', 'CGQ 816', 'CGT 33', 'CGU 6373', 'CGV 33', 'CGY 64', 'CH 17', 'CH 3', 'CH 30', 'CH 39', 'CH 5', 'CH 581', 'CH 68', 'CH 7', 'CH 808', 'CH 8660', 'CH 873', 'CH 9', 'CH 92', 'CHB 848', 'CHE 83', 'CHF 300', 'CHI 251', 'CHR 8100', 'CHS 3154', 'CHY 5573', 'CI 20', 'CI 22', 'CI 5419', 'CI 66', 'CI 7', 'CI 964', 'CI 9861', 'CIC 1', 'CIF 4', 'CIF 7716', 'CIW 8964', 'CIY 810', 'CJ 22', 'CJ 496', 'CJ 55', 'CJ 6', 'CJ 65', 'CJ 8', 'CJ 8295', 'CJ 9', 'CJB 046', 'CJC 4589', 'CJG 28', 'CJN 24', 'CJP 278', 'CJS 1', 'CJS 75', 'CJU 28', 'CJW 924', 'CK 11', 'CK 2', 'CK 2366', 'CK 3', 'CK 3415', 'CK 378', 'CK 5745', 'CK 6826', 'CK 71', 'CK 7324', 'CK 8', 'CK 821', 'CK 860', 'CK 9', 'CKB 8', 'CKI 2', 'CKI 86', 'CKN 41', 'CKN 72', 'CKP 44', 'CKU 030', 'CL 207', 'CL 4', 'CL 5733', 'CL 6', 'CL 863', 'CLJ 52', 'CM 1', 'CM 7181', 'CM 8', 'CM 8026', 'CM 99', 'CMB 20', 'CMB 36', 'CME 710', 'CMP 20', 'CMU 08', 'CMZ 113', 'CMZ 9', 'CN 1737', 'CN 36', 'CN 6754', 'CN 6763', 'CN 736', 'CN 85', 'CN 9', 'CN 9607', 'CNF 76', 'CNJ 625', 'CNT 97', 'CNW 081', 'CO 0', 'CO 12', 'CO 17', 'CO 5', 'CO 6', 'CO 669', 'CO 738', 'CO 82', 'CO 9', 'COB 037', 'COE 49', 'COG 31', 'CON 1846', 'COP 0566', 'COP 845', 'COP 98', 'COQ 14', 'COQ 818', 'COS 1', 'COX 4', 'CP 03', 'CP 171', 'CP 3', 'CP 350', 'CP 3822', 'CP 49', 'CP 5', 'CP 65', 'CP 7', 'CP 993', 'CPB 387', 'CPF 11', 'CPH 6187', 'CPN 275', 'CPP 8195', 'CPV 595', 'CPX 5', 'CPX 9', 'CPY 4', 'CQ 0', 'CQ 07', 'CQ 1225', 'CQ 13', 'CQ 1425', 'CQ 362', 'CQ 3981', 'CQ 9', 'CQ 96', 'CQB 79', 'CQD 489', 'CQF 9', 'CQQ 6875', 'CQR 78', 'CQV 73', 'CR 1978', 'CR 2', 'CR 28', 'CR 3597', 'CR 4343', 'CR 50', 'CR 5214', 'CR 7', 'CR 9', 'CR 984', 'CRB 368', 'CRF 723', 'CRG 271', 'CRK 8', 'CRP 0364', 'CRQ 6', 'CRS 61', 'CRT 639', 'CRU 95', 'CS 20', 'CS 3', 'CS 3457', 'CS 375', 'CS 5', 'CS 67', 'CS 75', 'CSD 71', 'CSI 51', 'CSK 907', 'CSL 787', 'CSO 36', 'CST 5', 'CSU 5591', 'CSY 365', 'CT 127', 'CT 2', 'CT 3', 'CT 33', 'CT 502', 'CT 7590', 'CT 852', 'CT 9385', 'CT 9753', 'CTD 8997', 'CTL 2', 'CTM 52', 'CTN 102', 'CTP 8', 'CTQ 4', 'CTR 03', 'CTT 66', 'CTW 206', 'CTX 780', 'CU 0254', 'CU 131', 'CU 189', 'CU 471', 'CU 605', 'CU 64', 'CU 7', 'CU 7148', 'CU 8', 'CUC 6', 'CUD 29', 'CUG 712', 'CUU 912', 'CUV 9', 'CV 321', 'CV 5608', 'CV 6', 'CV 841', 'CV 938', 'CVE 252', 'CVE 9987', 'CVK 74', 'CVQ 37', 'CVW 57', 'CVX 3', 'CW 143', 'CW 2', 'CW 217', 'CW 4072', 'CW 4152', 'CW 48', 'CW 6', 'CW 60', 'CW 65', 'CW 7', 'CWA 937', 'CWL 366', 'CWR 823', 'CWS 4622', 'CWT 0058', 'CWY 82', 'CWZ 06', 'CX 46', 'CX 6', 'CX 6145', 'CX 62', 'CX 861', 'CXB 926', 'CXD 617', 'CXF 993', 'CXL 5', 'CXT 1955', 'CXT 287', 'CXX 7862', 'CXX 823', 'CY 0686', 'CY 21', 'CY 645', 'CY 77', 'CY 826', 'CY 9400', 'CYF 7769', 'CYL 50', 'CYO 6460', 'CYQ 1359', 'CYQ 410', 'CYV 6', 'CYY 7018', 'CZ 03', 'CZ 083', 'CZ 592', 'CZ 8942', 'CZ 9532', 'CZ 994', 'CZT 9', 'DA 06', 'DA 0910', 'DA 2', 'DA 227', 'DA 83', 'DAB 382', 'DAC 6', 'DAC 78', 'DAG 04', 'DAK 5', 'DAW 165', 'DB 20', 'DB 27', 'DB 325', 'DB 338', 'DB 4', 'DB 5', 'DB 53', 'DB 6827', 'DB 9', 'DB 985', 'DBA 002', 'DBB 4', 'DBF 451', 'DBL 56', 'DBQ 6300', 'DBV 2', 'DBW 5175', 'DBX 5', 'DC 0', 'DC 059', 'DC 144', 'DC 3004', 'DC 307', 'DC 7010', 'DC 8', 'DC 9', 'DCI 250', 'DCL 31', 'DCN 2304', 'DCY 0', 'DD 218', 'DD 3', 'DD 545', 'DD 58', 'DD 9', 'DDR 5912', 'DDS 1686', 'DDS 5', 'DDZ 6278', 'DE 173', 'DE 3421', 'DE 423', 'DE 5', 'DE 5412', 'DE 95', 'DEJ 7', 'DEK 1077', 'DEK 3', 'DEL 3354', 'DEL 341', 'DEL 566', 'DEL 71', 'DEN 1', 'DEQ 11', 'DEU 0', 'DEV 3', 'DEW 34', 'DF 1', 'DF 30', 'DF 36', 'DF 475', 'DF 50', 'DF 61', 'DF 93', 'DFQ 12', 'DFT 05', 'DFT 9424', 'DFV 91', 'DFY 06', 'DG 0854', 'DG 1751', 'DG 1808', 'DG 2', 'DG 61', 'DG 65', 'DGC 4604', 'DGF 1', 'DGG 0813', 'DGI 0', 'DGN 3', 'DGP 3160', 'DGP 8287', 'DGR 5619', 'DGT 19', 'DGT 3036', 'DGV 5968', 'DH 05', 'DH 2', 'DH 4', 'DH 438', 'DH 51', 'DH 620', 'DH 960', 'DHE 98', 'DHF 332', 'DHJ 521', 'DHK 9022', 'DHM 6558', 'DHT 768', 'DHW 01', 'DHX 08', 'DI 053', 'DI 2', 'DI 29', 'DI 6', 'DI 6374', 'DI 77', 'DI 9', 'DIB 0', 'DIC 7', 'DIC 821', 'DIG 136', 'DIM 2466', 'DIN 8197', 'DIY 8836', 'DJ 17', 'DJ 22', 'DJ 229', 'DJ 3', 'DJ 5', 'DJ 7805', 'DJ 842', 'DJ 9', 'DJD 232', 'DJE 247', 'DJF 259', 'DJL 1', 'DJO 1289', 'DJP 8', 'DJU 2435', 'DJY 8159', 'DJZ 0998', 'DK 059', 'DK 2', 'DK 311', 'DK 5475', 'DK 6977', 'DKC 89', 'DKD 755', 'DKG 4', 'DKH 12', 'DKS 4338', 'DKT 752', 'DKW 626', 'DKZ 3315', 'DL 08', 'DL 23', 'DL 27', 'DL 34', 'DL 35', 'DL 5278', 'DL 6204', 'DL 6786', 'DL 807', 'DL 9798', 'DLA 1', 'DLH 2835', 'DLI 569', 'DLJ 3199', 'DLP 436', 'DLU 67', 'DLW 1263', 'DLW 92', 'DLX 5534', 'DM 245', 'DM 2466', 'DM 4531', 'DM 527', 'DML 614', 'DN 0452', 'DN 1', 'DN 14', 'DN 1867', 'DN 234', 'DN 609', 'DN 7151', 'DN 79', 'DNE 637', 'DNH 9', 'DNL 3', 'DNP 0', 'DNV 48', 'DNY 2538', 'DO 1', 'DO 2', 'DO 4', 'DO 598', 'DO 602', 'DO 74', 'DO 76', 'DOE 0901', 'DOQ 0', 'DOR 6', 'DOT 2628', 'DP 2', 'DP 3282', 'DP 4', 'DP 41', 'DP 52', 'DP 548', 'DP 7', 'DP 72', 'DP 84', 'DP 906', 'DPF 1', 'DPH 0', 'DPN 333', 'DPX 660', 'DPX 8313', 'DPY 2', 'DQ 0', 'DQ 154', 'DQ 2', 'DQ 3', 'DQ 3453', 'DQ 346', 'DQ 436', 'DQ 5', 'DQ 8142', 'DQC 7', 'DQG 6317', 'DQK 4850', 'DQQ 13', 'DQQ 5799', 'DQS 7420', 'DQY 2479', 'DQZ 793', 'DR 0', 'DR 2', 'DR 5373', 'DR 6', 'DRF 2', 'DRH 0', 'DRQ 6623', 'DRS 46', 'DRS 92', 'DRV 7', 'DRY 847', 'DRZ 54', 'DS 070', 'DS 08', 'DS 38', 'DS 4', 'DS 4207', 'DS 53', 'DS 6', 'DS 9419', 'DS 9717', 'DSC 80', 'DSD 320', 'DSF 8302', 'DSH 0', 'DSR 131', 'DT 2729', 'DT 3', 'DT 369', 'DT 4504', 'DT 5002', 'DT 8', 'DT 83', 'DT 970', 'DTA 8923', 'DTN 5228', 'DTO 4', 'DTS 99', 'DTU 2989', 'DTX 510', 'DTZ 095', 'DU 0', 'DU 08', 'DU 19', 'DU 3', 'DU 4477', 'DU 62', 'DU 7', 'DU 725', 'DU 9192', 'DUA 4', 'DUC 43', 'DUD 220', 'DUG 52', 'DUJ 7', 'DUR 42', 'DUR 63', 'DUX 695', 'DUY 2', 'DV 1', 'DV 537', 'DVA 62', 'DVA 7801', 'DVA 980', 'DVC 1', 'DVI 578', 'DVN 1', 'DVN 6', 'DVN 7852', 'DVO 4', 'DVW 0859', 'DVX 2', 'DW 091', 'DW 11', 'DW 3', 'DW 458', 'DW 47', 'DW 496', 'DW 74', 'DW 8023', 'DW 82', 'DW 9', 'DWI 70', 'DWQ 20', 'DWR 88', 'DWT 789', 'DWW 1773', 'DWY 98', 'DX 00', 'DX 02', 'DX 207', 'DX 63', 'DXA 9559', 'DXK 5', 'DXO 0236', 'DXO 3', 'DXO 3581', 'DXQ 942', 'DXT 0', 'DXV 1', 'DXZ 916', 'DY 0135', 'DY 04', 'DY 34', 'DY 46', 'DY 479', 'DY 6424', 'DY 6967', 'DY 990', 'DYA 819', 'DYD 43', 'DYG 0', 'DYS 9', 'DYU 57', 'DYW 961', 'DZ 024', 'DZ 097', 'DZ 1379', 'DZ 1694', 'DZ 367', 'DZ 4', 'DZ 6626', 'DZ 9', 'DZ 9242', 'DZ 970', 'DZA 780', 'DZE 7', 'DZF 99', 'DZI 174', 'DZN 876', 'DZS 26', 'DZU 04', 'DZV 285', 'EA 045', 'EA 4', 'EA 5', 'EAE 80', 'EAI 097', 'EAL 37', 'EAN 4', 'EAO 1', 'EAQ 4', 'EAV 6282', 'EB 08', 'EB 1', 'EB 266', 'EB 2693', 'EB 6039', 'EB 8272', 'EB 857', 'EB 9', 'EB 9261', 'EBF 0', 'EBI 2257', 'EBL 8', 'EBR 703', 'EBT 690', 'EBX 2176', 'EBX 3045', 'EBX 34', 'EBZ 5064', 'EC 0099', 'EC 20', 'EC 22', 'EC 233', 'EC 4', 'EC 40', 'EC 5125', 'EC 6855', 'ECI 27', 'ECJ 8', 'ECO 4', 'ECQ 52', 'ECV 7', 'ED 0', 'ED 0391', 'ED 29', 'ED 3', 'ED 4', 'ED 5195', 'ED 63', 'ED 7060', 'ED 90', 'ED 98', 'EDB 304', 'EDC 34', 'EDD 41', 'EDE 9802', 'EDQ 002', 'EDQ 0606', 'EDS 0', 'EDS 917', 'EDW 8502', 'EDX 206', 'EDY 3855', 'EE 4689', 'EE 47', 'EE 553', 'EE 567', 'EE 6852', 'EE 686', 'EE 846', 'EEA 56', 'EEE 5439', 'EEF 29', 'EEI 7', 'EEL 1883', 'EEN 410', 'EF 0634', 'EF 2', 'EF 304', 'EF 37', 'EF 4', 'EF 590', 'EF 610', 'EF 6115', 'EF 950', 'EFB 84', 'EFP 6705', 'EFR 8138', 'EFS 4', 'EFW 664', 'EFZ 2', 'EG 058', 'EG 20', 'EG 219', 'EG 2428', 'EG 2677', 'EG 46', 'EG 6314', 'EG 9378', 'EGA 118', 'EGA 624', 'EGE 68', 'EGI 1', 'EGL 9904', 'EH 01', 'EH 11', 'EH 45', 'EH 6', 'EHD 7715', 'EHE 6240', 'EHE 9', 'EHF 4', 'EHH 90', 'EHL 5953', 'EHL 7055', 'EHP 87', 'EHQ 563', 'EI 1', 'EI 1737', 'EI 282', 'EI 3689', 'EI 4', 'EI 9', 'EIF 75', 'EIF 9', 'EIJ 4250', 'EIO 986', 'EIQ 08', 'EIQ 917', 'EJ 033', 'EJ 1926', 'EJ 4779', 'EJ 683', 'EJ 709', 'EJ 7670', 'EJO 080', 'EJR 0', 'EJT 1972', 'EK 132', 'EK 7', 'EKB 3610', 'EKD 289', 'EKI 11', 'EKN 4801', 'EKV 7', 'EKW 743', 'EL 036', 'EL 1', 'EL 1381', 'EL 159', 'EL 17', 'EL 480', 'EL 81', 'EL 9320', 'ELE 4', 'ELG 0595', 'ELM 0', 'ELR 3', 'EM 00', 'EM 28', 'EM 3077', 'EM 45', 'EM 4841', 'EM 57', 'EM 6907', 'EM 79', 'EM 9', 'EM 93', 'EME 8221', 'EMM 37', 'EMN 02', 'EMT 269', 'EMT 512', 'EMZ 643', 'EN 1', 'EN 186', 'EN 5208', 'EN 549', 'EN 76', 'EN 8945', 'EN 96', 'ENF 442', 'ENL 455', 'ENN 0204', 'ENP 46', 'ENV 9034', 'ENW 80', 'ENX 71', 'EO 0', 'EO 2908', 'EO 472', 'EO 700', 'EO 814', 'EO 9', 'EOA 100', 'EOB 0465', 'EOC 143', 'EOJ 641', 'EOT 00', 'EP 05', 'EP 206', 'EP 358', 'EP 3742', 'EP 41', 'EP 64', 'EP 692', 'EP 870', 'EP 9274', 'EP 93', 'EPB 6', 'EPG 88', 'EPK 7', 'EPU 630', 'EPU 7399', 'EPU 77', 'EPW 119', 'EPW 3', 'EPW 468', 'EQ 2', 'EQ 4734', 'EQ 71', 'EQ 78', 'EQ 789', 'EQ 99', 'EQB 4054', 'EQI 22', 'EQR 0', 'EQR 125', 'EQR 8613', 'EQT 781', 'ER 0303', 'ER 1427', 'ER 281', 'ER 512', 'ER 517', 'ER 6', 'ER 9430', 'ERA 3', 'ERD 69', 'ERF 113', 'ERH 28', 'ERJ 9749', 'ERY 42', 'ES 3307', 'ES 353', 'ES 4', 'ES 416', 'ES 8542', 'ESA 2969', 'EST 2505', 'EST 59', 'ET 0', 'ET 08', 'ET 2338', 'ET 3', 'ET 703', 'ET 9334', 'ET 97', 'ETB 2087', 'ETE 15', 'ETT 9284', 'ETX 27', 'ETY 78', 'EU 051', 'EU 17', 'EU 19', 'EU 2', 'EU 20', 'EU 5', 'EU 530', 'EU 6', 'EU 6398', 'EU 7', 'EU 9', 'EUH 625', 'EUI 161', 'EUK 1', 'EUS 1122', 'EUS 886', 'EUV 484', 'EUV 7', 'EUW 5767', 'EUW 9274', 'EV 03', 'EV 29', 'EV 292', 'EV 388', 'EV 5919', 'EV 7', 'EV 8', 'EVE 6', 'EVI 89', 'EVM 0', 'EW 1', 'EW 113', 'EW 324', 'EW 3390', 'EW 5', 'EW 6', 'EW 71', 'EW 8253', 'EWI 8144', 'EWM 3', 'EWP 3', 'EWQ 43', 'EWV 698', 'EWY 4128', 'EX 2', 'EX 2523', 'EX 28', 'EX 366', 'EX 4', 'EX 486', 'EX 51', 'EX 6334', 'EX 8920', 'EXE 817', 'EXF 6', 'EXF 9', 'EXQ 2', 'EXX 14', 'EY 074', 'EY 1', 'EY 2', 'EY 3628', 'EY 4543', 'EY 51', 'EY 604', 'EY 7', 'EY 83', 'EYM 07', 'EYM 4225', 'EYN 2', 'EYS 162', 'EYT 0', 'EZ 0325', 'EZ 2078', 'EZ 382', 'EZ 5280', 'EZ 5406', 'EZ 6277', 'EZA 9', 'EZC 553', 'EZF 1', 'EZK 37', 'EZK 8039', 'EZL 6', 'EZV 9542', 'EZX 371', 'FA 160', 'FA 27', 'FA 318', 'FA 35', 'FA 5981', 'FA 8', 'FA 8523', 'FA 8935', 'FAB 243', 'FAF 572', 'FAJ 5', 'FAM 2456', 'FAP 2', 'FAP 892', 'FAQ 91', 'FAT 021', 'FAU 2', 'FAX 4', 'FAY 3010', 'FAY 6', 'FAZ 2204', 'FB 07', 'FB 182', 'FB 40', 'FB 452', 'FB 46', 'FB 530', 'FB 7', 'FB 8619', 'FB 97', 'FBL 75', 'FBL 8', 'FBM 2944', 'FBQ 410', 'FBR 220', 'FBR 2844', 'FBV 30', 'FBZ 406', 'FC 00', 'FC 1', 'FC 442', 'FC 7914', 'FC 8', 'FC 88', 'FC 9928', 'FCA 07', 'FCD 7', 'FCE 99', 'FCF 13', 'FCF 3029', 'FCJ 59', 'FCP 996', 'FCQ 0', 'FCR 67', 'FCT 141', 'FCU 9326', 'FCV 9', 'FD 075', 'FD 081', 'FD 1', 'FD 13', 'FD 1417', 'FD 280', 'FD 556', 'FD 65', 'FD 6882', 'FD 9469', 'FD 97', 'FDB 63', 'FDL 56', 'FDQ 76', 'FDT 0311', 'FDT 36', 'FDW 3', 'FE 257', 'FE 2828', 'FE 5216', 'FE 6', 'FE 777', 'FE 802', 'FE 8024', 'FE 873', 'FE 9300', 'FEE 20', 'FEH 5710', 'FEH 637', 'FEH 7151', 'FEP 0018', 'FEU 6387', 'FF 2005', 'FF 6109', 'FF 688', 'FF 79', 'FF 811', 'FF 9', 'FF 968', 'FFE 1', 'FFG 22', 'FFH 2', 'FFO 52', 'FFV 929', 'FG 22', 'FG 3187', 'FG 3404', 'FG 511', 'FG 850', 'FG 893', 'FGH 3497', 'FGN 4', 'FGN 7', 'FGO 24', 'FGR 9153', 'FGW 8850', 'FH 14', 'FH 267', 'FH 2960', 'FH 5', 'FHB 0', 'FHF 8223', 'FHJ 176', 'FHJ 2347', 'FHK 89', 'FHQ 5', 'FHS 891', 'FHW 34', 'FHW 8447', 'FI 0069', 'FI 39', 'FI 5', 'FI 609', 'FI 8', 'FIF 9221', 'FIK 3679', 'FIL 8', 'FIP 4080', 'FIY 4', 'FJ 4', 'FJ 616', 'FJ 723', 'FJ 88', 'FJ 94', 'FJ 984', 'FJC 1628', 'FJE 81', 'FJF 6102', 'FJH 13', 'FJT 17', 'FJU 6415', 'FJX 901', 'FK 39', 'FK 4505', 'FK 76', 'FK 7970', 'FK 87', 'FKC 907', 'FKC 9846', 'FKF 73', 'FKI 7', 'FKL 4', 'FKQ 3086', 'FKQ 6', 'FKW 272', 'FKW 874', 'FL 1927', 'FL 2421', 'FL 4395', 'FL 5', 'FL 6', 'FL 609', 'FL 7', 'FL 80', 'FLA 480', 'FLE 6376', 'FLF 3497', 'FLF 920', 'FLK 161', 'FLS 3054', 'FLS 5251', 'FM 0', 'FM 010', 'FM 578', 'FM 6', 'FM 6144', 'FM 7', 'FM 8', 'FM 800', 'FM 8789', 'FMI 3', 'FMJ 46', 'FMO 3000', 'FMR 01', 'FMV 971', 'FN 2406', 'FN 3337', 'FN 63', 'FN 71', 'FN 8853', 'FNA 6', 'FND 0912', 'FNN 8707', 'FNU 309', 'FNY 4', 'FO 2', 'FO 32', 'FO 3608', 'FO 4', 'FO 580', 'FO 6', 'FO 6821', 'FO 8', 'FO 8409', 'FOE 62', 'FOL 0149', 'FP 004', 'FP 02', 'FP 103', 'FP 2116', 'FP 514', 'FP 596', 'FP 615', 'FP 9245', 'FPE 366', 'FPH 1850', 'FPH 2', 'FPN 9770', 'FPT 4', 'FPX 48', 'FPY 59', 'FPY 835', 'FQ 0627', 'FQ 260', 'FQ 298', 'FQ 3', 'FQ 35', 'FQ 487', 'FQ 52', 'FQ 6', 'FQ 788', 'FQD 2923', 'FQD 912', 'FQH 8978', 'FQM 80', 'FQN 7505', 'FQQ 01', 'FQQ 6', 'FQR 3', 'FR 24', 'FR 3', 'FR 559', 'FR 5593', 'FR 637', 'FR 7', 'FR 83', 'FR 902', 'FR 9902', 'FRG 9', 'FRP 1', 'FRY 37', 'FS 0', 'FS 09', 'FS 3223', 'FS 4', 'FS 411', 'FS 44', 'FS 686', 'FS 74', 'FS 94', 'FSU 617', 'FSY 493', 'FT 02', 'FT 06', 'FT 091', 'FT 1', 'FT 18', 'FT 253', 'FT 4', 'FT 416', 'FT 9963', 'FTC 000', 'FTC 8', 'FTF 356', 'FTJ 687', 'FTL 0', 'FTL 6', 'FTT 2', 'FTW 5', 'FU 2', 'FU 20', 'FU 231', 'FU 38', 'FU 4', 'FU 46', 'FUC 11', 'FUI 25', 'FUV 89', 'FUV 97', 'FUY 92', 'FV 1', 'FV 2', 'FV 3', 'FV 4', 'FV 7', 'FV 993', 'FVC 804', 'FVH 563', 'FVK 727', 'FVO 03', 'FVV 8317', 'FW 082', 'FW 15', 'FW 2851', 'FW 3813', 'FW 3893', 'FW 442', 'FW 5', 'FW 8', 'FW 870', 'FWA 224', 'FWD 20', 'FWD 6837', 'FWE 3231', 'FWW 695', 'FWY 7959', 'FWZ 0', 'FX 031', 'FX 1', 'FX 10', 'FX 11', 'FX 2', 'FX 2787', 'FX 365', 'FX 542', 'FX 589', 'FX 672', 'FX 8327', 'FXL 85', 'FXT 69', 'FXU 63', 'FY 2', 'FY 2710', 'FY 5127', 'FY 6344', 'FY 8198', 'FYL 76', 'FZ 229', 'FZ 6', 'FZ 766', 'FZ 9', 'FZ 91', 'FZD 9079', 'FZP 0', 'FZP 98', 'FZR 50', 'FZS 2639', 'FZZ 314', 'FZZ 418', 'GA 47', 'GA 58', 'GA 5869', 'GA 596', 'GA 6999', 'GA 7', 'GA 8', 'GA 9', 'GA 946', 'GA 9777', 'GAA 4', 'GAC 0276', 'GAD 3', 'GAI 0', 'GAL 9', 'GAQ 045', 'GAQ 166', 'GAR 753', 'GAT 4754', 'GAV 9402', 'GAZ 8', 'GB 1', 'GB 316', 'GB 4', 'GB 5', 'GB 6211', 'GB 682', 'GB 781', 'GBC 8', 'GBG 137', 'GBG 515', 'GBL 977', 'GBO 2480', 'GBP 731', 'GBT 753', 'GC 0750', 'GC 1421', 'GC 1668', 'GC 2241', 'GC 251', 'GC 2849', 'GC 3', 'GC 6712', 'GC 679', 'GC 76', 'GCD 2820', 'GCI 123', 'GCI 76', 'GCM 0', 'GCO 4', 'GCS 57', 'GD 1028', 'GD 1624', 'GD 3184', 'GD 365', 'GD 479', 'GD 5060', 'GD 6440', 'GD 7650', 'GD 8', 'GD 9959', 'GDC 88', 'GDE 81', 'GDG 0556', 'GDM 114', 'GDR 6142', 'GDS 60', 'GDT 030', 'GDU 8670', 'GDW 6', 'GDX 8', 'GE 1183', 'GE 2401', 'GE 248', 'GE 48', 'GE 7520', 'GE 778', 'GE 852', 'GE 9514', 'GEA 387', 'GEH 6', 'GEI 9', 'GER 3046', 'GES 63', 'GEU 02', 'GEZ 4', 'GF 0', 'GF 0538', 'GF 233', 'GF 45', 'GF 673', 'GF 79', 'GF 923', 'GFC 33', 'GFC 57', 'GFD 0', 'GFL 4', 'GFM 994', 'GFO 4659', 'GFP 9293', 'GFX 7736', 'GFY 432', 'GG 0033', 'GG 215', 'GG 3147', 'GG 5', 'GG 7', 'GG 709', 'GG 82', 'GGA 1841', 'GGE 206', 'GGF 6408', 'GGM 0164', 'GGP 32', 'GGQ 6743', 'GGR 0', 'GGV 518', 'GH 0', 'GH 340', 'GH 5', 'GH 7', 'GH 76', 'GH 847', 'GH 903', 'GHG 34', 'GI 029', 'GI 062', 'GI 2', 'GI 2613', 'GI 3600', 'GI 3926', 'GI 5459', 'GI 628', 'GI 9357', 'GIA 020', 'GIB 62', 'GIE 4682', 'GII 166', 'GIR 40', 'GIS 267', 'GIX 8', 'GJ 01', 'GJ 185', 'GJ 2200', 'GJ 26', 'GJ 3', 'GJ 4306', 'GJ 5', 'GJ 62', 'GJ 6278', 'GJ 75', 'GJ 8118', 'GJA 7', 'GJB 588', 'GJD 165', 'GJD 2', 'GJI 2580', 'GJM 32', 'GJP 277', 'GJR 98', 'GJT 7187', 'GJY 657', 'GK 22', 'GK 2663', 'GK 41', 'GK 75', 'GKD 2', 'GKE 0857', 'GKE 1', 'GKK 2', 'GKO 2', 'GKP 407', 'GKW 542', 'GL 4', 'GL 548', 'GL 59', 'GLA 08', 'GLF 0619', 'GLM 844', 'GLZ 257', 'GM 003', 'GM 122', 'GM 25', 'GM 45', 'GM 4821', 'GM 5113', 'GM 564', 'GM 8', 'GM 8851', 'GM 98', 'GME 309', 'GMF 3863', 'GMG 4107', 'GMM 3', 'GMN 3', 'GMU 68', 'GMX 34', 'GN 018', 'GN 30', 'GN 3136', 'GN 4', 'GN 4837', 'GN 7301', 'GN 87', 'GN 9', 'GNE 113', 'GNH 97', 'GNS 59', 'GNU 052', 'GNX 2', 'GNX 497', 'GNX 6', 'GNZ 167', 'GO 0', 'GO 4', 'GO 5210', 'GO 658', 'GOB 633', 'GOL 061', 'GOQ 522', 'GOS 6', 'GP 26', 'GP 294', 'GP 34', 'GP 5', 'GP 73', 'GP 855', 'GP 87', 'GP 88', 'GP 9', 'GP 944', 'GP 977', 'GPC 46', 'GPE 285', 'GPJ 7', 'GPK 884', 'GPM 1', 'GPR 4', 'GPZ 689', 'GQ 006', 'GQ 0803', 'GQ 3', 'GQ 7808', 'GQ 82', 'GQ 90', 'GQB 5', 'GQF 119', 'GQI 808', 'GQK 0', 'GQR 379', 'GQS 043', 'GQV 3931', 'GQW 544', 'GQY 23', 'GR 03', 'GR 24', 'GR 5239', 'GR 594', 'GR 7493', 'GR 791', 'GR 8', 'GR 812', 'GRH 43', 'GRR 1', 'GRW 46', 'GRW 7', 'GRW 89', 'GRY 9', 'GS 0', 'GS 023', 'GS 0690', 'GS 1', 'GS 168', 'GS 4', 'GS 6268', 'GS 8', 'GSC 97', 'GSE 954', 'GSH 4', 'GST 6', 'GSX 764', 'GSY 804', 'GT 49', 'GT 9126', 'GTA 009', 'GTA 88', 'GTB 396', 'GTS 059', 'GTT 38', 'GU 1', 'GU 6259', 'GU 82', 'GU 85', 'GU 862', 'GUH 5', 'GUH 509', 'GUS 2', 'GUS 840', 'GUT 393', 'GV 2111', 'GV 2980', 'GV 3', 'GV 6032', 'GVA 5', 'GVD 175', 'GVE 6', 'GVJ 65', 'GVL 83', 'GVR 0', 'GVX 71', 'GVX 9', 'GW 0', 'GW 055', 'GW 1', 'GW 203', 'GW 39', 'GW 6', 'GW 7095', 'GW 7563', 'GW 8232', 'GWI 6616', 'GWM 78', 'GWM 9186', 'GWO 619', 'GWO 994', 'GWS 9675', 'GWW 32', 'GWW 7635', 'GX 1861', 'GX 201', 'GX 308', 'GX 326', 'GX 5773', 'GX 59', 'GX 7', 'GX 88', 'GX 93', 'GX 956', 'GXD 4208', 'GXD 50', 'GXG 6210', 'GXI 2', 'GXK 4327', 'GXM 4', 'GXT 6373', 'GXV 444', 'GXX 4105', 'GY 1', 'GY 11', 'GY 19', 'GY 3344', 'GY 4', 'GY 570', 'GY 736', 'GY 8', 'GY 9', 'GY 924', 'GY 9428', 'GYI 5', 'GYK 645', 'GYL 522', 'GYN 5410', 'GYQ 285', 'GYR 6', 'GYR 834', 'GYV 9', 'GYW 244', 'GYY 8067', 'GYZ 285', 'GYZ 5059', 'GZ 3497', 'GZ 40', 'GZ 41', 'GZ 85', 'GZA 306', 'GZA 639', 'GZA 83', 'GZE 034', 'GZH 24', 'GZH 62', 'GZJ 86', 'GZK 6', 'GZM 267', 'GZS 983', 'HA 080', 'HA 562', 'HA 66', 'HA 6956', 'HAC 6571', 'HAI 280', 'HAL 53', 'HAM 32', 'HAN 5938', 'HAO 84', 'HAQ 0', 'HAS 13', 'HAX 93', 'HAY 140', 'HB 090', 'HB 19', 'HB 249', 'HB 3', 'HB 300', 'HB 4', 'HB 562', 'HB 5749', 'HB 7', 'HBB 221', 'HBB 45', 'HBB 5', 'HBC 47', 'HBD 0682', 'HBF 768', 'HBI 30', 'HBQ 9353', 'HBZ 269', 'HC 0', 'HC 153', 'HC 55', 'HC 6', 'HC 65', 'HC 734', 'HC 7579', 'HC 853', 'HC 928', 'HC 9534', 'HC 961', 'HCC 166', 'HCW 88', 'HD 0', 'HD 0197', 'HD 28', 'HD 3', 'HD 489', 'HD 907', 'HD 91', 'HDF 1', 'HDL 418', 'HDM 55', 'HDR 64', 'HDU 6797', 'HDU 9', 'HDU 95', 'HE 1826', 'HE 2026', 'HE 4329', 'HE 5252', 'HE 59', 'HE 7', 'HE 7281', 'HE 902', 'HE 9767', 'HEC 47', 'HEK 0671', 'HEL 7466', 'HEN 228', 'HER 0', 'HF 196', 'HF 21', 'HF 89', 'HFD 116', 'HFE 311', 'HFL 601', 'HG 1', 'HG 201', 'HG 321', 'HG 548', 'HG 6040', 'HG 8989', 'HG 9', 'HG 90', 'HGI 07', 'HGK 3736', 'HGO 6505', 'HGQ 06', 'HGQ 4143', 'HGU 3', 'HGX 60', 'HH 02', 'HH 1', 'HH 7', 'HH 72', 'HH 8', 'HHB 76', 'HHC 65', 'HHD 15', 'HHI 74', 'HHK 5607', 'HHL 384', 'HHR 764', 'HHU 280', 'HI 444', 'HI 46', 'HI 894', 'HI 9', 'HIC 913', 'HIJ 62', 'HIM 403', 'HIP 73', 'HJ 19', 'HJ 24', 'HJ 72', 'HJ 8421', 'HJ 900', 'HJB 322', 'HJE 5', 'HJH 0', 'HJH 37', 'HJN 092', 'HJQ 8', 'HJV 35', 'HJW 7454', 'HK 4', 'HK 6', 'HK 6922', 'HK 8', 'HK 969', 'HKF 3', 'HKF 863', 'HKL 19', 'HKO 7534', 'HL 1', 'HL 117', 'HL 4', 'HL 5', 'HL 62', 'HL 647', 'HL 748', 'HL 9', 'HLB 5421', 'HLG 17', 'HLI 6394', 'HLL 1369', 'HLN 773', 'HLW 1', 'HLX 1', 'HLZ 1649', 'HLZ 7320', 'HM 10', 'HM 1456', 'HM 258', 'HM 3299', 'HM 44', 'HM 48', 'HM 6204', 'HM 8', 'HM 837', 'HM 9', 'HM 921', 'HM 96', 'HMC 1532', 'HME 2', 'HMG 2398', 'HMM 4', 'HMN 5', 'HMQ 4', 'HMS 814', 'HMU 040', 'HMV 729', 'HMW 76', 'HN 0', 'HN 2', 'HN 2086', 'HN 3375', 'HN 4', 'HN 45', 'HN 52', 'HN 656', 'HN 677', 'HN 76', 'HN 909', 'HNI 144', 'HNK 6322', 'HNP 810', 'HNR 7', 'HNY 181', 'HO 03', 'HO 3', 'HO 36', 'HO 501', 'HO 529', 'HO 7', 'HOB 9989', 'HOC 0', 'HOC 7831', 'HON 743', 'HOP 23', 'HOS 60', 'HOV 3', 'HOV 51', 'HOW 201', 'HP 1', 'HP 4', 'HP 63', 'HP 76', 'HP 8', 'HPB 2', 'HPD 8366', 'HPG 705', 'HPL 45', 'HPO 5', 'HPQ 664', 'HPV 062', 'HPY 8', 'HQ 06', 'HQ 1', 'HQ 2', 'HQ 5885', 'HQ 7', 'HQ 8', 'HQ 857', 'HQB 7156', 'HQD 3', 'HQE 4', 'HQN 3', 'HQR 69', 'HQT 5581', 'HR 005', 'HR 1', 'HR 1078', 'HR 1260', 'HR 226', 'HR 243', 'HR 46', 'HR 582', 'HR 6', 'HR 61', 'HR 918', 'HRG 839', 'HRH 09', 'HRH 5353', 'HRI 6', 'HRM 61', 'HRP 75', 'HRT 8', 'HRV 4', 'HRV 5', 'HS 0', 'HS 0833', 'HS 0893', 'HS 09', 'HS 2', 'HS 21', 'HS 2415', 'HS 530', 'HS 92', 'HS 952', 'HSB 71', 'HSD 10', 'HSG 8958', 'HSU 7968', 'HSW 9308', 'HSY 0040', 'HSY 05', 'HT 1249', 'HT 31', 'HT 3140', 'HT 925', 'HT 965', 'HTE 5034', 'HTE 8443', 'HTF 13', 'HTF 3403', 'HTN 68', 'HTQ 716', 'HTT 3', 'HTU 273', 'HTV 0151', 'HTV 9648', 'HTX 144', 'HU 1', 'HU 38', 'HU 521', 'HU 54', 'HU 7', 'HUB 73', 'HUU 4581', 'HV 071', 'HV 2', 'HV 9', 'HV 96', 'HVB 853', 'HVH 383', 'HVH 5873', 'HVP 235', 'HVU 8', 'HVW 6236', 'HVX 6295', 'HVX 823', 'HW 13', 'HW 14', 'HW 1640', 'HW 2', 'HW 355', 'HW 5499', 'HW 5580', 'HW 6718', 'HW 7', 'HW 7346', 'HW 77', 'HW 8', 'HWB 5', 'HWC 92', 'HWE 389', 'HWG 578', 'HWJ 129', 'HWM 3', 'HWO 4', 'HWP 7273', 'HWX 95', 'HWY 1', 'HX 186', 'HX 2125', 'HX 236', 'HX 3', 'HX 3198', 'HX 4', 'HX 5937', 'HX 8152', 'HX 861', 'HX 98', 'HXQ 5368', 'HXU 9', 'HXX 9070', 'HY 0336', 'HY 136', 'HY 24', 'HY 30', 'HY 414', 'HY 439', 'HY 5839', 'HY 818', 'HY 846', 'HY 9', 'HY 9383', 'HYA 7', 'HYD 3', 'HYD 62', 'HYH 5005', 'HYP 7110', 'HYR 7526', 'HYX 120', 'HYX 3', 'HZ 0', 'HZ 175', 'HZ 4686', 'HZ 6865', 'HZ 8', 'HZ 826', 'HZA 413', 'HZC 387', 'HZI 6520', 'IA 1', 'IA 12', 'IA 2127', 'IA 5', 'IA 530', 'IA 535', 'IA 7', 'IA 748', 'IA 832', 'IAO 7407', 'IAT 3', 'IAW 2', 'IAW 617', 'IB 0136', 'IB 1', 'IB 1904', 'IB 22', 'IB 4155', 'IB 70', 'IB 8', 'IBA 5233', 'IBD 3', 'IBN 7', 'IBO 301', 'IBP 3', 'IBQ 4', 'IBS 0', 'IBW 1', 'IC 178', 'IC 2', 'IC 28', 'IC 297', 'IC 3102', 'IC 33', 'IC 4', 'IC 7', 'IC 8', 'IC 965', 'ICE 8', 'ICE 967', 'ICN 1', 'ICR 6575', 'ICR 86', 'ICS 614', 'ICT 686', 'ICU 3', 'ICV 441', 'ICW 3148', 'ICW 6', 'ICW 6539', 'ICX 3857', 'ICZ 17', 'ID 0', 'ID 04', 'ID 12', 'ID 3', 'ID 36', 'ID 5311', 'ID 623', 'ID 77', 'ID 96', 'IDB 658', 'IDJ 3', 'IDJ 5209', 'IDL 756', 'IDM 7', 'IDM 96', 'IE 2236', 'IE 3026', 'IE 6', 'IE 6062', 'IE 622', 'IE 975', 'IE 9920', 'IED 656', 'IEF 0', 'IEH 488', 'IEI 2167', 'IEN 8', 'IEP 46', 'IER 95', 'IET 4', 'IEW 24', 'IEY 7425', 'IEY 912', 'IEZ 2481', 'IF 16', 'IF 34', 'IF 413', 'IF 4207', 'IF 429', 'IF 6', 'IF 7', 'IF 7805', 'IF 909', 'IF 97', 'IFC 41', 'IFC 86', 'IFE 433', 'IFI 715', 'IFJ 442', 'IFK 536', 'IFK 8', 'IFM 7', 'IFM 9100', 'IFY 23', 'IG 0525', 'IG 2', 'IG 39', 'IG 73', 'IGB 0', 'IGC 45', 'IGD 5', 'IGI 96', 'IGJ 2', 'IGQ 3', 'IGY 7', 'IH 0', 'IH 15', 'IH 2', 'IH 4', 'IH 527', 'IH 6', 'IHD 4', 'IHI 80', 'IHL 14', 'IHN 8368', 'IHU 3', 'IHZ 47', 'IHZ 9', 'II 0', 'II 1', 'II 12', 'II 33', 'II 3824', 'II 39', 'II 45', 'II 7', 'II 80', 'IIC 3', 'III 1298', 'III 54', 'IIJ 17', 'IIO 0348', 'IIO 9648', 'IIY 9408', 'IJ 023', 'IJ 321', 'IJ 4437', 'IJ 7', 'IJH 6585', 'IJI 30', 'IJK 2402', 'IJN 5968', 'IJQ 7736', 'IJS 492', 'IJU 2', 'IJZ 506', 'IK 1', 'IK 299', 'IK 4', 'IK 472', 'IK 4937', 'IK 745', 'IK 8586', 'IK 9', 'IK 94', 'IKB 3', 'IKF 6605', 'IKG 44', 'IKI 1484', 'IKY 647', 'IL 0', 'IL 1489', 'IL 15', 'IL 4767', 'IL 7', 'IL 739', 'IL 88', 'ILE 2', 'ILF 3718', 'ILH 5', 'ILP 70', 'ILS 7563', 'ILW 7814', 'ILZ 5', 'IM 0', 'IM 23', 'IM 4251', 'IM 78', 'IM 806', 'IM 84', 'IM 86', 'IMC 6788', 'IMH 68', 'IMJ 00', 'IMN 3617', 'IMO 833', 'IMS 45', 'IMU 122', 'IMU 71', 'IMV 4', 'IMW 3', 'IMZ 054', 'IN 0', 'IN 3520', 'IN 3743', 'IN 6745', 'IN 68', 'IN 9582', 'INC 29', 'ING 22', 'INI 5', 'INK 174', 'INN 01', 'INO 5727', 'INU 4', 'INU 6075', 'INV 6', 'INW 4', 'INX 818', 'INY 8016', 'INZ 804', 'IO 0', 'IO 153', 'IO 1540', 'IO 3017', 'IO 402', 'IO 9', 'IO 90', 'IOG 7', 'IOH 9', 'IOP 8', 'IOS 2265', 'IOU 919', 'IOY 55', 'IOY 7', 'IP 0', 'IP 2', 'IP 4', 'IP 49', 'IP 5', 'IP 5317', 'IP 7', 'IP 8662', 'IPB 0243', 'IPF 066', 'IPF 1', 'IPG 43', 'IPJ 010', 'IPL 5', 'IPV 68', 'IQ 583', 'IQ 9873', 'IQD 3536', 'IQI 2', 'IQI 9', 'IQJ 3646', 'IQL 7265', 'IQS 3', 'IQT 260', 'IQT 5326', 'IR 16', 'IR 1810', 'IR 2', 'IR 3', 'IR 4179', 'IR 51', 'IR 7655', 'IR 86', 'IR 9', 'IR 961', 'IRB 194', 'IRC 16', 'IRD 8', 'IRG 3', 'IRG 573', 'IRG 795', 'IRH 5', 'IRN 8', 'IRN 9', 'IRX 67', 'IS 0449', 'IS 27', 'IS 4189', 'IS 5', 'IS 5073', 'IS 51', 'IS 64', 'IS 7', 'IS 781', 'IS 886', 'ISN 08', 'ISP 66', 'ISR 784', 'ISU 09', 'ISX 1', 'IT 123', 'IT 2011', 'IT 5249', 'IT 60', 'IT 858', 'IT 9', 'ITA 766', 'ITC 127', 'ITG 75', 'ITG 7816', 'ITM 733', 'ITS 682', 'ITV 786', 'IU 0', 'IU 033', 'IU 1273', 'IU 135', 'IU 31', 'IU 8607', 'IUB 5734', 'IUE 79', 'IUJ 5', 'IUQ 154', 'IUT 900', 'IV 0665', 'IV 4', 'IVE 30', 'IVG 6', 'IVH 5470', 'IVI 253', 'IVM 6', 'IVQ 1', 'IVS 61', 'IVS 7996', 'IVT 4', 'IVV 5', 'IVY 710', 'IW 1', 'IW 185', 'IW 28', 'IW 3060', 'IW 572', 'IW 5940', 'IW 7', 'IW 71', 'IWA 3147', 'IWA 7161', 'IWQ 40', 'IWR 4', 'IWY 074', 'IX 0', 'IX 6', 'IX 6123', 'IX 688', 'IX 7', 'IX 92', 'IXE 4', 'IXE 48', 'IXF 6187', 'IXJ 77', 'IXU 494', 'IXV 4', 'IXW 386', 'IXW 6', 'IXX 718', 'IXY 9067', 'IY 3024', 'IY 8', 'IYA 0', 'IYD 5111', 'IYG 7534', 'IYK 5', 'IYM 63', 'IYP 2519', 'IYP 4531', 'IYU 291', 'IYV 51', 'IYY 4961', 'IZ 14', 'IZ 1479', 'IZ 2', 'IZ 224', 'IZ 8594', 'IZ 92', 'IZ 933', 'IZ 9812', 'IZC 80', 'IZD 1', 'IZL 8', 'IZM 2', 'IZN 00', 'IZX 909', 'IZZ 78', 'JA 057', 'JA 2', 'JA 229', 'JA 4', 'JA 52', 'JA 573', 'JA 7', 'JA 72', 'JA 9', 'JA 96', 'JAE 3', 'JAK 6', 'JAS 222', 'JAT 3220', 'JAY 684', 'JB 156', 'JB 279', 'JB 35', 'JB 3568', 'JB 709', 'JB 842', 'JB 9', 'JBB 071', 'JBB 2979', 'JBB 367', 'JBD 07', 'JBD 348', 'JBE 5', 'JBU 477', 'JBW 903', 'JC 0632', 'JC 246', 'JC 3', 'JC 3021', 'JC 45', 'JC 6', 'JC 71', 'JC 777', 'JC 841', 'JC 953', 'JCA 8397', 'JCB 9', 'JCI 5879', 'JCJ 337', 'JCK 8555', 'JD 1646', 'JD 309', 'JD 4', 'JD 42', 'JD 5', 'JD 506', 'JD 5204', 'JD 5888', 'JD 72', 'JD 755', 'JD 855', 'JD 9', 'JDC 815', 'JDI 7944', 'JDJ 544', 'JDM 920', 'JDP 272', 'JDP 8', 'JDQ 197', 'JDR 5', 'JDS 9', 'JDY 0286', 'JE 0', 'JE 1', 'JE 34', 'JE 6024', 'JE 61', 'JE 82', 'JE 86', 'JE 913', 'JEC 7', 'JEJ 6', 'JEK 5890', 'JEU 4', 'JF 441', 'JF 4685', 'JF 593', 'JF 64', 'JF 8897', 'JFA 0155', 'JFA 32', 'JFC 94', 'JFP 154', 'JFQ 3260', 'JFU 634', 'JFV 2', 'JFZ 73', 'JG 359', 'JG 6', 'JG 697', 'JGF 3', 'JGP 5875', 'JGT 0678', 'JGW 28', 'JGY 4492', 'JH 02', 'JH 3545', 'JH 405', 'JH 5', 'JH 5781', 'JH 6', 'JH 7', 'JH 738', 'JHD 0515', 'JHM 3997', 'JHP 2760', 'JHU 4039', 'JI 046', 'JI 08', 'JI 3189', 'JI 6', 'JIF 2', 'JIF 3729', 'JIH 8869', 'JII 1785', 'JII 9', 'JIJ 8', 'JIL 3021', 'JIN 5', 'JIO 6289', 'JIR 2626', 'JIS 60', 'JIT 517', 'JIT 864', 'JIV 489', 'JIV 9976', 'JJ 2', 'JJ 32', 'JJ 669', 'JJ 99', 'JJA 31', 'JJB 37', 'JJD 631', 'JJE 6', 'JJI 413', 'JJP 7935', 'JJY 48', 'JK 7418', 'JKB 8', 'JKG 3', 'JKM 95', 'JKU 05', 'JKY 15', 'JKZ 2633', 'JL 0685', 'JL 1', 'JL 3187', 'JL 6903', 'JL 8', 'JL 81', 'JL 906', 'JLG 474', 'JLK 7', 'JLN 89', 'JLO 6', 'JLQ 69', 'JLU 5809', 'JLV 70', 'JLX 7451', 'JM 1', 'JM 10', 'JM 2', 'JM 460', 'JM 9', 'JMM 493', 'JMS 190', 'JMU 8687', 'JN 03', 'JN 038', 'JN 1314', 'JN 3', 'JN 43', 'JN 55', 'JN 61', 'JN 7', 'JN 99', 'JNA 1', 'JNA 669', 'JNB 0', 'JNC 07', 'JNI 279', 'JNK 235', 'JNO 67', 'JNQ 7323', 'JNQ 7847', 'JNW 369', 'JNX 877', 'JO 2542', 'JO 3', 'JO 3322', 'JO 354', 'JO 48', 'JO 7867', 'JO 81', 'JOA 4', 'JOI 66', 'JOJ 213', 'JOM 72', 'JOO 8874', 'JP 0078', 'JP 05', 'JP 3', 'JP 46', 'JP 7', 'JP 9', 'JPH 00', 'JPJ 434', 'JPN 2', 'JPN 8', 'JPS 022', 'JQ 051', 'JQ 0536', 'JQ 1', 'JQ 16', 'JQ 309', 'JQ 329', 'JQ 35', 'JQ 48', 'JQ 6378', 'JQ 65', 'JQ 7667', 'JQ 787', 'JQ 7985', 'JQ 823', 'JQE 8', 'JQF 448', 'JQF 5781', 'JQJ 5', 'JQK 29', 'JQL 5073', 'JQM 5', 'JQS 6', 'JQZ 9', 'JR 1390', 'JR 224', 'JR 230', 'JR 2300', 'JR 294', 'JR 34', 'JR 5', 'JR 506', 'JR 7', 'JRC 99', 'JRE 2245', 'JRK 450', 'JRL 784', 'JRO 1288', 'JRY 6562', 'JRY 7665', 'JRZ 680', 'JS 1', 'JS 36', 'JS 4913', 'JS 66', 'JS 76', 'JS 78', 'JS 8', 'JS 8055', 'JS 9', 'JSA 68', 'JSD 7', 'JSE 6', 'JSF 25', 'JSF 8409', 'JSM 2', 'JSN 5626', 'JSQ 469', 'JST 53', 'JSV 026', 'JT 00', 'JT 1', 'JT 160', 'JT 2', 'JT 357', 'JT 479', 'JT 90', 'JTA 652', 'JTI 394', 'JTX 562', 'JU 1', 'JU 2282', 'JU 348', 'JU 43', 'JU 44', 'JU 6571', 'JU 66', 'JU 8', 'JU 9699', 'JUC 2138', 'JUF 22', 'JUM 45', 'JUP 059', 'JUS 9752', 'JUT 1955', 'JUU 245', 'JUZ 22', 'JUZ 674', 'JV 338', 'JV 515', 'JV 57', 'JVC 2', 'JVD 910', 'JVH 49', 'JVK 627', 'JVM 03', 'JVM 6', 'JVU 5121', 'JW 0381', 'JW 1', 'JW 2', 'JW 31', 'JW 48', 'JW 5', 'JW 7', 'JWG 130', 'JWH 965', 'JWQ 0162', 'JWW 8226', 'JX 1', 'JX 1236', 'JX 2', 'JX 32', 'JX 4389', 'JX 47', 'JX 9', 'JX 91', 'JXA 352', 'JY 41', 'JY 8', 'JY 94', 'JY 97', 'JYA 1', 'JYA 82', 'JYE 0311', 'JYG 0', 'JYJ 6902', 'JYU 591', 'JYW 7329', 'JZ 044', 'JZ 375', 'JZ 4', 'JZ 40', 'JZ 715', 'JZB 331', 'JZJ 6', 'JZL 5', 'JZS 7617', 'JZT 544', 'JZU 697', 'JZU 97', 'JZY 866', 'KA 099', 'KA 1021', 'KA 12', 'KA 6026', 'KA 6281', 'KA 717', 'KA 8', 'KA 871', 'KAA 1', 'KAD 6545', 'KAE 689', 'KAG 3007', 'KAH 8272', 'KAK 101', 'KAK 3', 'KAL 7', 'KAV 553', 'KB 015', 'KB 2', 'KB 41', 'KB 7', 'KB 760', 'KB 809', 'KB 8246', 'KB 901', 'KB 9927', 'KBA 9761', 'KBD 89', 'KBE 7', 'KBH 01', 'KBM 4433', 'KBQ 761', 'KBS 04', 'KBY 6876', 'KBZ 9467', 'KC 008', 'KC 02', 'KC 1', 'KC 4', 'KC 51', 'KC 7178', 'KC 82', 'KCB 9', 'KCD 129', 'KCD 706', 'KCE 20', 'KCG 3949', 'KCG 61', 'KCH 7', 'KCQ 27', 'KCQ 605', 'KCT 151', 'KD 0', 'KD 08', 'KD 0993', 'KD 20', 'KD 293', 'KD 3', 'KD 375', 'KD 630', 'KD 670', 'KD 9840', 'KDB 3540', 'KDC 181', 'KDD 9625', 'KDN 966', 'KDR 317', 'KDT 1', 'KDZ 5669', 'KE 1', 'KE 507', 'KE 57', 'KE 7', 'KE 718', 'KEG 6', 'KEQ 4', 'KER 0812', 'KER 230', 'KEU 5', 'KF 10', 'KF 3', 'KF 4', 'KF 557', 'KF 726', 'KF 8890', 'KFC 826', 'KFF 35', 'KFI 77', 'KFK 9', 'KFP 8', 'KFP 837', 'KFR 0', 'KFS 4', 'KFU 96', 'KFX 25', 'KFX 643', 'KFY 4244', 'KFZ 505', 'KG 0', 'KG 1609', 'KG 23', 'KG 65', 'KG 9708', 'KGC 84', 'KGE 39', 'KGI 3', 'KGV 04', 'KGZ 7496', 'KH 01', 'KH 09', 'KH 17', 'KH 1803', 'KH 700', 'KH 812', 'KHM 06', 'KHV 325', 'KHX 10', 'KHX 6', 'KI 149', 'KI 18', 'KI 6', 'KI 60', 'KI 799', 'KI 9', 'KIB 194', 'KIC 4322', 'KIF 69', 'KIM 569', 'KIO 37', 'KIP 0', 'KIR 8', 'KIX 4699', 'KJ 01', 'KJ 0680', 'KJ 3', 'KJ 4384', 'KJ 455', 'KJ 4555', 'KJ 76', 'KJ 8', 'KJ 84', 'KJ 9223', 'KJ 98', 'KJB 52', 'KJC 0402', 'KJC 64', 'KJE 82', 'KJH 0520', 'KJL 8', 'KJR 3', 'KJT 665', 'KJY 3', 'KK 139', 'KK 22', 'KK 3', 'KK 54', 'KK 8', 'KK 9486', 'KKA 7074', 'KKC 012', 'KKC 6', 'KKE 15', 'KKM 55', 'KKX 4', 'KL 0', 'KL 23', 'KL 4', 'KL 4845', 'KL 6410', 'KLB 6', 'KLF 28', 'KLG 7', 'KLQ 6063', 'KLQ 627', 'KLS 944', 'KLU 5', 'KLW 7', 'KM 1494', 'KM 357', 'KM 4', 'KM 442', 'KM 7825', 'KM 8457', 'KM 88', 'KM 970', 'KM 98', 'KMA 15', 'KMA 5314', 'KME 8', 'KMG 3', 'KMG 61', 'KMI 588', 'KMJ 068', 'KMW 0', 'KMZ 9', 'KN 3023', 'KN 3691', 'KN 37', 'KN 4', 'KN 407', 'KN 63', 'KN 703', 'KND 953', 'KNE 701', 'KNL 46', 'KNO 626', 'KNR 761', 'KNT 8153', 'KNU 1140', 'KNZ 1', 'KNZ 1809', 'KO 025', 'KO 2', 'KO 4', 'KO 8', 'KO 9', 'KO 9462', 'KOB 22', 'KOD 3', 'KOD 92', 'KOG 7', 'KOH 3', 'KOI 9602', 'KON 14', 'KOU 6096', 'KOX 68', 'KOY 9', 'KP 1428', 'KP 351', 'KP 4125', 'KP 7338', 'KP 8', 'KPB 6', 'KPD 851', 'KPR 113', 'KPS 65', 'KPW 2912', 'KQ 1', 'KQ 39', 'KQ 470', 'KQ 512', 'KQ 6', 'KQ 67', 'KQ 672', 'KQA 55', 'KQE 06', 'KQK 3', 'KQM 881', 'KQQ 15', 'KQQ 8887', 'KQR 2', 'KQV 4', 'KQW 3', 'KR 01', 'KR 18', 'KR 2', 'KR 339', 'KR 45', 'KR 56', 'KR 6', 'KR 7874', 'KRK 6879', 'KRL 4274', 'KRL 8', 'KRN 7', 'KRO 6655', 'KRV 9737', 'KS 07', 'KS 35', 'KS 4', 'KS 58', 'KS 6300', 'KSH 1', 'KSS 8257', 'KST 690', 'KST 7', 'KSZ 085', 'KT 119', 'KT 211', 'KT 244', 'KT 360', 'KT 561', 'KT 59', 'KT 6', 'KT 62', 'KT 689', 'KT 73', 'KT 797', 'KT 967', 'KTA 092', 'KTF 308', 'KTL 3418', 'KTP 9199', 'KTU 1', 'KU 29', 'KU 296', 'KU 3', 'KU 31', 'KU 3350', 'KU 4875', 'KU 521', 'KU 8532', 'KU 92', 'KU 987', 'KUD 8700', 'KUI 144', 'KUJ 5710', 'KUO 475', 'KUP 2817', 'KUT 44', 'KUU 27', 'KUZ 82', 'KV 088', 'KV 17', 'KV 2164', 'KV 33', 'KV 4', 'KV 400', 'KV 4060', 'KV 702', 'KV 7229', 'KV 8', 'KVF 898', 'KVO 4706', 'KVO 9222', 'KVR 6403', 'KVT 39', 'KW 35', 'KW 4579', 'KW 48', 'KW 8', 'KWF 4945', 'KWJ 8007', 'KWO 421', 'KWR 8', 'KX 3027', 'KX 7', 'KX 9150', 'KXD 38', 'KXE 9', 'KXI 5', 'KXI 6', 'KXN 0844', 'KXR 969', 'KXT 6501', 'KXW 0', 'KXW 9', 'KY 0', 'KY 1097', 'KY 2578', 'KY 3', 'KY 3294', 'KY 480', 'KY 54', 'KY 68', 'KY 7046', 'KY 76', 'KY 886', 'KYB 180', 'KYC 00', 'KYW 087', 'KZ 0214', 'KZ 2', 'KZ 314', 'KZ 5009', 'KZ 709', 'KZ 946', 'KZB 7', 'KZD 79', 'KZE 5', 'KZL 845', 'KZL 87', 'KZU 370', 'MA 073', 'MA 158', 'MA 4', 'MA 5', 'MA 5304', 'MA 7486', 'MA 9034', 'MA 92', 'MAB 817', 'MAC 3991', 'MAD 4422', 'MAK 04', 'MAM 4716', 'MAQ 2', 'MAX 0670', 'MB 05', 'MB 170', 'MB 24', 'MB 256', 'MB 368', 'MB 5', 'MB 6666', 'MB 710', 'MB 8', 'MBA 5931', 'MBC 8083', 'MBF 83', 'MBH 7', 'MBJ 044', 'MBP 4', 'MBR 0', 'MBT 71', 'MBU 76', 'MBW 761', 'MC 1893', 'MC 2240', 'MC 2760', 'MC 338', 'MC 3385', 'MC 533', 'MC 89', 'MC 90', 'MC 91', 'MCA 3', 'MCS 740', 'MCY 058', 'MD 0192', 'MD 10', 'MD 29', 'MD 66', 'MD 8512', 'MDB 5', 'MDD 116', 'MDH 0512', 'MDK 8', 'MDM 2319', 'MDP 246', 'MDV 81', 'MDW 4', 'ME 0', 'ME 6072', 'ME 613', 'ME 639', 'ME 663', 'ME 82', 'ME 89', 'MEE 6522', 'MEG 2202', 'MEK 5000', 'MEU 1', 'MEW 6', 'MEX 917', 'MEY 65', 'MF 0391', 'MF 1', 'MF 20', 'MF 3', 'MF 527', 'MF 5400', 'MF 6', 'MF 611', 'MF 624', 'MF 632', 'MF 8', 'MF 9', 'MFA 9439', 'MFF 28', 'MFH 37', 'MFL 816', 'MFN 27', 'MFN 651', 'MFT 8606', 'MG 110', 'MG 5', 'MG 8', 'MG 8233', 'MG 8525', 'MG 975', 'MGF 9', 'MGH 0724', 'MGI 5643', 'MGN 56', 'MGQ 652', 'MH 1', 'MH 1114', 'MH 181', 'MH 3', 'MH 4553', 'MH 5071', 'MH 77', 'MH 971', 'MHC 0013', 'MHH 217', 'MHL 1987', 'MHL 82', 'MHO 99', 'MHZ 3257', 'MI 1', 'MI 31', 'MI 5', 'MI 6', 'MI 94', 'MIG 346', 'MIJ 10', 'MIO 59', 'MIT 7080', 'MIV 1203', 'MIW 5962', 'MJ 0029', 'MJ 249', 'MJ 3', 'MJ 30', 'MJ 730', 'MJ 75', 'MJ 8', 'MJ 8247', 'MJG 2', 'MJJ 698', 'MJK 3938', 'MJM 2', 'MJR 3', 'MJY 857', 'MK 0', 'MK 3', 'MK 41', 'MK 7138', 'MK 991', 'MKA 437', 'MKA 60', 'MKC 51', 'MKD 4', 'MKE 05', 'MKE 16', 'MKG 1', 'MKH 0', 'MKN 80', 'MKT 22', 'MKU 92', 'MKV 79', 'MKZ 048', 'ML 10', 'ML 22', 'ML 285', 'ML 289', 'ML 3', 'ML 328', 'ML 3787', 'ML 5', 'ML 6630', 'ML 782', 'ML 8', 'MLA 027', 'MLC 84', 'MLM 5', 'MLM 8338', 'MLP 377', 'MLS 3431', 'MM 0539', 'MM 5', 'MMI 2', 'MMN 7499', 'MMO 0', 'MMV 9259', 'MMZ 7', 'MN 0', 'MN 5', 'MN 53', 'MN 70', 'MNI 79', 'MNJ 24', 'MNK 25', 'MNV 7', 'MNW 2354', 'MO 1', 'MO 2', 'MO 205', 'MO 270', 'MO 3', 'MO 4', 'MO 5', 'MO 7', 'MO 7374', 'MO 7635', 'MO 83', 'MO 99', 'MOB 0', 'MOD 696', 'MOF 9', 'MOH 64', 'MOK 96', 'MOP 3917', 'MOQ 48', 'MOZ 415', 'MP 2', 'MP 2718', 'MP 632', 'MP 70', 'MP 8785', 'MPG 470', 'MPG 6697', 'MPN 748', 'MPO 6319', 'MPR 66', 'MPX 555', 'MQ 0', 'MQ 3', 'MQ 411', 'MQ 6445', 'MQ 723', 'MQ 7273', 'MQ 74', 'MQ 9', 'MQ 9593', 'MQC 220', 'MQG 9261', 'MQN 552', 'MQO 4634', 'MQR 64', 'MQV 3', 'MR 9482', 'MRG 8', 'MRH 1', 'MRH 5974', 'MRS 2523', 'MRV 6', 'MRW 12', 'MRW 3', 'MRY 824', 'MS 0', 'MS 0530', 'MS 0783', 'MS 201', 'MS 4', 'MS 59', 'MS 732', 'MS 9312', 'MSB 3867', 'MSD 3', 'MSI 3', 'MSN 4982', 'MSS 29', 'MSV 04', 'MT 123', 'MT 8', 'MT 9009', 'MTF 043', 'MTG 303', 'MTX 357', 'MTX 8', 'MU 0262', 'MU 12', 'MU 2119', 'MU 473', 'MU 6092', 'MU 69', 'MU 74', 'MU 84', 'MU 88', 'MUA 1', 'MUC 0386', 'MUG 0982', 'MUH 6', 'MUJ 9059', 'MUP 4', 'MUQ 566', 'MUX 146', 'MUX 66', 'MV 0', 'MV 27', 'MV 3', 'MV 433', 'MV 502', 'MV 746', 'MV 8', 'MV 908', 'MVB 6633', 'MVM 765', 'MVP 6645', 'MVX 178', 'MVZ 6', 'MW 0', 'MW 104', 'MW 3929', 'MW 44', 'MWB 0627', 'MWC 5962', 'MWD 033', 'MWD 3894', 'MWF 729', 'MWG 125', 'MWJ 838', 'MWK 392', 'MWK 7', 'MWS 85', 'MWW 04', 'MWW 6', 'MX 0457', 'MX 11', 'MX 313', 'MX 328', 'MX 4', 'MX 56', 'MX 6', 'MX 876', 'MXC 8', 'MXK 5', 'MXQ 92', 'MXS 41', 'MXT 34', 'MXZ 850', 'MY 227', 'MY 26', 'MY 4', 'MY 557', 'MY 873', 'MYD 2', 'MYD 7', 'MYG 17', 'MYH 56', 'MYI 4', 'MYR 665', 'MYS 6851', 'MYY 82', 'MZ 06', 'MZ 2', 'MZ 242', 'MZ 39', 'MZ 4', 'MZ 6', 'MZ 74', 'MZ 85', 'MZA 36', 'MZB 0856', 'MZB 846', 'MZF 231', 'MZN 838', 'MZP 556', 'MZP 6', 'MZP 8207', 'MZR 09', 'MZR 8087', 'MZT 593', 'MZX 3904', 'NA 0', 'NA 3', 'NA 3350', 'NA 3673', 'NA 604', 'NA 632', 'NA 7659', 'NA 80', 'NA 8026', 'NAB 3450', 'NAD 964', 'NAN 559', 'NAP 4', 'NAP 9994', 'NAQ 4', 'NAV 42', 'NAZ 524', 'NAZ 6882', 'NB 2', 'NB 4', 'NB 5', 'NB 638', 'NBA 5', 'NBG 964', 'NBJ 408', 'NBQ 11', 'NBS 1', 'NBZ 921', 'NC 0733', 'NC 25', 'NC 32', 'NC 46', 'NC 783', 'NC 874', 'NC 9', 'NC 918', 'NCB 325', 'NCC 9341', 'NCE 578', 'NCG 42', 'NCH 5886', 'NCH 6723', 'NCO 4164', 'NCZ 480', 'ND 2', 'ND 5012', 'ND 545', 'ND 6', 'ND 6392', 'ND 66', 'ND 8', 'ND 9', 'ND 9013', 'ND 9188', 'NDA 8732', 'NDB 8', 'NDH 7904', 'NDM 9', 'NDP 5097', 'NDP 8590', 'NDS 7746', 'NDT 1731', 'NDU 76', 'NDY 48', 'NE 1401', 'NE 205', 'NE 2547', 'NE 5', 'NE 589', 'NE 6', 'NEC 008', 'NEG 8465', 'NEH 00', 'NEQ 7', 'NET 4', 'NF 007', 'NF 43', 'NF 50', 'NF 696', 'NF 804', 'NF 9560', 'NFD 485', 'NFH 293', 'NFT 260', 'NFY 5127', 'NG 0290', 'NG 0311', 'NG 1269', 'NG 1536', 'NG 30', 'NG 6', 'NG 712', 'NG 74', 'NG 8502', 'NG 9926', 'NGB 646', 'NGD 73', 'NGE 1', 'NGE 17', 'NGF 37', 'NGJ 1253', 'NGM 44', 'NGO 7', 'NGP 66', 'NH 357', 'NH 4', 'NH 49', 'NH 7', 'NH 8', 'NH 94', 'NHC 8', 'NHJ 9', 'NHM 6', 'NHQ 799', 'NHQ 94', 'NHT 02', 'NHV 80', 'NHW 37', 'NHX 6922', 'NHY 78', 'NI 023', 'NI 0355', 'NI 07', 'NI 2543', 'NI 3', 'NI 47', 'NI 7904', 'NI 90', 'NIB 83', 'NII 3180', 'NIK 871', 'NIP 7257', 'NIR 90', 'NJ 0', 'NJ 0042', 'NJ 05', 'NJ 2', 'NJ 27', 'NJ 4', 'NJ 40', 'NJ 51', 'NJ 5796', 'NJ 731', 'NJ 78', 'NJ 8', 'NJ 8068', 'NJ 81', 'NJ 86', 'NJ 9167', 'NJ 9248', 'NJ 973', 'NJA 750', 'NJB 1278', 'NJC 4', 'NJC 46', 'NJF 7', 'NJI 2', 'NJJ 4327', 'NJK 40', 'NJL 1', 'NJN 8189', 'NJV 3013', 'NJV 505', 'NJV 630', 'NJW 1', 'NK 068', 'NK 225', 'NK 425', 'NK 5', 'NK 502', 'NK 66', 'NKD 243', 'NKF 7638', 'NKJ 4', 'NKM 8', 'NKO 224', 'NKR 402', 'NKU 1337', 'NKW 1', 'NKZ 7673', 'NL 1', 'NL 1157', 'NL 39', 'NL 40', 'NL 6', 'NL 617', 'NL 69', 'NL 7716', 'NL 841', 'NL 9751', 'NLC 3', 'NLE 9689', 'NLG 6', 'NLJ 6', 'NLL 8', 'NLM 02', 'NLM 21', 'NLP 671', 'NLR 300', 'NLU 12', 'NLU 639', 'NM 446', 'NM 488', 'NM 5', 'NM 572', 'NM 7', 'NM 742', 'NM 9', 'NMA 3217', 'NMB 8156', 'NMD 0154', 'NMF 369', 'NMF 6', 'NMF 666', 'NMI 08', 'NMI 23', 'NMK 15', 'NML 37', 'NMM 695', 'NMO 69', 'NMV 7171', 'NMV 8', 'NN 334', 'NN 5544', 'NN 752', 'NN 9', 'NNN 2056', 'NNQ 2378', 'NNR 173', 'NNR 64', 'NO 0', 'NO 13', 'NO 1607', 'NO 1645', 'NO 3', 'NO 4365', 'NO 5924', 'NO 7', 'NO 7182', 'NO 84', 'NOB 72', 'NOH 91', 'NOR 1', 'NOT 2736', 'NOV 5854', 'NP 0', 'NP 189', 'NP 1924', 'NP 21', 'NP 46', 'NP 59', 'NP 596', 'NP 63', 'NP 9', 'NP 9568', 'NP 998', 'NPF 723', 'NPU 55', 'NPV 3', 'NPW 48', 'NPW 9', 'NQ 0', 'NQ 0051', 'NQ 0125', 'NQ 1', 'NQ 104', 'NQ 3', 'NQ 30', 'NQ 420', 'NQ 4400', 'NQ 947', 'NQA 585', 'NQA 7', 'NQG 93', 'NQH 647', 'NQM 5', 'NQM 90', 'NQN 9', 'NQO 0489', 'NQO 295', 'NQO 9', 'NQS 2', 'NQU 6', 'NQY 6253', 'NQZ 512', 'NR 1522', 'NR 20', 'NR 259', 'NR 26', 'NR 354', 'NR 36', 'NR 5791', 'NR 7', 'NR 7430', 'NR 800', 'NR 83', 'NR 92', 'NRC 84', 'NRF 2', 'NRJ 54', 'NRK 8', 'NS 11', 'NS 3194', 'NS 4', 'NS 8', 'NS 9178', 'NS 96', 'NSA 9', 'NSB 20', 'NSF 5', 'NSL 97', 'NSP 0', 'NSQ 1', 'NSQ 403', 'NSV 537', 'NSZ 9', 'NT 0', 'NT 1', 'NT 266', 'NT 437', 'NT 5', 'NT 5127', 'NT 7', 'NT 785', 'NTA 475', 'NTA 92', 'NTB 5690', 'NTB 912', 'NTE 87', 'NTH 014', 'NTL 95', 'NTW 1', 'NU 1533', 'NU 18', 'NU 2428', 'NU 2738', 'NU 640', 'NU 709', 'NU 760', 'NU 9', 'NUH 4', 'NUH 7', 'NUI 5846', 'NUP 1013', 'NUQ 499', 'NUR 13', 'NUT 0', 'NUW 5066', 'NUX 8', 'NUX 9325', 'NV 1', 'NV 104', 'NV 12', 'NV 363', 'NV 445', 'NVA 539', 'NVI 3857', 'NVJ 05', 'NVM 3', 'NVS 307', 'NVX 33', 'NW 0', 'NW 03', 'NW 3', 'NW 4300', 'NW 5', 'NW 5280', 'NW 60', 'NW 682', 'NW 89', 'NWC 59', 'NWD 3202', 'NWG 4', 'NWG 9845', 'NWH 807', 'NWJ 9', 'NWL 1', 'NWP 993', 'NWU 7', 'NWY 308', 'NWZ 83', 'NX 17', 'NX 3', 'NX 5', 'NX 6', 'NX 64', 'NX 716', 'NX 774', 'NX 80', 'NX 8824', 'NXM 99', 'NXQ 5577', 'NXS 9', 'NXU 6', 'NXW 2', 'NY 06', 'NY 1306', 'NY 667', 'NY 737', 'NY 8', 'NY 913', 'NYQ 1273', 'NYV 21', 'NYV 75', 'NYW 27', 'NYX 6', 'NYY 4', 'NZ 005', 'NZ 097', 'NZ 3513', 'NZ 610', 'NZ 670', 'NZ 7664', 'NZC 4173', 'NZF 4273', 'NZM 759', 'NZP 2', 'NZR 7', 'NZU 31', 'NZZ 62', 'OA 060', 'OA 7822', 'OA 7857', 'OAC 7927', 'OAD 653', 'OAG 7', 'OAL 3388', 'OAM 8', 'OAQ 0', 'OAR 69', 'OAU 2', 'OB 0140', 'OB 089', 'OB 5193', 'OB 7', 'OB 8', 'OB 89', 'OBE 2', 'OBG 8156', 'OBP 2780', 'OBS 25', 'OBT 7', 'OC 0903', 'OC 2793', 'OC 3', 'OC 64', 'OC 86', 'OC 910', 'OCI 605', 'OCR 6423', 'OCR 802', 'OCY 614', 'OD 1329', 'OD 4465', 'OD 50', 'OD 8', 'ODB 2', 'ODD 6', 'ODH 98', 'ODJ 094', 'ODJ 3', 'ODJ 6655', 'ODM 2', 'ODP 899', 'ODR 04', 'ODY 38', 'ODZ 4', 'OE 0', 'OE 2', 'OE 24', 'OE 39', 'OE 44', 'OE 48', 'OE 65', 'OE 78', 'OED 4816', 'OEE 7', 'OEJ 5070', 'OEK 01', 'OEP 6', 'OEQ 57', 'OEQ 64', 'OER 876', 'OF 0', 'OF 1', 'OF 189', 'OF 5', 'OF 576', 'OF 65', 'OF 8', 'OFA 50', 'OFN 53', 'OFO 7081', 'OFR 572', 'OFU 39', 'OFV 39', 'OFZ 484', 'OG 192', 'OG 4', 'OG 7173', 'OG 772', 'OG 923', 'OGE 2', 'OGI 53', 'OGI 7', 'OGM 75', 'OGN 597', 'OGN 7', 'OGQ 6', 'OGX 048', 'OGX 293', 'OH 06', 'OH 15', 'OH 2', 'OH 379', 'OH 56', 'OH 6', 'OH 864', 'OHG 5', 'OHI 15', 'OHJ 5750', 'OHN 2', 'OHW 372', 'OHX 386', 'OHY 817', 'OI 08', 'OI 29', 'OI 321', 'OI 5605', 'OI 750', 'OI 8', 'OIE 79', 'OIJ 91', 'OIK 68', 'OIQ 3', 'OIR 23', 'OIZ 7', 'OJ 0045', 'OJ 083', 'OJ 2609', 'OJ 3520', 'OJ 471', 'OJI 87', 'OJQ 3315', 'OJS 7', 'OJY 993', 'OK 3565', 'OK 61', 'OK 8300', 'OK 8603', 'OK 90', 'OKB 023', 'OKH 5', 'OKI 9', 'OKW 7085', 'OKW 8', 'OL 0432', 'OL 5', 'OL 78', 'OLC 59', 'OLF 34', 'OLK 4962', 'OLP 1812', 'OLQ 30', 'OLQ 38', 'OLU 1888', 'OLW 50', 'OLY 5920', 'OM 0', 'OM 0189', 'OM 16', 'OM 31', 'OM 548', 'OM 65', 'OMA 222', 'OMG 0', 'OMI 8', 'OMN 842', 'OMO 427', 'OMQ 73', 'OMW 585', 'OMY 58', 'ON 0', 'ON 0232', 'ON 0309', 'ON 1', 'ON 1055', 'ON 13', 'ON 230', 'ON 3', 'ON 37', 'ON 780', 'ON 8288', 'ON 9', 'ONC 15', 'ONG 6', 'ONK 9231', 'ONT 05', 'ONU 8918', 'ONZ 7', 'OO 1', 'OO 265', 'OO 4', 'OO 55', 'OO 562', 'OO 9313', 'OOG 29', 'OOL 0073', 'OOL 6', 'OOP 9', 'OP 2', 'OP 2090', 'OP 3622', 'OP 453', 'OP 6524', 'OP 7', 'OP 8', 'OP 86', 'OP 880', 'OP 9', 'OPG 39', 'OPI 3', 'OPL 522', 'OPO 58', 'OPT 2241', 'OPY 1', 'OQ 341', 'OQ 543', 'OQ 6', 'OQ 78', 'OQ 8805', 'OQ 96', 'OQB 47', 'OQD 254', 'OQG 11', 'OQK 38', 'OQN 0', 'OQS 3', 'OQS 8', 'OQT 55', 'OR 041', 'OR 374', 'OR 491', 'OR 71', 'OR 7460', 'OR 8915', 'ORA 12', 'ORK 8667', 'ORQ 597', 'ORT 7', 'ORU 5255', 'ORW 5', 'OS 07', 'OS 17', 'OS 1935', 'OS 2', 'OS 3', 'OS 4', 'OS 4246', 'OS 45', 'OS 50', 'OS 536', 'OS 640', 'OS 66', 'OS 73', 'OS 8308', 'OSD 5472', 'OSG 93', 'OSP 455', 'OSV 0', 'OT 0613', 'OT 09', 'OT 1', 'OT 189', 'OT 2427', 'OT 3', 'OT 68', 'OT 9', 'OT 901', 'OTI 518', 'OTJ 0565', 'OTJ 41', 'OTQ 3', 'OTR 6', 'OTR 7845', 'OTT 4', 'OTV 21', 'OTV 410', 'OTV 5362', 'OU 3', 'OU 4', 'OU 52', 'OU 531', 'OU 6', 'OU 6820', 'OU 7258', 'OU 9372', 'OUB 2', 'OUE 7', 'OUK 5213', 'OUN 083', 'OUO 1', 'OUV 7317', 'OUW 1', 'OV 0587', 'OV 16', 'OV 2', 'OV 3', 'OV 5', 'OV 57', 'OV 7055', 'OV 776', 'OVD 3242', 'OVD 5', 'OVF 0', 'OVH 15', 'OVK 2', 'OVK 4', 'OVP 571', 'OVV 18', 'OVX 6', 'OW 4', 'OW 41', 'OW 5', 'OW 574', 'OW 7', 'OW 78', 'OWC 4', 'OWC 9767', 'OWK 82', 'OWL 7', 'OWQ 03', 'OWW 030', 'OX 016', 'OX 02', 'OX 2', 'OX 20', 'OX 3', 'OX 4', 'OX 6', 'OX 65', 'OX 6550', 'OX 71', 'OX 8', 'OXA 9120', 'OXC 096', 'OXH 53', 'OXI 1', 'OXJ 10', 'OXJ 350', 'OXJ 7', 'OXK 2385', 'OXP 5583', 'OXP 8847', 'OXT 75', 'OXT 873', 'OXW 343', 'OXX 2', 'OY 044', 'OY 08', 'OY 2678', 'OY 5675', 'OY 6', 'OY 6293', 'OY 7', 'OY 84', 'OYC 7446', 'OYI 64', 'OYK 4972', 'OYM 5', 'OYS 86', 'OYU 50', 'OZ 0222', 'OZ 90', 'OZC 8603', 'OZF 772', 'OZL 000', 'OZP 2411', 'OZP 9022', 'OZR 913', 'OZV 3', 'OZX 44', 'OZY 61', 'PA 284', 'PA 463', 'PA 6', 'PA 62', 'PA 71', 'PA 731', 'PA 9406', 'PA 961', 'PAA 760', 'PAD 47', 'PAF 2498', 'PAO 436', 'PAP 6441', 'PAS 80', 'PAT 776', 'PAV 948', 'PAX 12', 'PB 071', 'PB 116', 'PB 184', 'PB 3', 'PB 42', 'PB 55', 'PB 6', 'PB 81', 'PB 87', 'PBA 213', 'PBF 0536', 'PBH 3062', 'PBJ 65', 'PBM 58', 'PBO 4', 'PBQ 1', 'PC 152', 'PC 7639', 'PC 7918', 'PC 958', 'PCG 9530', 'PCH 7', 'PCK 07', 'PCK 7298', 'PCL 47', 'PCL 8270', 'PCO 4', 'PCT 1346', 'PCX 498', 'PCZ 2919', 'PCZ 4', 'PD 036', 'PD 1', 'PD 2', 'PD 3', 'PD 40', 'PD 51', 'PD 6', 'PD 730', 'PD 9', 'PDD 504', 'PDE 06', 'PDF 156', 'PDK 02', 'PDL 98', 'PDS 592', 'PDU 9', 'PE 024', 'PE 04', 'PE 2484', 'PE 3357', 'PE 6202', 'PE 67', 'PE 8885', 'PE 98', 'PED 16', 'PED 5513', 'PED 9', 'PEL 5633', 'PEO 893', 'PEP 3', 'PER 457', 'PEU 35', 'PF 1065', 'PF 15', 'PF 18', 'PF 51', 'PF 5487', 'PF 6', 'PF 7889', 'PF 837', 'PF 94', 'PF 9541', 'PFF 75', 'PFK 726', 'PFO 4', 'PFS 7', 'PFX 071', 'PFX 1348', 'PFZ 35', 'PFZ 7364', 'PG 0', 'PG 146', 'PG 32', 'PG 3664', 'PG 46', 'PG 495', 'PG 56', 'PG 8455', 'PG 95', 'PG 992', 'PGA 17', 'PGC 499', 'PGC 6569', 'PGF 882', 'PGH 58', 'PGK 325', 'PGM 085', 'PGO 4', 'PGP 1', 'PGU 22', 'PGV 5', 'PH 00', 'PH 07', 'PH 299', 'PH 37', 'PH 394', 'PH 7', 'PH 8027', 'PH 824', 'PH 884', 'PHD 5', 'PHE 4986', 'PHF 026', 'PHF 66', 'PHJ 295', 'PHO 1513', 'PHV 5428', 'PI 0', 'PI 1332', 'PI 3919', 'PI 7', 'PI 74', 'PI 7923', 'PI 8823', 'PI 9', 'PI 9684', 'PIA 47', 'PIF 69', 'PII 1', 'PII 3', 'PII 41', 'PIK 84', 'PIL 6', 'PIP 78', 'PIT 3', 'PIV 2158', 'PJ 290', 'PJ 293', 'PJ 35', 'PJ 368', 'PJ 577', 'PJ 618', 'PJ 94', 'PJE 4', 'PJG 840', 'PJM 36', 'PJO 39', 'PK 1', 'PK 21', 'PK 2187', 'PK 253', 'PK 2735', 'PK 2948', 'PK 5', 'PK 65', 'PK 9358', 'PK 985', 'PKE 68', 'PKH 8115', 'PKN 53', 'PKP 9579', 'PKU 707', 'PKX 46', 'PKY 017', 'PKY 7', 'PKZ 3971', 'PKZ 6174', 'PL 19', 'PL 3207', 'PL 6338', 'PL 7145', 'PL 766', 'PLH 0239', 'PLH 874', 'PLI 6538', 'PLL 68', 'PLM 928', 'PLU 314', 'PLW 0', 'PM 059', 'PM 14', 'PM 27', 'PM 326', 'PM 71', 'PM 8', 'PM 924', 'PMA 972', 'PMF 7301', 'PMG 6060', 'PMH 09', 'PMV 5', 'PMX 7', 'PMY 5838', 'PN 8258', 'PNB 3', 'PNB 8405', 'PNC 9597', 'PNE 419', 'PNO 4', 'PNP 8', 'PNQ 5547', 'PNS 8', 'PNW 0314', 'PO 0', 'PO 3596', 'PO 48', 'POE 8035', 'POE 949', 'POR 4324', 'POS 2', 'POU 9272', 'POX 12', 'PP 3383', 'PP 40', 'PP 54', 'PP 8', 'PP 9', 'PP 952', 'PP 962', 'PPF 089', 'PPF 19', 'PPL 5', 'PPL 58', 'PPN 1122', 'PPQ 88', 'PPR 83', 'PQ 0436', 'PQ 150', 'PQ 3', 'PQ 352', 'PQ 4', 'PQ 439', 'PQ 4402', 'PQC 814', 'PQD 8', 'PQH 38', 'PQL 62', 'PQM 5469', 'PQP 4', 'PQP 642', 'PQP 9', 'PQY 9', 'PQZ 6563', 'PR 0', 'PR 1004', 'PR 130', 'PR 57', 'PR 64', 'PR 7', 'PR 785', 'PR 803', 'PR 9', 'PRD 1181', 'PRE 5976', 'PRL 4505', 'PRM 5', 'PRM 8', 'PRO 199', 'PRR 2', 'PRU 790', 'PRV 20', 'PRY 30', 'PRZ 22', 'PS 0816', 'PS 152', 'PS 5', 'PS 5086', 'PS 6', 'PS 93', 'PSC 158', 'PSF 48', 'PSF 6', 'PSI 8663', 'PSM 4169', 'PSQ 2018', 'PSR 9', 'PT 1', 'PT 3669', 'PT 56', 'PT 6397', 'PT 8', 'PT 97', 'PTE 7', 'PTF 4', 'PTF 592', 'PTI 35', 'PTN 73', 'PTO 0146', 'PTY 696', 'PU 07', 'PU 28', 'PU 3', 'PU 33', 'PU 5', 'PU 51', 'PU 52', 'PU 573', 'PU 6285', 'PU 65', 'PU 7760', 'PU 9', 'PU 91', 'PUA 693', 'PUH 6', 'PUL 900', 'PUM 3727', 'PUN 7', 'PUS 42', 'PUS 578', 'PUT 20', 'PUT 7062', 'PUT 75', 'PUT 777', 'PUW 4202', 'PUX 5853', 'PV 0833', 'PV 0969', 'PV 18', 'PV 215', 'PV 2841', 'PV 290', 'PV 4348', 'PV 5', 'PV 5976', 'PV 6', 'PV 9068', 'PVA 0666', 'PVC 688', 'PVD 9063', 'PVF 9', 'PVO 0', 'PVO 4', 'PVS 089', 'PVW 506', 'PVX 1', 'PVY 93', 'PVZ 7730', 'PW 222', 'PW 2441', 'PW 294', 'PW 43', 'PW 46', 'PW 7', 'PW 716', 'PW 8', 'PW 86', 'PW 883', 'PWA 7', 'PWB 1', 'PWC 5', 'PWG 5527', 'PWH 3452', 'PWL 0', 'PWM 43', 'PWS 8', 'PWU 98', 'PWW 700', 'PWW 933', 'PX 2', 'PX 7', 'PX 8', 'PXC 4775', 'PXC 5986', 'PXE 26', 'PXF 29', 'PXJ 736', 'PXR 1', 'PXX 14', 'PXX 3', 'PY 044', 'PY 085', 'PY 3', 'PY 325', 'PY 42', 'PY 633', 'PY 65', 'PY 854', 'PY 89', 'PYG 8', 'PYK 34', 'PYN 260', 'PYS 00', 'PYT 7510', 'PYX 9', 'PYY 14', 'PZ 1', 'PZ 20', 'PZ 3', 'PZ 3410', 'PZ 7901', 'PZ 81', 'PZ 98', 'PZF 5', 'PZK 0903', 'PZM 88', 'PZO 40', 'PZQ 95', 'PZU 4364', 'PZZ 744', 'QA 0', 'QA 045', 'QA 1085', 'QA 1813', 'QA 3585', 'QA 4662', 'QA 6454', 'QA 7', 'QA 8', 'QA 9', 'QA 9302', 'QAG 6317', 'QAJ 038', 'QAN 0', 'QAN 50', 'QAR 0', 'QAR 841', 'QAY 9760', 'QB 1895', 'QB 2971', 'QB 3257', 'QB 3809', 'QB 54', 'QB 572', 'QB 725', 'QB 82', 'QB 8777', 'QB 909', 'QB 9498', 'QBE 4', 'QBF 1', 'QBF 3047', 'QBL 9128', 'QBM 43', 'QBP 5', 'QBQ 488', 'QBT 1', 'QC 02', 'QC 1139', 'QC 2268', 'QC 3', 'QC 4496', 'QC 5', 'QC 5614', 'QC 6', 'QC 8', 'QC 9618', 'QCC 9727', 'QCD 409', 'QCG 2', 'QCI 2637', 'QCI 52', 'QCR 654', 'QCS 323', 'QCU 458', 'QCZ 24', 'QD 2319', 'QD 26', 'QD 5017', 'QD 5214', 'QD 6', 'QD 7', 'QD 7417', 'QD 769', 'QD 8281', 'QD 92', 'QDA 07', 'QDA 116', 'QDF 827', 'QDK 412', 'QDK 416', 'QDM 202', 'QDO 083', 'QDQ 919', 'QDQ 9555', 'QDR 31', 'QDV 75', 'QDZ 8372', 'QE 0', 'QE 1820', 'QE 4757', 'QE 6', 'QE 6055', 'QE 72', 'QE 928', 'QEC 03', 'QED 725', 'QED 7529', 'QEF 7', 'QEG 8717', 'QEG 92', 'QEI 7', 'QEM 94', 'QEP 4639', 'QER 6726', 'QET 1940', 'QEW 094', 'QF 0', 'QF 072', 'QF 23', 'QF 285', 'QF 60', 'QF 659', 'QF 7428', 'QF 79', 'QF 892', 'QFE 214', 'QFI 451', 'QFI 5292', 'QFM 8016', 'QFQ 053', 'QFQ 06', 'QFR 1', 'QFT 1', 'QFV 3145', 'QFZ 1', 'QG 0', 'QG 13', 'QG 2', 'QG 25', 'QG 4467', 'QG 48', 'QG 4950', 'QG 6', 'QG 6976', 'QG 82', 'QGA 26', 'QGB 27', 'QGB 62', 'QGF 0', 'QGH 7564', 'QGK 63', 'QGO 69', 'QGP 11', 'QGP 7', 'QGP 76', 'QGR 5741', 'QGW 5', 'QGX 185', 'QGX 19', 'QGX 7919', 'QGY 0', 'QGZ 9516', 'QH 0636', 'QH 1082', 'QH 3', 'QH 3619', 'QH 3860', 'QH 4', 'QH 4236', 'QH 4901', 'QH 92', 'QHE 2', 'QHE 23', 'QHM 3', 'QHN 105', 'QHR 7247', 'QHT 414', 'QHU 6359', 'QHX 34', 'QI 035', 'QI 250', 'QI 3', 'QI 4282', 'QI 469', 'QI 56', 'QI 709', 'QI 73', 'QI 927', 'QI 938', 'QIA 630', 'QIG 1', 'QII 2', 'QII 84', 'QIM 188', 'QIR 4', 'QIS 122', 'QIS 5', 'QIV 05', 'QIX 77', 'QJ 1361', 'QJ 264', 'QJ 38', 'QJ 495', 'QJ 5', 'QJ 53', 'QJ 5999', 'QJ 62', 'QJ 7', 'QJ 830', 'QJ 9886', 'QJB 31', 'QJC 9', 'QJE 17', 'QJF 12', 'QJM 46', 'QJO 8', 'QJO 9411', 'QJR 85', 'QJR 852', 'QJU 2', 'QK 270', 'QK 4', 'QK 8143', 'QK 89', 'QK 91', 'QK 92', 'QKC 3', 'QKD 851', 'QKG 6595', 'QKG 9', 'QKK 0', 'QKR 18', 'QKX 0667', 'QKZ 540', 'QL 3062', 'QL 32', 'QL 39', 'QL 4', 'QL 423', 'QL 57', 'QL 6', 'QL 91', 'QL 9913', 'QLD 2', 'QLE 7', 'QLL 4', 'QLM 62', 'QLP 221', 'QLP 768', 'QLU 2', 'QLU 6509', 'QLV 6137', 'QLW 9', 'QLZ 668', 'QM 0', 'QM 11', 'QM 3', 'QM 40', 'QM 4075', 'QM 45', 'QM 754', 'QM 8', 'QMC 532', 'QME 8605', 'QMI 77', 'QML 475', 'QMM 89', 'QMQ 7', 'QMQ 815', 'QMS 8692', 'QMY 1561', 'QMZ 164', 'QN 1290', 'QN 262', 'QN 296', 'QN 372', 'QN 4', 'QN 6477', 'QN 695', 'QN 74', 'QN 8', 'QNE 3233', 'QNE 8', 'QNK 0', 'QNK 08', 'QNL 5557', 'QNM 4576', 'QNM 485', 'QNV 247', 'QNX 7', 'QNY 577', 'QNZ 8', 'QO 0', 'QO 077', 'QO 1953', 'QO 4', 'QO 5755', 'QO 676', 'QO 69', 'QO 729', 'QO 8', 'QO 823', 'QO 9', 'QOC 45', 'QOD 36', 'QOE 9353', 'QOF 50', 'QOH 73', 'QOK 1', 'QOM 26', 'QON 5789', 'QON 94', 'QOQ 2575', 'QOW 8', 'QOX 4', 'QOY 8683', 'QP 01', 'QP 42', 'QP 5253', 'QP 88', 'QPH 1', 'QPI 3136', 'QPM 4664', 'QPQ 1272', 'QPU 26', 'QPU 582', 'QQ 1717', 'QQ 2', 'QQ 5132', 'QQ 6', 'QQ 6161', 'QQ 64', 'QQ 8479', 'QQD 19', 'QQR 938', 'QQU 207', 'QQY 127', 'QR 09', 'QR 3', 'QR 41', 'QR 6416', 'QRB 4268', 'QRF 581', 'QRG 7', 'QRM 51', 'QRO 5986', 'QRU 1', 'QRU 96', 'QRW 3346', 'QRX 419', 'QRY 551', 'QS 182', 'QS 3306', 'QS 38', 'QS 64', 'QS 68', 'QS 973', 'QSE 4079', 'QSG 4', 'QSH 9690', 'QSI 3', 'QSK 1991', 'QSM 45', 'QSP 7', 'QSP 78', 'QSR 162', 'QSU 9', 'QSV 7090', 'QT 372', 'QT 4100', 'QT 433', 'QT 47', 'QT 5', 'QT 5812', 'QT 597', 'QT 6', 'QT 6814', 'QT 8', 'QTL 8769', 'QTP 61', 'QTR 23', 'QTU 59', 'QTX 0036', 'QTZ 64', 'QU 0', 'QU 03', 'QU 07', 'QU 1', 'QU 1240', 'QU 297', 'QU 5803', 'QU 666', 'QU 74', 'QU 77', 'QU 983', 'QUA 5', 'QUB 2301', 'QUH 1', 'QUI 75', 'QUO 5218', 'QUT 1', 'QUY 137', 'QUZ 323', 'QV 08', 'QV 346', 'QV 506', 'QV 53', 'QV 5973', 'QV 63', 'QV 688', 'QV 79', 'QVI 5598', 'QVL 6', 'QVN 59', 'QVO 3483', 'QVP 4', 'QVX 9', 'QW 05', 'QW 110', 'QW 2', 'QW 296', 'QW 4', 'QW 897', 'QWA 27', 'QWB 200', 'QWB 6530', 'QWG 18', 'QWT 1768', 'QWT 75', 'QWU 7', 'QWX 0', 'QX 02', 'QX 36', 'QX 369', 'QX 469', 'QX 52', 'QX 6638', 'QX 7030', 'QX 9', 'QXB 5855', 'QXC 4985', 'QXE 96', 'QXG 316', 'QXH 1978', 'QXL 9', 'QXR 8450', 'QXT 3', 'QXZ 1375', 'QY 088', 'QY 151', 'QY 18', 'QY 29', 'QY 98', 'QYJ 2406', 'QYK 3', 'QYK 916', 'QYL 628', 'QYM 4', 'QYN 2', 'QYS 3068', 'QYS 72', 'QYT 2300', 'QZ 00', 'QZ 2633', 'QZ 343', 'QZ 379', 'QZ 5', 'QZ 5787', 'QZ 60', 'QZ 7', 'QZ 74', 'QZ 75', 'QZ 81', 'QZ 829', 'QZ 87', 'QZ 879', 'QZ 88', 'QZ 979', 'QZP 3', 'QZP 764', 'QZR 0550', 'QZW 7835', 'QZY 0', 'QZY 104', 'QZY 5198', 'RA 11', 'RA 12', 'RA 40', 'RA 9172', 'RA 98', 'RAH 854', 'RAI 5083', 'RAJ 23', 'RAM 743', 'RAN 3490', 'RAW 29', 'RAZ 406', 'RB 0', 'RB 063', 'RB 13', 'RB 16', 'RB 17', 'RB 2898', 'RB 4017', 'RB 5', 'RB 53', 'RB 9', 'RBF 6704', 'RBH 87', 'RBK 3', 'RBK 5285', 'RBO 2224', 'RBO 5241', 'RBY 61', 'RC 089', 'RC 1', 'RC 283', 'RC 3', 'RC 3129', 'RC 379', 'RC 472', 'RC 4841', 'RC 510', 'RC 5745', 'RCF 7', 'RCL 89', 'RCM 7113', 'RCQ 4', 'RCW 3', 'RCY 710', 'RCZ 189', 'RCZ 3', 'RD 0860', 'RD 337', 'RD 78', 'RDC 5284', 'RDE 5833', 'RDK 726', 'RDQ 0548', 'RDR 21', 'RDU 5', 'RDY 839', 'RE 0170', 'RE 0576', 'RE 21', 'RE 3393', 'RE 5139', 'RE 6923', 'RE 7945', 'RE 8659', 'RE 95', 'REH 0302', 'REH 2214', 'REN 4802', 'REP 98', 'REQ 07', 'RER 516', 'RES 93', 'REU 6037', 'REX 7499', 'REZ 8', 'RF 1811', 'RF 28', 'RF 9266', 'RFB 6', 'RFE 03', 'RFG 1', 'RFK 8', 'RFL 29', 'RFL 9591', 'RFQ 34', 'RFQ 601', 'RFS 5', 'RFV 8801', 'RFX 33', 'RG 093', 'RG 127', 'RG 2000', 'RG 42', 'RG 49', 'RGC 02', 'RGI 8', 'RGM 4', 'RGX 235', 'RGX 4', 'RGY 47', 'RGZ 64', 'RH 07', 'RH 4777', 'RH 5', 'RH 559', 'RH 5799', 'RH 801', 'RHC 5', 'RHI 55', 'RHM 14', 'RHY 37', 'RI 034', 'RI 273', 'RI 39', 'RI 54', 'RI 6', 'RI 90', 'RIA 15', 'RIH 9', 'RIK 51', 'RJ 09', 'RJ 188', 'RJ 3', 'RJ 4445', 'RJ 5630', 'RJ 63', 'RJ 69', 'RJ 7', 'RJ 73', 'RJ 955', 'RJF 7', 'RJI 0459', 'RJJ 9601', 'RJK 7', 'RJP 0914', 'RJP 1113', 'RJV 8', 'RJY 49', 'RK 028', 'RK 0552', 'RK 1', 'RK 1342', 'RK 287', 'RK 622', 'RK 632', 'RK 76', 'RKB 4', 'RKE 541', 'RKE 9856', 'RKK 02', 'RKM 333', 'RKO 91', 'RKR 18', 'RKX 69', 'RL 2841', 'RL 5030', 'RL 526', 'RL 7', 'RL 8497', 'RL 90', 'RLB 9128', 'RLJ 9859', 'RLL 4', 'RLV 675', 'RLY 377', 'RLY 4263', 'RM 04', 'RM 060', 'RM 294', 'RM 3', 'RM 320', 'RM 4259', 'RM 5566', 'RM 67', 'RMG 0', 'RMK 975', 'RML 82', 'RMM 8538', 'RMN 1567', 'RMN 3824', 'RMR 3072', 'RMY 4153', 'RN 078', 'RN 1', 'RN 2409', 'RN 5', 'RN 5628', 'RN 59', 'RN 6276', 'RN 6413', 'RN 67', 'RN 778', 'RN 95', 'RNA 689', 'RNA 70', 'RNB 70', 'RNQ 6', 'RNR 17', 'RO 0', 'RO 00', 'RO 0877', 'RO 1', 'RO 15', 'RO 165', 'RO 407', 'RO 566', 'RO 7024', 'RO 87', 'RO 9', 'ROD 980', 'ROE 7', 'ROK 9460', 'ROL 76', 'ROS 1', 'ROS 9079', 'ROU 6', 'ROZ 841', 'RP 07', 'RP 2', 'RP 391', 'RP 411', 'RP 472', 'RP 5258', 'RP 6', 'RP 7292', 'RP 80', 'RPA 8', 'RPC 1', 'RPC 3', 'RPR 3822', 'RPW 835', 'RPY 3516', 'RQ 0', 'RQ 05', 'RQ 1', 'RQ 158', 'RQ 6', 'RQ 85', 'RQ 99', 'RQE 479', 'RQG 243', 'RQH 732', 'RQI 2', 'RQW 77', 'RR 0800', 'RR 098', 'RR 13', 'RR 36', 'RR 4', 'RR 6', 'RR 618', 'RRA 35', 'RRB 40', 'RRE 8', 'RRG 20', 'RRI 885', 'RRK 6112', 'RRL 81', 'RRP 953', 'RRR 3830', 'RRS 2', 'RRT 5527', 'RRV 09', 'RRY 624', 'RRZ 8403', 'RS 1', 'RS 2', 'RS 3', 'RS 5', 'RS 6', 'RS 685', 'RS 76', 'RSF 703', 'RSG 6843', 'RSI 49', 'RSK 97', 'RSM 5', 'RSP 63', 'RSQ 08', 'RST 5180', 'RST 7', 'RSV 5988', 'RSW 6506', 'RT 154', 'RT 3', 'RT 607', 'RT 784', 'RT 918', 'RTH 346', 'RTI 4', 'RTK 349', 'RTO 2487', 'RTP 51', 'RTR 6', 'RTS 6189', 'RU 16', 'RU 36', 'RU 397', 'RU 4', 'RU 6932', 'RU 72', 'RU 94', 'RUB 7379', 'RUD 30', 'RUJ 8848', 'RUM 3', 'RV 376', 'RV 48', 'RV 60', 'RV 724', 'RV 931', 'RVB 140', 'RVB 2981', 'RVE 40', 'RVG 95', 'RVH 659', 'RVI 082', 'RVL 7037', 'RVO 8056', 'RVQ 2', 'RVZ 0', 'RVZ 26', 'RW 04', 'RW 1', 'RW 48', 'RW 489', 'RW 6024', 'RW 77', 'RW 8', 'RW 817', 'RW 9', 'RW 937', 'RWD 555', 'RWI 8950', 'RWJ 31', 'RWL 92', 'RWT 833', 'RX 057', 'RX 1', 'RX 2045', 'RX 426', 'RX 6', 'RX 76', 'RXH 0916', 'RXH 96', 'RXK 52', 'RXU 6', 'RY 0', 'RY 08', 'RY 1610', 'RY 5', 'RY 516', 'RY 645', 'RY 70', 'RYL 46', 'RYN 4', 'RYO 55', 'RYQ 2', 'RYQ 47', 'RYS 3', 'RYU 5', 'RYU 7', 'RYV 0', 'RZ 05', 'RZ 9015', 'RZB 290', 'RZB 7977', 'RZH 63', 'RZJ 7', 'RZN 5089', 'RZR 0882', 'RZT 15', 'RZV 70', 'SA 108', 'SA 2', 'SA 78', 'SA 8', 'SA 997', 'SAA 487', 'SAC 506', 'SAL 1597', 'SAL 8', 'SAR 94', 'SAS 0', 'SAS 53', 'SAU 6228', 'SB 0', 'SB 2279', 'SB 287', 'SB 3', 'SB 434', 'SB 571', 'SB 74', 'SB 8', 'SBM 602', 'SBT 98', 'SBV 414', 'SC 32', 'SC 51', 'SC 53', 'SC 6573', 'SC 712', 'SC 8', 'SC 93', 'SC 9389', 'SCB 2', 'SCE 98', 'SCL 6403', 'SCO 83', 'SCQ 82', 'SCW 4671', 'SCW 8211', 'SD 242', 'SD 3', 'SD 341', 'SD 4326', 'SD 576', 'SD 8880', 'SDB 8', 'SDE 0', 'SDG 2', 'SDI 656', 'SDX 0587', 'SDY 0794', 'SE 1', 'SE 106', 'SE 553', 'SE 59', 'SE 62', 'SE 7', 'SE 9', 'SEB 47', 'SED 3', 'SEF 1746', 'SEM 518', 'SER 8', 'SEV 947', 'SEX 62', 'SF 7', 'SF 70', 'SF 8', 'SF 862', 'SFC 2', 'SFD 180', 'SFE 0472', 'SFE 4', 'SFE 9119', 'SFF 85', 'SFM 4', 'SFS 5', 'SG 37', 'SG 586', 'SG 9', 'SG 93', 'SGA 48', 'SGH 2689', 'SGH 4030', 'SGH 773', 'SGV 3353', 'SGV 5455', 'SGX 6317', 'SH 0', 'SH 202', 'SH 378', 'SH 40', 'SH 47', 'SH 9272', 'SHB 9', 'SHF 4', 'SHG 5802', 'SHI 2', 'SHI 6167', 'SHJ 5', 'SHL 1094', 'SHR 14', 'SHR 1534', 'SHS 56', 'SHU 475', 'SHU 54', 'SHV 002', 'SHV 332', 'SHX 332', 'SI 2', 'SI 5', 'SI 61', 'SI 65', 'SI 9', 'SI 9029', 'SIA 91', 'SIB 336', 'SIC 349', 'SIS 277', 'SIV 42', 'SIV 895', 'SIY 677', 'SJ 15', 'SJ 1706', 'SJ 3', 'SJ 4', 'SJ 69', 'SJ 7', 'SJ 70', 'SJ 9', 'SJF 7', 'SJK 597', 'SJS 31', 'SJX 9', 'SK 0', 'SK 02', 'SK 4577', 'SK 81', 'SK 86', 'SKA 3', 'SKB 9', 'SKD 1693', 'SKG 6', 'SKM 165', 'SKN 6259', 'SKO 0132', 'SKQ 45', 'SKQ 5', 'SKT 175', 'SKT 344', 'SKZ 50', 'SL 1', 'SL 1307', 'SL 71', 'SL 776', 'SL 8', 'SL 80', 'SL 813', 'SL 8337', 'SL 88', 'SLB 9311', 'SLF 2', 'SLK 3', 'SLN 7467', 'SLP 32', 'SLR 24', 'SLX 3614', 'SLY 0528', 'SLY 5599', 'SM 294', 'SM 35', 'SM 4104', 'SM 6016', 'SM 7774', 'SM 810', 'SM 9071', 'SM 9585', 'SMA 702', 'SMK 90', 'SMP 4397', 'SMP 5895', 'SMV 438', 'SMZ 0627', 'SN 5', 'SN 7', 'SN 7616', 'SN 8', 'SN 812', 'SNF 839', 'SNJ 5', 'SNK 87', 'SNL 06', 'SNS 241', 'SNU 500', 'SNV 7582', 'SNW 203', 'SNW 525', 'SO 0560', 'SO 1', 'SO 20', 'SO 204', 'SO 733', 'SO 74', 'SOG 2', 'SOI 40', 'SOP 6193', 'SOQ 016', 'SOQ 6', 'SOU 310', 'SOW 8432', 'SOY 85', 'SP 03', 'SP 1624', 'SP 179', 'SP 54', 'SP 559', 'SP 6229', 'SP 72', 'SP 9600', 'SP 97', 'SPG 27', 'SPG 392', 'SPL 4397', 'SPM 67', 'SPR 27', 'SPV 04', 'SPX 541', 'SQ 232', 'SQ 6', 'SQ 7420', 'SQ 822', 'SQ 9', 'SQ 94', 'SQB 088', 'SQB 4490', 'SQN 1', 'SQN 476', 'SQO 83', 'SQQ 6047', 'SQR 76', 'SQS 491', 'SQT 0', 'SQY 9', 'SR 1186', 'SR 1252', 'SR 357', 'SR 4575', 'SR 4878', 'SR 5', 'SR 569', 'SR 5692', 'SR 7', 'SR 70', 'SR 72', 'SR 8240', 'SRE 1', 'SRO 4896', 'SRP 65', 'SRP 9', 'SRQ 2762', 'SRY 32', 'SS 04', 'SS 1621', 'SS 353', 'SS 4088', 'SS 492', 'SS 5', 'SS 6', 'SS 6211', 'SS 6567', 'SS 78', 'SS 976', 'SSA 2', 'SSC 63', 'SSM 9', 'SSP 0', 'SSP 248', 'SSQ 7882', 'ST 039', 'ST 1', 'ST 1104', 'ST 1791', 'ST 3', 'ST 43', 'ST 5', 'ST 6', 'ST 640', 'ST 728', 'ST 8442', 'ST 900', 'ST 95', 'ST 9565', 'STA 6', 'STE 20', 'STH 4', 'STR 1', 'STT 420', 'STW 64', 'SU 17', 'SU 5', 'SU 5467', 'SU 6', 'SU 61', 'SU 8605', 'SU 93', 'SUD 60', 'SUD 6408', 'SUQ 415', 'SUZ 9963', 'SV 2', 'SV 227', 'SV 23', 'SV 301', 'SV 565', 'SV 6', 'SV 63', 'SV 742', 'SV 82', 'SV 893', 'SVD 70', 'SVH 33', 'SVM 0', 'SVO 658', 'SVV 97', 'SW 09', 'SW 1', 'SW 676', 'SW 68', 'SW 71', 'SW 78', 'SW 9', 'SWK 4', 'SWM 96', 'SWR 3', 'SWW 429', 'SX 0', 'SX 31', 'SX 5', 'SX 60', 'SX 600', 'SX 7', 'SX 7147', 'SX 872', 'SX 9', 'SX 982', 'SX 9964', 'SXI 50', 'SXI 679', 'SXL 6', 'SXR 4433', 'SXT 97', 'SXW 6', 'SXX 7', 'SY 15', 'SY 1923', 'SY 2', 'SY 289', 'SY 4', 'SY 9', 'SYB 0', 'SYB 5', 'SYF 7366', 'SYG 8756', 'SYS 1520', 'SYS 770', 'SYW 3', 'SZ 1971', 'SZ 3784', 'SZ 41', 'SZA 49', 'SZG 855', 'SZT 3653', 'SZW 74', 'SZW 82', 'SZX 017', 'TA 05', 'TA 065', 'TA 12', 'TA 13', 'TA 158', 'TA 2', 'TA 301', 'TA 3158', 'TA 6', 'TA 670', 'TA 6701', 'TA 82', 'TA 852', 'TAA 5', 'TAD 5898', 'TAD 687', 'TAI 5643', 'TAK 3', 'TAP 472', 'TAU 18', 'TAU 52', 'TAW 3', 'TB 5', 'TB 5190', 'TB 8', 'TBA 3', 'TBC 15', 'TBD 4399', 'TBF 673', 'TBK 0938', 'TBK 7477', 'TBN 52', 'TBW 63', 'TBY 03', 'TBY 947', 'TC 1', 'TC 165', 'TC 33', 'TC 4', 'TC 5552', 'TC 7', 'TC 8', 'TC 835', 'TC 9470', 'TCB 6877', 'TCD 49', 'TCE 3', 'TCE 40', 'TCL 16', 'TCO 5822', 'TCP 8', 'TCS 403', 'TCS 53', 'TCS 8063', 'TCX 6439', 'TD 86', 'TD 97', 'TDL 7704', 'TDZ 265', 'TDZ 46', 'TE 3', 'TE 4', 'TE 7', 'TE 73', 'TE 81', 'TED 28', 'TEG 199', 'TEN 472', 'TEN 5', 'TES 3415', 'TEU 3605', 'TEW 8', 'TEX 8', 'TEY 92', 'TF 3', 'TF 42', 'TF 4720', 'TF 6', 'TF 685', 'TF 7', 'TF 799', 'TFI 54', 'TFR 825', 'TFY 9184', 'TG 0065', 'TG 0396', 'TG 3280', 'TG 4338', 'TGD 5', 'TH 1', 'TH 2', 'TH 4258', 'TH 4758', 'TH 9', 'TH 94', 'TH 9453', 'THB 97', 'THD 6', 'THE 567', 'THU 4', 'TI 643', 'TI 673', 'TI 9', 'TI 93', 'TIF 93', 'TII 5', 'TIM 288', 'TIS 82', 'TIX 4012', 'TIY 106', 'TIZ 9', 'TJ 2', 'TJ 382', 'TJ 4', 'TJ 4107', 'TJ 69', 'TJ 7354', 'TJ 7956', 'TJB 2', 'TJD 2', 'TJE 7', 'TJL 88', 'TJT 6', 'TJT 8', 'TJU 163', 'TJX 2128', 'TJZ 83', 'TK 7', 'TK 739', 'TKH 804', 'TKJ 2670', 'TKL 60', 'TKP 5122', 'TKR 17', 'TKT 09', 'TKU 10', 'TKV 702', 'TKY 790', 'TL 1', 'TL 208', 'TL 2371', 'TL 35', 'TL 383', 'TL 4', 'TL 5', 'TL 523', 'TL 7', 'TL 719', 'TL 80', 'TL 8041', 'TLB 91', 'TLD 8', 'TLG 433', 'TLP 5305', 'TLX 990', 'TLY 6', 'TM 153', 'TM 338', 'TM 50', 'TM 788', 'TMC 36', 'TMR 35', 'TMS 9876', 'TMZ 71', 'TN 015', 'TN 0644', 'TN 27', 'TN 38', 'TN 4597', 'TN 47', 'TN 6', 'TN 6134', 'TN 6888', 'TN 7', 'TN 799', 'TN 8549', 'TN 87', 'TN 9', 'TNB 08', 'TNG 43', 'TNQ 103', 'TNV 5955', 'TNY 11', 'TO 0032', 'TO 4916', 'TO 50', 'TO 6', 'TO 64', 'TO 7991', 'TO 9', 'TO 942', 'TOA 8', 'TOC 2262', 'TOE 0', 'TOE 1629', 'TOH 169', 'TON 21', 'TOT 0096', 'TP 1', 'TP 353', 'TP 4', 'TP 57', 'TP 79', 'TP 8', 'TP 82', 'TP 986', 'TPH 8', 'TPN 455', 'TPQ 74', 'TPT 4951', 'TPZ 1641', 'TQ 1', 'TQ 40', 'TQ 424', 'TQ 44', 'TQ 5', 'TQ 74', 'TQ 82', 'TQD 511', 'TQG 2', 'TQJ 8', 'TQR 594', 'TQS 7', 'TQY 0297', 'TR 058', 'TR 125', 'TR 40', 'TR 5', 'TR 6222', 'TRR 2', 'TRS 17', 'TS 13', 'TS 157', 'TS 3', 'TS 3365', 'TS 4', 'TS 469', 'TS 615', 'TS 7', 'TS 93', 'TSA 0374', 'TSA 7', 'TSB 1', 'TSG 0', 'TSN 5151', 'TST 324', 'TST 8', 'TSW 3375', 'TT 2', 'TT 263', 'TT 283', 'TT 3', 'TT 34', 'TT 6', 'TT 62', 'TT 6351', 'TT 66', 'TT 797', 'TT 8771', 'TTK 46', 'TTM 4098', 'TTP 76', 'TTU 82', 'TU 3309', 'TU 4', 'TU 445', 'TU 4853', 'TU 7751', 'TU 8737', 'TUA 0707', 'TUB 3', 'TUD 379', 'TUE 0', 'TUJ 2625', 'TUK 591', 'TUL 0', 'TUL 2245', 'TUL 99', 'TUM 09', 'TUU 4093', 'TUY 4', 'TUY 741', 'TV 0', 'TV 1', 'TV 1291', 'TV 1352', 'TV 3011', 'TV 61', 'TV 639', 'TV 74', 'TV 8197', 'TV 83', 'TVA 46', 'TVB 159', 'TVC 5', 'TVL 0', 'TVU 8638', 'TVW 003', 'TVX 08', 'TVZ 5334', 'TW 0', 'TW 04', 'TW 17', 'TW 31', 'TW 4070', 'TW 46', 'TW 6087', 'TW 61', 'TWB 448', 'TWC 022', 'TWC 18', 'TWE 048', 'TWE 09', 'TWF 221', 'TWF 3669', 'TWJ 2978', 'TWM 201', 'TWP 39', 'TWQ 614', 'TWU 3', 'TWW 75', 'TX 0', 'TX 091', 'TX 19', 'TX 2323', 'TX 6', 'TX 6454', 'TX 8', 'TX 8578', 'TXA 4', 'TXB 16', 'TXH 4332', 'TXO 6', 'TXR 4', 'TXT 598', 'TXY 6', 'TY 0', 'TY 19', 'TY 1923', 'TY 3194', 'TY 483', 'TY 5865', 'TY 61', 'TYM 89', 'TYN 4994', 'TYV 4108', 'TYW 55', 'TZ 4451', 'TZ 5394', 'TZG 749', 'TZK 48', 'TZN 72', 'TZQ 7586', 'TZR 4844', 'TZU 1', 'UA 229', 'UA 5', 'UA 6001', 'UA 843', 'UA 8560', 'UAA 648', 'UAC 0208', 'UAE 099', 'UAH 4654', 'UAI 94', 'UAJ 0165', 'UAS 66', 'UB 087', 'UB 49', 'UB 692', 'UB 8811', 'UBI 306', 'UBM 7727', 'UBN 558', 'UBR 18', 'UBY 6240', 'UC 26', 'UC 263', 'UC 3287', 'UC 3838', 'UC 4', 'UC 55', 'UC 797', 'UC 8', 'UCB 13', 'UCB 8823', 'UCK 6', 'UCO 6606', 'UCP 0093', 'UCX 0043', 'UD 0435', 'UD 1428', 'UD 145', 'UD 211', 'UD 4279', 'UD 45', 'UD 58', 'UD 6', 'UD 8', 'UD 9', 'UD 9406', 'UD 97', 'UDC 7349', 'UDE 1767', 'UDJ 570', 'UDO 1557', 'UDO 6', 'UE 1026', 'UE 3869', 'UE 4367', 'UE 5116', 'UE 579', 'UE 61', 'UE 7534', 'UE 85', 'UEE 212', 'UEH 032', 'UEI 98', 'UER 6', 'UES 02', 'UEX 592', 'UEZ 68', 'UF 0', 'UF 27', 'UF 3', 'UF 4', 'UF 83', 'UF 8546', 'UFA 515', 'UFD 19', 'UFJ 90', 'UFL 0502', 'UFM 8', 'UFN 836', 'UFP 0', 'UFP 584', 'UFT 9523', 'UFW 3690', 'UFW 59', 'UFX 022', 'UFY 4', 'UG 1', 'UG 5', 'UG 50', 'UG 547', 'UG 60', 'UG 8', 'UG 822', 'UG 9', 'UGH 468', 'UGJ 4', 'UGL 7', 'UGP 632', 'UGT 2586', 'UGT 403', 'UGW 761', 'UH 08', 'UH 1', 'UH 1091', 'UH 1870', 'UH 30', 'UH 3305', 'UH 46', 'UH 546', 'UH 6179', 'UH 650', 'UH 880', 'UH 9', 'UH 90', 'UHD 80', 'UHG 2', 'UHG 736', 'UHH 6498', 'UHI 504', 'UHI 9', 'UHO 39', 'UHV 088', 'UI 3', 'UI 36', 'UI 39', 'UI 408', 'UI 733', 'UI 7586', 'UIB 8351', 'UID 2170', 'UIG 73', 'UIK 7929', 'UIQ 3', 'UIQ 873', 'UIY 4617', 'UJ 0', 'UJ 0681', 'UJ 07', 'UJ 20', 'UJ 3', 'UJ 6083', 'UJ 6552', 'UJ 6856', 'UJ 78', 'UJ 780', 'UJ 97', 'UJB 8620', 'UJG 43', 'UJI 7918', 'UJJ 9662', 'UJZ 90', 'UK 5', 'UK 7017', 'UK 74', 'UK 8', 'UK 824', 'UK 9371', 'UK 9712', 'UK 9862', 'UKC 713', 'UKD 59', 'UKE 3', 'UKE 6', 'UKI 888', 'UKM 6174', 'UKQ 6', 'UKR 404', 'UKS 5', 'UL 356', 'UL 50', 'UL 57', 'UL 678', 'UL 710', 'UL 88', 'ULL 74', 'ULO 8', 'ULQ 3554', 'ULW 083', 'ULX 917', 'UM 226', 'UM 24', 'UM 5589', 'UM 563', 'UM 8071', 'UM 812', 'UM 9', 'UM 9126', 'UME 0', 'UMI 59', 'UML 978', 'UMT 0', 'UMW 76', 'UMX 5', 'UMZ 673', 'UN 24', 'UN 4', 'UN 6490', 'UN 7260', 'UNS 84', 'UO 0', 'UO 04', 'UO 50', 'UO 544', 'UO 9132', 'UOB 564', 'UOD 21', 'UOD 306', 'UOF 49', 'UOI 4247', 'UOI 80', 'UOI 888', 'UOM 6', 'UOP 290', 'UOT 7', 'UOX 2', 'UP 0164', 'UP 14', 'UP 2', 'UP 396', 'UP 4', 'UP 44', 'UP 4588', 'UP 59', 'UP 7855', 'UPB 166', 'UPD 095', 'UPF 37', 'UPM 6994', 'UPR 9', 'UPV 885', 'UPX 02', 'UQ 07', 'UQ 0728', 'UQ 2994', 'UQ 7', 'UQ 9', 'UQC 66', 'UQF 2980', 'UQG 204', 'UQV 232', 'UQY 2467', 'UR 4141', 'UR 5554', 'UR 8969', 'URA 395', 'URD 2236', 'URL 7', 'URL 9480', 'URM 4810', 'URP 06', 'URQ 9886', 'URT 4237', 'URT 533', 'URV 5', 'URV 7006', 'URY 4724', 'US 2', 'US 562', 'US 61', 'US 630', 'US 668', 'US 8', 'US 9', 'USA 42', 'USA 8945', 'USD 0547', 'USE 57', 'USL 315', 'USP 3419', 'UST 2', 'USV 209', 'USW 9', 'USZ 564', 'USZ 6', 'UT 0', 'UT 1645', 'UT 3', 'UT 5728', 'UT 7', 'UT 707', 'UTC 58', 'UTH 8', 'UTH 97', 'UTK 16', 'UTN 5005', 'UTO 8', 'UTP 23', 'UTP 41', 'UTQ 4041', 'UTT 229', 'UTW 9', 'UU 0762', 'UU 1536', 'UU 3943', 'UU 4', 'UU 4248', 'UU 7132', 'UU 9', 'UUB 4391', 'UUD 900', 'UUK 911', 'UUM 52', 'UUP 164', 'UUT 011', 'UUZ 71', 'UV 0', 'UV 1311', 'UV 6', 'UV 60', 'UV 6653', 'UV 6927', 'UV 763', 'UV 9137', 'UV 98', 'UV 9816', 'UVA 5', 'UVC 8', 'UVH 28', 'UVH 9', 'UVJ 953', 'UVK 1', 'UVM 69', 'UVN 92', 'UVR 952', 'UVS 70', 'UVY 67', 'UW 065', 'UW 2266', 'UW 47', 'UW 812', 'UW 9', 'UW 920', 'UWB 612', 'UWD 855', 'UWH 81', 'UWS 4', 'UWZ 88', 'UX 3296', 'UX 51', 'UX 5785', 'UX 8', 'UX 91', 'UXB 4819', 'UXB 813', 'UXK 39', 'UXN 7381', 'UXP 3064', 'UXZ 67', 'UY 124', 'UY 236', 'UY 29', 'UY 410', 'UY 4250', 'UY 47', 'UY 6', 'UY 611', 'UY 737', 'UY 9', 'UY 9401', 'UYA 3332', 'UYA 3336', 'UYB 52', 'UYH 74', 'UYI 02', 'UYK 2989', 'UYL 6', 'UYM 2', 'UYN 4078', 'UYN 8', 'UYW 2', 'UYX 9015', 'UZ 0', 'UZ 1405', 'UZ 167', 'UZ 22', 'UZ 240', 'UZ 3167', 'UZ 7702', 'UZ 8', 'UZ 8925', 'UZ 987', 'UZB 341', 'UZF 5', 'UZG 723', 'UZJ 4064', 'UZJ 6001', 'UZM 0', 'UZM 972', 'UZO 3', 'UZZ 14', 'UZZ 595', 'VA 3', 'VA 5', 'VA 521', 'VA 7', 'VA 795', 'VAB 30', 'VAD 3', 'VAF 110', 'VAG 87', 'VAM 51', 'VAO 47', 'VAT 996', 'VAW 45', 'VAX 193', 'VB 076', 'VB 108', 'VB 2313', 'VB 669', 'VB 6857', 'VB 7', 'VB 9', 'VB 97', 'VBA 3', 'VBB 557', 'VBS 5189', 'VBX 1', 'VBX 93', 'VBZ 8770', 'VC 1139', 'VC 2', 'VC 322', 'VC 3616', 'VC 4220', 'VC 45', 'VC 8992', 'VCD 75', 'VCI 3', 'VCQ 910', 'VCR 3209', 'VCX 85', 'VD 12', 'VD 1477', 'VD 1498', 'VD 2304', 'VD 31', 'VD 4401', 'VD 5440', 'VD 629', 'VD 65', 'VD 8768', 'VD 903', 'VDA 816', 'VDE 2', 'VDL 23', 'VDL 6', 'VDQ 33', 'VDW 4885', 'VE 0', 'VE 25', 'VE 3', 'VE 3707', 'VE 4772', 'VE 5287', 'VE 6', 'VE 7', 'VE 8', 'VE 927', 'VEG 4', 'VEG 545', 'VEU 5516', 'VEW 4', 'VEZ 2', 'VF 136', 'VF 21', 'VF 57', 'VF 62', 'VF 63', 'VF 72', 'VF 7244', 'VF 932', 'VFB 071', 'VFC 6', 'VFL 50', 'VFM 6', 'VFM 84', 'VFQ 156', 'VFS 2704', 'VFV 4', 'VFV 86', 'VFV 9', 'VG 042', 'VG 090', 'VG 1275', 'VG 4', 'VG 524', 'VG 824', 'VGB 1', 'VGB 610', 'VGC 1211', 'VGH 6871', 'VGP 391', 'VGU 1734', 'VGW 4285', 'VH 1071', 'VH 479', 'VH 6', 'VH 653', 'VH 827', 'VH 9760', 'VHE 2074', 'VHF 4', 'VHG 4991', 'VHH 09', 'VHH 5412', 'VHI 0', 'VHM 34', 'VHO 183', 'VHQ 6592', 'VHW 6', 'VI 070', 'VI 1394', 'VI 190', 'VI 80', 'VID 016', 'VIF 45', 'VIF 877', 'VII 58', 'VIP 96', 'VIT 2', 'VIZ 1', 'VIZ 7553', 'VJ 0', 'VJ 338', 'VJ 4', 'VJ 7740', 'VJ 8', 'VJB 2991', 'VJE 8483', 'VJH 9445', 'VJJ 415', 'VJW 1806', 'VJX 7', 'VJY 74', 'VK 3', 'VK 3302', 'VK 5', 'VK 5177', 'VK 6275', 'VK 655', 'VK 6908', 'VK 9755', 'VKA 3335', 'VKC 1655', 'VKD 047', 'VKH 1520', 'VKI 1367', 'VKM 096', 'VKV 47', 'VKZ 4', 'VKZ 5377', 'VL 069', 'VL 08', 'VL 2', 'VL 2789', 'VL 3', 'VL 32', 'VL 5', 'VL 5255', 'VL 5666', 'VL 578', 'VL 634', 'VL 641', 'VL 717', 'VL 99', 'VLA 2', 'VLA 37', 'VLB 270', 'VLB 4', 'VLC 25', 'VLH 462', 'VLK 345', 'VLK 65', 'VLM 6149', 'VLQ 635', 'VLT 8', 'VLY 61', 'VM 06', 'VM 240', 'VM 4312', 'VM 4637', 'VM 4837', 'VM 5584', 'VM 75', 'VM 97', 'VMC 715', 'VMW 4021', 'VMZ 2', 'VN 1', 'VN 550', 'VN 6064', 'VN 9566', 'VND 07', 'VND 645', 'VNF 717', 'VNP 103', 'VNP 123', 'VNP 921', 'VNR 23', 'VNT 18', 'VNW 197', 'VO 4327', 'VO 439', 'VO 49', 'VO 5', 'VO 5048', 'VO 5494', 'VO 725', 'VO 800', 'VO 836', 'VO 8622', 'VOB 3369', 'VOE 8390', 'VOO 74', 'VOQ 5', 'VOU 0753', 'VOX 5', 'VP 1', 'VP 104', 'VP 170', 'VP 392', 'VP 546', 'VP 5867', 'VP 6662', 'VP 8232', 'VP 8937', 'VPB 628', 'VPE 53', 'VPH 49', 'VPL 46', 'VPM 88', 'VPP 6', 'VPP 94', 'VPS 2', 'VPV 8', 'VPX 9', 'VQ 07', 'VQ 208', 'VQ 5', 'VQ 62', 'VQ 70', 'VQ 75', 'VQ 7577', 'VQ 8893', 'VQB 926', 'VQF 9', 'VQF 9507', 'VQK 1835', 'VQR 2585', 'VQS 03', 'VQZ 425', 'VR 239', 'VR 2679', 'VR 4', 'VR 731', 'VR 8', 'VRC 1', 'VRD 301', 'VRF 9224', 'VRL 1269', 'VRR 7', 'VRT 7361', 'VS 06', 'VS 0654', 'VS 20', 'VS 21', 'VS 3', 'VS 386', 'VS 563', 'VS 8048', 'VS 9', 'VSB 928', 'VSL 8309', 'VSM 3361', 'VSM 71', 'VSS 368', 'VSY 7', 'VT 0', 'VT 4', 'VT 8', 'VTC 66', 'VTG 551', 'VTG 8648', 'VTJ 2842', 'VTM 7', 'VTM 82', 'VTM 97', 'VTP 79', 'VTS 87', 'VTU 24', 'VTX 883', 'VTY 24', 'VTZ 9', 'VU 15', 'VU 26', 'VU 6', 'VUA 4227', 'VUG 0', 'VUI 4', 'VUN 56', 'VUR 2', 'VUT 0', 'VUV 5', 'VV 0200', 'VV 0547', 'VV 1557', 'VV 2', 'VV 217', 'VV 5090', 'VV 7', 'VV 7408', 'VVA 14', 'VVC 217', 'VVD 1', 'VVK 7', 'VVN 33', 'VVN 69', 'VVO 42', 'VVV 93', 'VVX 65', 'VW 0248', 'VW 06', 'VW 2', 'VW 2118', 'VW 380', 'VW 45', 'VW 9059', 'VW 915', 'VW 92', 'VWC 048', 'VWG 549', 'VWI 0', 'VWI 45', 'VWM 13', 'VWM 8', 'VWO 4620', 'VWO 9', 'VWP 96', 'VWV 98', 'VWX 572', 'VX 0', 'VX 1', 'VX 2156', 'VX 2696', 'VX 2701', 'VX 472', 'VX 5', 'VX 5709', 'VX 58', 'VX 7', 'VX 7170', 'VXA 3', 'VXD 1', 'VXG 6451', 'VXG 83', 'VXH 478', 'VXK 1', 'VXK 589', 'VXK 69', 'VXO 51', 'VXZ 059', 'VXZ 3470', 'VY 02', 'VY 1120', 'VY 1429', 'VY 5103', 'VY 653', 'VY 681', 'VY 87', 'VY 89', 'VY 9', 'VY 9377', 'VYD 0', 'VYG 47', 'VYL 41', 'VYM 40', 'VYN 394', 'VYZ 2289', 'VZ 2', 'VZ 315', 'VZ 40', 'VZ 43', 'VZ 4485', 'VZ 542', 'VZ 6', 'VZ 62', 'VZ 75', 'VZ 8', 'VZ 815', 'VZ 96', 'VZG 951', 'VZH 370', 'VZH 493', 'VZK 1', 'VZN 70', 'VZQ 4', 'VZS 232', 'WA 0251', 'WA 06', 'WA 07', 'WA 0712', 'WA 1', 'WA 28', 'WA 2941', 'WA 298', 'WA 358', 'WA 4365', 'WA 490', 'WA 5', 'WA 6356', 'WA 7257', 'WA 834', 'WA 8702', 'WA 94', 'WA 966', 'WAA 76', 'WAH 45', 'WAH 709', 'WAI 143', 'WAK 2', 'WAN 5', 'WAO 44', 'WAO 82', 'WAP 2445', 'WAV 8496', 'WAW 7524', 'WB 0', 'WB 0507', 'WB 1050', 'WB 17', 'WB 1842', 'WB 3', 'WB 4', 'WB 418', 'WB 423', 'WB 498', 'WB 5', 'WB 5201', 'WB 6682', 'WB 67', 'WB 7', 'WB 721', 'WB 8', 'WB 8116', 'WB 8716', 'WB 9', 'WB 99', 'WB 9929', 'WBC 7', 'WBG 3', 'WBH 6', 'WBK 0', 'WBM 71', 'WBO 933', 'WBP 902', 'WBV 792', 'WC 044', 'WC 05', 'WC 0611', 'WC 067', 'WC 2', 'WC 261', 'WC 2639', 'WC 2648', 'WC 3', 'WC 31', 'WC 37', 'WC 387', 'WC 5', 'WC 50', 'WC 5183', 'WC 65', 'WC 7', 'WC 70', 'WC 81', 'WC 89', 'WC 9', 'WC 91', 'WCA 0', 'WCF 262', 'WCF 6', 'WCG 5216', 'WCG 83', 'WCH 48', 'WCH 787', 'WCI 74', 'WCK 59', 'WCM 6019', 'WCM 8066', 'WCM 98', 'WCM 99', 'WCO 8', 'WCQ 7', 'WCS 554', 'WCU 81', 'WCZ 357', 'WCZ 866', 'WCZ 8806', 'WD 078', 'WD 1127', 'WD 1394', 'WD 1620', 'WD 2', 'WD 3849', 'WD 513', 'WD 59', 'WD 6', 'WD 7', 'WD 770', 'WD 8', 'WD 9289', 'WD 9363', 'WDJ 8287', 'WDN 9', 'WDQ 7654', 'WDR 135', 'WDU 212', 'WDU 252', 'WDV 4228', 'WDX 437', 'WE 07', 'WE 1253', 'WE 172', 'WE 21', 'WE 25', 'WE 3290', 'WE 332', 'WE 3424', 'WE 37', 'WE 373', 'WE 374', 'WE 45', 'WE 497', 'WE 505', 'WE 65', 'WE 7', 'WE 7011', 'WE 7108', 'WE 9', 'WE 986', 'WEH 664', 'WEH 8717', 'WEJ 4848', 'WEO 2597', 'WEV 257', 'WEV 651', 'WEW 4350', 'WEX 39', 'WEY 279', 'WF 0', 'WF 06', 'WF 1', 'WF 42', 'WF 4548', 'WF 7', 'WF 773', 'WF 7892', 'WF 9', 'WF 90', 'WF 9829', 'WFA 6', 'WFB 8089', 'WFE 1223', 'WFG 152', 'WFH 6', 'WFL 0', 'WFL 8', 'WFN 917', 'WFS 724', 'WFS 800', 'WFT 00', 'WFT 494', 'WFZ 8546', 'WG 0', 'WG 19', 'WG 3', 'WG 365', 'WG 461', 'WG 5', 'WG 502', 'WG 507', 'WG 6', 'WG 6359', 'WG 687', 'WG 7', 'WG 797', 'WG 848', 'WG 9', 'WG 93', 'WG 9406', 'WGA 4131', 'WGD 27', 'WGF 5176', 'WGI 92', 'WGL 0642', 'WGL 51', 'WGL 9650', 'WGO 78', 'WGP 161', 'WGQ 850', 'WGS 484', 'WGT 64', 'WH 1637', 'WH 2', 'WH 2992', 'WH 3', 'WH 37', 'WH 4', 'WH 54', 'WH 59', 'WH 637', 'WHA 9', 'WHC 24', 'WHC 4880', 'WHD 79', 'WHD 8', 'WHD 9551', 'WHF 80', 'WHH 195', 'WHH 75', 'WHM 4064', 'WHN 631', 'WHP 7', 'WHQ 2404', 'WHR 4', 'WHR 9', 'WHS 118', 'WHS 1994', 'WHU 9592', 'WHY 3849', 'WI 0', 'WI 0358', 'WI 1047', 'WI 112', 'WI 2934', 'WI 6', 'WI 6500', 'WI 6520', 'WI 79', 'WI 806', 'WI 8972', 'WI 9', 'WI 92', 'WIG 3', 'WIJ 41', 'WIK 838', 'WIP 4251', 'WIQ 649', 'WIS 6608', 'WJ 1', 'WJ 1292', 'WJ 13', 'WJ 153', 'WJ 213', 'WJ 318', 'WJ 4', 'WJ 5300', 'WJ 5416', 'WJ 5576', 'WJ 6', 'WJ 60', 'WJ 721', 'WJ 8148', 'WJ 94', 'WJK 7', 'WJL 0', 'WJR 59', 'WJS 8', 'WJU 6497', 'WJX 2', 'WJZ 03', 'WJZ 34', 'WJZ 4', 'WK 018', 'WK 044', 'WK 060', 'WK 1', 'WK 14', 'WK 1567', 'WK 17', 'WK 223', 'WK 2535', 'WK 484', 'WK 5', 'WK 51', 'WK 91', 'WK 97', 'WKD 27', 'WKE 5397', 'WKG 77', 'WKI 92', 'WKK 5', 'WKK 59', 'WKK 66', 'WKL 349', 'WKM 2418', 'WKN 6', 'WKO 1', 'WKO 93', 'WKP 964', 'WKQ 1261', 'WKR 75', 'WKS 896', 'WKX 9480', 'WKY 1446', 'WKY 5715', 'WKZ 09', 'WKZ 6859', 'WL 0', 'WL 05', 'WL 06', 'WL 1', 'WL 1271', 'WL 129', 'WL 4', 'WL 4086', 'WL 5', 'WL 563', 'WL 74', 'WL 7449', 'WL 792', 'WL 94', 'WL 959', 'WL 9675', 'WLB 379', 'WLD 5', 'WLF 724', 'WLH 413', 'WLI 9', 'WLK 0', 'WLL 3', 'WLL 601', 'WLL 798', 'WLM 8150', 'WLN 4', 'WLN 7139', 'WLO 61', 'WLP 1020', 'WLQ 7', 'WLS 259', 'WLT 6', 'WLV 5509', 'WLW 9212', 'WLX 1', 'WM 0742', 'WM 091', 'WM 1', 'WM 20', 'WM 213', 'WM 357', 'WM 381', 'WM 519', 'WM 5990', 'WM 634', 'WM 69', 'WM 7', 'WM 7013', 'WM 8', 'WM 823', 'WM 847', 'WM 9', 'WM 9287', 'WMA 78', 'WMB 20', 'WMB 469', 'WMB 6686', 'WME 44', 'WME 8', 'WMF 03', 'WMG 0489', 'WMI 690', 'WMJ 2', 'WML 156', 'WMM 74', 'WMN 04', 'WMN 4426', 'WMP 2', 'WMT 9471', 'WMU 521', 'WMW 9635', 'WMZ 9', 'WN 111', 'WN 32', 'WN 3798', 'WN 592', 'WN 65', 'WN 809', 'WN 90', 'WN 9522', 'WN 956', 'WNC 3', 'WND 38', 'WND 4518', 'WNE 7', 'WNE 721', 'WNF 8964', 'WNK 163', 'WNN 00', 'WNO 0', 'WNR 6764', 'WNS 7', 'WNT 555', 'WNT 9', 'WNY 0', 'WNZ 0636', 'WO 05', 'WO 136', 'WO 17', 'WO 2651', 'WO 3084', 'WO 5', 'WO 5201', 'WO 684', 'WO 75', 'WO 9', 'WO 93', 'WOE 553', 'WOH 750', 'WOJ 9', 'WON 774', 'WOQ 4', 'WOU 255', 'WOV 5069', 'WP 0', 'WP 0410', 'WP 2888', 'WP 395', 'WP 40', 'WP 41', 'WP 494', 'WP 5', 'WP 55', 'WP 571', 'WP 60', 'WP 7187', 'WP 743', 'WP 78', 'WP 786', 'WP 7882', 'WP 9548', 'WPB 174', 'WPB 25', 'WPH 0', 'WPJ 1', 'WPJ 859', 'WPL 019', 'WPL 30', 'WPL 61', 'WPM 4539', 'WPM 89', 'WPP 0489', 'WPP 30', 'WPP 72', 'WPQ 063', 'WPR 0', 'WPS 78', 'WPT 4007', 'WPT 57', 'WPU 54', 'WPV 1456', 'WPX 7', 'WPX 935', 'WPY 08', 'WPY 89', 'WQ 1', 'WQ 184', 'WQ 19', 'WQ 2511', 'WQ 3642', 'WQ 3668', 'WQ 369', 'WQ 406', 'WQ 418', 'WQ 45', 'WQ 475', 'WQ 5404', 'WQ 563', 'WQ 5748', 'WQ 58', 'WQ 59', 'WQ 594', 'WQ 611', 'WQ 636', 'WQ 7', 'WQ 7617', 'WQ 766', 'WQ 9', 'WQB 1', 'WQB 471', 'WQF 4', 'WQG 2', 'WQG 7252', 'WQJ 45', 'WQK 59', 'WQM 6130', 'WQN 18', 'WQN 7214', 'WQP 843', 'WQS 9561', 'WQT 785', 'WQY 111', 'WQY 7', 'WQZ 67', 'WQZ 792', 'WQZ 9', 'WR 01', 'WR 08', 'WR 1', 'WR 11', 'WR 19', 'WR 41', 'WR 4837', 'WR 5', 'WR 55', 'WR 6261', 'WR 67', 'WR 685', 'WR 689', 'WR 740', 'WR 750', 'WR 798', 'WR 8', 'WR 87', 'WRD 12', 'WRF 08', 'WRF 9', 'WRG 6669', 'WRG 7', 'WRJ 70', 'WRN 0162', 'WRR 699', 'WRS 0', 'WRT 53', 'WRW 994', 'WRX 2', 'WRX 8', 'WRY 5401', 'WRY 7156', 'WS 0', 'WS 06', 'WS 2', 'WS 28', 'WS 3', 'WS 4', 'WS 4432', 'WS 452', 'WS 522', 'WS 6', 'WS 60', 'WS 69', 'WS 7', 'WS 8', 'WS 813', 'WS 8195', 'WS 856', 'WS 8822', 'WS 9', 'WS 9713', 'WSB 9', 'WSD 56', 'WSE 078', 'WSH 5755', 'WSJ 9884', 'WSK 585', 'WSL 2463', 'WSL 573', 'WSL 701', 'WSM 8341', 'WSN 2465', 'WSQ 9', 'WSU 4595', 'WSW 70', 'WSX 3488', 'WSZ 0', 'WSZ 7', 'WT 160', 'WT 196', 'WT 2', 'WT 20', 'WT 211', 'WT 342', 'WT 4077', 'WT 5128', 'WT 537', 'WT 6', 'WT 6198', 'WT 621', 'WT 76', 'WT 804', 'WTD 8', 'WTD 824', 'WTG 348', 'WTH 4651', 'WTI 7', 'WTK 6247', 'WTK 751', 'WTM 274', 'WTO 4', 'WTP 4', 'WTR 8', 'WTV 666', 'WTW 14', 'WTZ 2', 'WU 0', 'WU 0217', 'WU 117', 'WU 2038', 'WU 24', 'WU 27', 'WU 3', 'WU 3493', 'WU 3645', 'WU 4', 'WU 42', 'WU 56', 'WU 8995', 'WU 988', 'WUA 37', 'WUD 58', 'WUE 1522', 'WUE 34', 'WUF 467', 'WUF 712', 'WUH 7827', 'WUI 0', 'WUI 931', 'WUO 0363', 'WUQ 2', 'WUS 899', 'WV 084', 'WV 22', 'WV 34', 'WV 451', 'WV 54', 'WV 5629', 'WV 6', 'WV 6554', 'WV 662', 'WV 76', 'WV 892', 'WVA 683', 'WVD 72', 'WVE 740', 'WVL 01', 'WVL 4299', 'WVM 4', 'WVM 7', 'WVN 75', 'WVP 0', 'WVQ 01', 'WVR 92', 'WVS 902', 'WVT 86', 'WVU 913', 'WVV 708', 'WVV 824', 'WVY 6', 'WVZ 8605', 'WW 29', 'WW 3', 'WW 4421', 'WW 7', 'WW 8570', 'WWA 014', 'WWA 77', 'WWF 8', 'WWG 2', 'WWJ 8664', 'WWL 965', 'WWM 80', 'WWO 38', 'WWR 56', 'WWT 1492', 'WWW 7', 'WWW 80', 'WWY 47', 'WWZ 7', 'WX 0', 'WX 0641', 'WX 1', 'WX 18', 'WX 22', 'WX 2585', 'WX 277', 'WX 300', 'WX 31', 'WX 376', 'WX 49', 'WX 5313', 'WX 57', 'WX 588', 'WX 7', 'WX 743', 'WX 87', 'WXC 102', 'WXC 5405', 'WXF 5790', 'WXG 459', 'WXH 056', 'WXP 290', 'WXP 36', 'WXR 3', 'WXS 75', 'WXT 002', 'WXV 9', 'WXX 51', 'WXZ 0145', 'WY 3008', 'WY 40', 'WY 44', 'WY 453', 'WY 473', 'WY 48', 'WY 561', 'WY 7', 'WY 8', 'WY 9', 'WY 9209', 'WY 98', 'WYB 0189', 'WYB 1591', 'WYC 5', 'WYH 3', 'WYH 884', 'WYI 28', 'WYL 314', 'WYM 4', 'WYN 4', 'WYN 74', 'WYO 6', 'WYR 511', 'WYR 8620', 'WYS 12', 'WYU 24', 'WYX 9', 'WZ 070', 'WZ 1', 'WZ 1333', 'WZ 14', 'WZ 24', 'WZ 30', 'WZ 3796', 'WZ 39', 'WZ 5323', 'WZ 579', 'WZ 5912', 'WZ 6', 'WZ 6835', 'WZ 823', 'WZ 84', 'WZ 9', 'WZ 900', 'WZ 905', 'WZA 4', 'WZB 583', 'WZD 5', 'WZM 818', 'WZN 1000', 'WZO 930', 'WZS 08', 'WZT 18', 'WZT 7', 'WZU 0', 'WZU 6', 'WZV 332', 'XA 16', 'XA 4', 'XA 6', 'XA 65', 'XA 8', 'XA 937', 'XAH 638', 'XAJ 310', 'XAN 50', 'XAO 5', 'XAQ 424', 'XAV 8535', 'XAW 3', 'XAX 4', 'XAZ 01', 'XB 0', 'XB 11', 'XB 2', 'XB 33', 'XB 575', 'XB 6970', 'XB 7914', 'XB 837', 'XB 87', 'XBA 6', 'XBC 402', 'XBD 305', 'XBJ 287', 'XBL 0213', 'XBM 04', 'XBN 4', 'XBS 561', 'XBW 470', 'XBX 75', 'XC 04', 'XC 6', 'XC 69', 'XC 7', 'XC 9', 'XCC 09', 'XCS 18', 'XCT 59', 'XCV 4553', 'XCV 64', 'XCV 9', 'XCW 9', 'XCY 986', 'XCZ 775', 'XD 04', 'XD 3144', 'XD 503', 'XD 519', 'XD 6', 'XD 8786', 'XDE 9727', 'XDJ 959', 'XDK 2', 'XDO 6173', 'XDZ 592', 'XE 135', 'XE 45', 'XE 567', 'XEA 3', 'XEB 702', 'XEG 9634', 'XEI 2971', 'XEK 32', 'XEU 5754', 'XEW 74', 'XEX 553', 'XF 1', 'XF 396', 'XF 51', 'XF 62', 'XFC 41', 'XFD 315', 'XFL 9516', 'XFP 011', 'XFW 89', 'XFZ 23', 'XG 0', 'XG 1', 'XG 465', 'XG 4884', 'XG 5768', 'XG 7', 'XG 9', 'XGF 102', 'XGG 050', 'XGK 1979', 'XGQ 4984', 'XGT 4', 'XGU 4', 'XGY 55', 'XH 27', 'XH 360', 'XH 4986', 'XH 75', 'XH 8306', 'XH 857', 'XH 887', 'XHA 56', 'XHA 69', 'XHB 46', 'XHD 964', 'XHK 2839', 'XHQ 100', 'XI 1306', 'XI 3', 'XI 6', 'XIB 375', 'XID 18', 'XIG 069', 'XIG 7497', 'XIL 33', 'XIM 470', 'XIO 3647', 'XIU 7068', 'XIW 35', 'XJ 0', 'XJ 061', 'XJ 3', 'XJ 3255', 'XJ 346', 'XJ 4', 'XJ 4328', 'XJ 67', 'XJ 71', 'XJ 8', 'XJA 3', 'XJC 61', 'XJC 7300', 'XJF 0', 'XJI 2', 'XJK 5882', 'XJL 42', 'XJM 508', 'XJR 6405', 'XJX 901', 'XK 360', 'XK 69', 'XK 80', 'XK 85', 'XKK 962', 'XKM 3', 'XL 0030', 'XL 178', 'XL 2991', 'XL 487', 'XL 91', 'XLA 425', 'XLN 3700', 'XLQ 23', 'XM 01', 'XM 412', 'XM 4139', 'XM 468', 'XM 6920', 'XM 70', 'XM 7229', 'XMG 17', 'XMI 6882', 'XMN 1104', 'XMU 597', 'XN 02', 'XN 039', 'XN 13', 'XN 2', 'XN 9046', 'XN 9507', 'XND 2798', 'XNG 3502', 'XNK 2270', 'XNX 86', 'XNY 3', 'XNY 789', 'XO 0', 'XO 27', 'XO 39', 'XO 462', 'XO 6', 'XO 6783', 'XO 7861', 'XO 798', 'XO 8655', 'XOB 174', 'XOF 312', 'XOF 6', 'XOH 956', 'XOJ 14', 'XOL 399', 'XOO 32', 'XOU 6', 'XOY 5022', 'XP 3', 'XP 4097', 'XP 5', 'XP 60', 'XP 747', 'XP 971', 'XPC 19', 'XPF 5', 'XPH 9', 'XPN 25', 'XPR 946', 'XPS 03', 'XQ 059', 'XQ 471', 'XQ 5652', 'XQ 650', 'XQ 8924', 'XQG 992', 'XQK 4', 'XQL 5', 'XQL 922', 'XQS 7', 'XQT 0997', 'XQT 397', 'XR 35', 'XR 4', 'XR 917', 'XRB 2585', 'XRG 1', 'XRJ 11', 'XRJ 32', 'XRL 36', 'XRM 197', 'XRX 693', 'XRY 5579', 'XS 2073', 'XS 366', 'XS 543', 'XS 6949', 'XS 735', 'XS 9', 'XS 922', 'XS 9310', 'XSA 623', 'XSB 51', 'XSG 781', 'XSH 84', 'XSH 9336', 'XSQ 54', 'XSS 7', 'XST 3', 'XT 1460', 'XT 78', 'XT 828', 'XT 8380', 'XT 9', 'XTD 9', 'XTF 8', 'XTM 0102', 'XTQ 020', 'XTR 859', 'XTS 384', 'XTV 780', 'XTW 85', 'XU 30', 'XU 4', 'XUB 415', 'XUG 026', 'XUS 8375', 'XUU 0', 'XV 1', 'XV 470', 'XVJ 03', 'XVK 8', 'XVM 8312', 'XVN 832', 'XVO 74', 'XVQ 1929', 'XVR 6763', 'XVS 4280', 'XVY 907', 'XVZ 1', 'XW 1214', 'XW 4913', 'XW 650', 'XWA 42', 'XWC 5734', 'XWC 903', 'XWR 85', 'XWU 72', 'XX 08', 'XX 083', 'XX 13', 'XX 2', 'XX 267', 'XX 47', 'XX 49', 'XX 5636', 'XX 9119', 'XXG 982', 'XXK 701', 'XY 025', 'XY 0507', 'XY 238', 'XY 4', 'XY 52', 'XY 608', 'XY 730', 'XY 7365', 'XY 740', 'XY 906', 'XY 91', 'XYD 9', 'XYE 28', 'XYF 0442', 'XYF 6209', 'XYG 0471', 'XYG 05', 'XYJ 6', 'XYK 27', 'XYK 4', 'XYK 7', 'XYR 59', 'XYV 15', 'XYX 9', 'XYY 962', 'XZ 0', 'XZ 233', 'XZ 74', 'XZ 9228', 'XZC 6', 'XZD 8', 'XZI 50', 'XZK 919', 'XZK 996', 'XZL 3756', 'XZV 6679', 'XZX 550', 'YA 0030', 'YA 042', 'YA 0714', 'YA 2', 'YA 481', 'YA 5480', 'YA 56', 'YA 6', 'YA 65', 'YA 7105', 'YA 730', 'YA 856', 'YA 917', 'YA 96', 'YAA 7', 'YAF 28', 'YAH 6855', 'YAV 1', 'YAV 321', 'YAX 3', 'YAY 10', 'YAY 158', 'YAZ 8', 'YB 6387', 'YB 9316', 'YBB 22', 'YBC 079', 'YBM 4', 'YBS 85', 'YBT 4065', 'YBW 1', 'YBX 8606', 'YC 06', 'YC 7', 'YC 73', 'YC 7520', 'YC 7650', 'YCA 20', 'YCI 418', 'YCM 2', 'YCQ 323', 'YCR 310', 'YCR 695', 'YCS 0', 'YCT 5', 'YCY 4', 'YD 46', 'YD 782', 'YD 825', 'YD 978', 'YDC 5', 'YDF 2011', 'YDG 05', 'YDG 4542', 'YDH 66', 'YDJ 1861', 'YDL 038', 'YDO 24', 'YDX 90', 'YE 23', 'YE 4', 'YE 50', 'YE 5846', 'YE 6517', 'YE 671', 'YE 708', 'YE 79', 'YE 9517', 'YEE 827', 'YEF 507', 'YEL 407', 'YEM 255', 'YEN 86', 'YER 183', 'YEZ 1', 'YF 0857', 'YF 1', 'YF 774', 'YFC 4', 'YFE 4', 'YFF 9', 'YFG 9874', 'YFI 27', 'YFR 7', 'YFW 3', 'YG 112', 'YG 244', 'YG 2921', 'YG 328', 'YG 4', 'YG 5', 'YG 6', 'YG 9339', 'YGD 20', 'YGG 65', 'YGK 2380', 'YGL 2', 'YGN 2607', 'YGS 6868', 'YGY 2093', 'YH 07', 'YH 40', 'YH 73', 'YH 8728', 'YH 940', 'YHJ 2', 'YHJ 67', 'YHY 242', 'YI 152', 'YI 6', 'YI 67', 'YI 7', 'YI 77', 'YI 9067', 'YIG 8669', 'YIL 3', 'YIL 425', 'YIN 38', 'YIP 810', 'YIR 0549', 'YIW 749', 'YJ 1', 'YJ 21', 'YJ 2951', 'YJ 3', 'YJ 53', 'YJ 6391', 'YJ 78', 'YJ 8987', 'YJB 598', 'YJC 262', 'YJI 6', 'YJJ 08', 'YJM 61', 'YJP 2410', 'YJU 83', 'YJW 1', 'YJX 8', 'YK 218', 'YK 2207', 'YK 229', 'YK 5355', 'YK 6122', 'YK 648', 'YK 829', 'YK 84', 'YK 88', 'YKB 42', 'YKI 6', 'YKL 523', 'YKN 390', 'YKQ 0904', 'YKT 805', 'YKW 07', 'YKW 1', 'YL 11', 'YL 2750', 'YL 362', 'YL 43', 'YL 48', 'YL 7', 'YL 7071', 'YL 721', 'YL 820', 'YL 8534', 'YL 96', 'YLJ 9082', 'YLO 56', 'YLP 14', 'YLQ 4', 'YLS 37', 'YLS 68', 'YLZ 0', 'YM 1144', 'YM 2344', 'YM 47', 'YM 6', 'YM 81', 'YM 8664', 'YM 9', 'YM 92', 'YMA 93', 'YMC 1', 'YMC 876', 'YMH 6042', 'YMI 193', 'YMJ 86', 'YMQ 4115', 'YMU 698', 'YMV 1527', 'YMX 743', 'YN 285', 'YN 3632', 'YN 5557', 'YN 898', 'YNC 0', 'YNQ 6', 'YNS 868', 'YNU 0', 'YO 0', 'YO 3272', 'YO 4', 'YO 64', 'YO 7181', 'YO 8', 'YOH 43', 'YOI 544', 'YON 910', 'YOV 765', 'YOY 5191', 'YP 2294', 'YP 26', 'YP 332', 'YP 40', 'YP 4387', 'YP 4802', 'YP 93', 'YP 996', 'YPA 0', 'YPG 2', 'YPG 6197', 'YPI 9', 'YPN 90', 'YPO 6', 'YPU 20', 'YPX 66', 'YPY 0431', 'YQ 0636', 'YQ 14', 'YQ 20', 'YQ 3', 'YQ 513', 'YQ 5234', 'YQ 547', 'YQ 58', 'YQ 636', 'YQ 64', 'YQ 6553', 'YQ 753', 'YQ 7587', 'YQ 902', 'YQ 9248', 'YQ 94', 'YQB 536', 'YQE 501', 'YQH 3819', 'YQI 6899', 'YQS 0', 'YQU 93', 'YQY 7', 'YQZ 118', 'YR 14', 'YR 25', 'YR 3', 'YR 485', 'YR 5717', 'YR 890', 'YR 96', 'YRA 4864', 'YRD 3', 'YRH 02', 'YRO 1165', 'YRQ 0153', 'YRQ 68', 'YRR 838', 'YRV 3', 'YRW 3', 'YRX 958', 'YRY 5919', 'YRZ 054', 'YS 01', 'YS 018', 'YS 0194', 'YS 07', 'YS 1652', 'YS 2', 'YS 945', 'YS 947', 'YSE 083', 'YSE 20', 'YSQ 1', 'YST 8817', 'YSV 7156', 'YSW 242', 'YT 0089', 'YT 0406', 'YT 3', 'YT 3691', 'YT 5485', 'YT 6178', 'YT 647', 'YT 7428', 'YT 7758', 'YTB 2', 'YTB 5631', 'YTD 591', 'YTE 8888', 'YTG 8', 'YTJ 7', 'YU 4039', 'YU 68', 'YU 7791', 'YU 98', 'YUA 4', 'YUB 27', 'YUH 08', 'YUJ 46', 'YUL 17', 'YUN 6', 'YUR 1', 'YV 2', 'YV 2238', 'YV 2715', 'YV 274', 'YV 5', 'YV 688', 'YV 853', 'YV 92', 'YVE 2734', 'YVF 82', 'YVK 57', 'YVP 21', 'YVR 83', 'YVY 65', 'YW 0', 'YW 047', 'YW 12', 'YW 1420', 'YW 23', 'YW 398', 'YW 465', 'YW 9904', 'YWA 57', 'YWD 0', 'YWH 63', 'YWN 0', 'YWS 477', 'YWW 41', 'YX 031', 'YX 393', 'YX 43', 'YX 68', 'YX 9690', 'YXA 7534', 'YXN 190', 'YXR 4', 'YXX 41', 'YXY 41', 'YY 6', 'YY 6140', 'YY 6332', 'YY 765', 'YY 8', 'YY 95', 'YYB 5', 'YYK 62', 'YYP 217', 'YYS 869', 'YYU 1', 'YYU 9', 'YYW 7158', 'YZ 0', 'YZ 123', 'YZ 351', 'YZ 416', 'YZ 9072', 'YZE 4', 'YZJ 1', 'YZL 9', 'YZN 1', 'YZN 470', 'YZR 4', 'YZU 922', 'YZY 3137', 'ZA 1', 'ZA 4', 'ZA 563', 'ZA 753', 'ZA 8', 'ZAA 1', 'ZAA 6', 'ZAI 97', 'ZAR 62', 'ZAY 11', 'ZAY 47', 'ZB 0', 'ZB 19', 'ZB 374', 'ZB 630', 'ZB 6985', 'ZB 7785', 'ZB 92', 'ZB 9537', 'ZBR 9', 'ZBW 0036', 'ZBX 1521', 'ZC 1314', 'ZC 146', 'ZC 1650', 'ZC 2', 'ZC 4', 'ZC 588', 'ZC 62', 'ZC 76', 'ZC 78', 'ZC 90', 'ZCA 6', 'ZCD 4', 'ZCK 23', 'ZCL 3', 'ZCM 0', 'ZCM 37', 'ZCO 026', 'ZCO 2', 'ZCQ 782', 'ZCQ 9', 'ZCW 6', 'ZD 13', 'ZD 2', 'ZD 25', 'ZD 2600', 'ZD 391', 'ZD 394', 'ZD 6', 'ZD 60', 'ZD 6321', 'ZD 661', 'ZD 9', 'ZD 973', 'ZDE 1304', 'ZDE 25', 'ZDJ 6', 'ZDL 41', 'ZDP 959', 'ZDR 72', 'ZDS 8295', 'ZDV 270', 'ZDX 3', 'ZE 1', 'ZE 198', 'ZE 26', 'ZE 2991', 'ZE 333', 'ZE 430', 'ZE 4576', 'ZE 6338', 'ZE 9', 'ZEA 3530', 'ZEE 329', 'ZER 2', 'ZER 994', 'ZEY 86', 'ZF 1', 'ZF 383', 'ZF 5593', 'ZF 6537', 'ZF 7116', 'ZF 744', 'ZF 8775', 'ZFC 314', 'ZFE 446', 'ZFF 7157', 'ZFL 9180', 'ZFP 37', 'ZFS 1', 'ZFV 906', 'ZG 208', 'ZG 5848', 'ZG 6706', 'ZG 7', 'ZG 714', 'ZG 8', 'ZG 831', 'ZG 956', 'ZGJ 749', 'ZGK 893', 'ZGN 657', 'ZGS 1', 'ZGV 98', 'ZH 12', 'ZH 31', 'ZH 504', 'ZH 519', 'ZH 6783', 'ZH 7', 'ZH 760', 'ZH 93', 'ZHC 847', 'ZHI 886', 'ZHM 1', 'ZHV 1293', 'ZHZ 0137', 'ZI 1894', 'ZI 2125', 'ZI 32', 'ZI 517', 'ZI 58', 'ZI 7069', 'ZI 72', 'ZI 76', 'ZIC 9', 'ZID 9', 'ZIH 2', 'ZII 084', 'ZIQ 267', 'ZIR 642', 'ZIR 7792', 'ZIS 8545', 'ZIU 5', 'ZIV 5', 'ZJ 2', 'ZJ 23', 'ZJ 3173', 'ZJ 4', 'ZJ 467', 'ZJ 539', 'ZJ 5742', 'ZJ 74', 'ZJ 8', 'ZJ 9877', 'ZJE 97', 'ZJM 476', 'ZJN 330', 'ZJN 3458', 'ZJR 3', 'ZJU 54', 'ZK 094', 'ZK 158', 'ZK 3', 'ZK 33', 'ZK 44', 'ZK 6', 'ZK 6241', 'ZK 75', 'ZK 79', 'ZK 97', 'ZKC 5111', 'ZKF 7', 'ZKK 1', 'ZKP 5064', 'ZKP 560', 'ZKP 8767', 'ZKU 313', 'ZL 405', 'ZL 5175', 'ZL 610', 'ZL 7959', 'ZL 8', 'ZLD 652', 'ZLN 144', 'ZLP 3759', 'ZLW 090', 'ZLY 15', 'ZLY 8', 'ZM 07', 'ZM 129', 'ZM 4', 'ZM 40', 'ZM 52', 'ZM 780', 'ZM 9', 'ZM 91', 'ZM 98', 'ZMA 6456', 'ZMB 31', 'ZMB 70', 'ZMJ 99', 'ZML 63', 'ZMM 1063', 'ZMM 3274', 'ZMM 6223', 'ZMP 767', 'ZMR 28', 'ZMZ 6', 'ZN 13', 'ZN 21', 'ZN 22', 'ZN 4', 'ZN 5', 'ZN 711', 'ZN 9', 'ZN 92', 'ZNA 0', 'ZNL 866', 'ZNO 09', 'ZNQ 46', 'ZNU 7618', 'ZNU 95', 'ZNX 2861', 'ZNX 49', 'ZNX 667', 'ZO 1603', 'ZO 3793', 'ZO 65', 'ZO 659', 'ZO 78', 'ZO 8804', 'ZO 9726', 'ZOI 745', 'ZP 6', 'ZP 71', 'ZPA 8', 'ZPF 9195', 'ZPG 90', 'ZPQ 490', 'ZPY 7', 'ZQ 22', 'ZQ 3015', 'ZQ 35', 'ZQ 464', 'ZQ 68', 'ZQ 7273', 'ZQ 7396', 'ZQ 77', 'ZQ 82', 'ZQA 1', 'ZQB 142', 'ZQD 1', 'ZQG 3', 'ZQN 2', 'ZQQ 5', 'ZQU 5', 'ZQY 204', 'ZQY 3331', 'ZR 17', 'ZR 1826', 'ZR 43', 'ZR 6', 'ZR 9', 'ZRG 2333', 'ZRI 40', 'ZRK 623', 'ZRK 74', 'ZRP 3186', 'ZRX 27', 'ZRX 8780', 'ZS 2091', 'ZS 4', 'ZS 78', 'ZS 8686', 'ZS 97', 'ZSA 7', 'ZSD 793', 'ZSG 5675', 'ZSN 4', 'ZSW 7', 'ZSZ 77', 'ZSZ 9385', 'ZT 00', 'ZT 2124', 'ZT 70', 'ZT 9656', 'ZTF 9050', 'ZTK 429', 'ZTO 1429', 'ZU 041', 'ZU 197', 'ZU 3', 'ZU 592', 'ZU 790', 'ZUA 0009', 'ZUA 719', 'ZUD 4327', 'ZUI 73', 'ZUK 206', 'ZUK 72', 'ZV 2619', 'ZV 349', 'ZV 5', 'ZV 7', 'ZV 74', 'ZV 9', 'ZVA 62', 'ZVF 2', 'ZVG 7', 'ZVK 10', 'ZVL 5', 'ZVN 56', 'ZVO 71', 'ZVP 2228', 'ZVX 618', 'ZW 038', 'ZW 1', 'ZW 7', 'ZW 78', 'ZWF 5110', 'ZWH 95', 'ZWS 43', 'ZX 0907', 'ZX 3257', 'ZX 4', 'ZX 504', 'ZX 5986', 'ZX 7', 'ZX 72', 'ZX 761', 'ZXA 6353', 'ZXA 8', 'ZXE 2', 'ZXI 2', 'ZXL 18', 'ZXM 6445', 'ZXT 31', 'ZXU 1059', 'ZY 086', 'ZY 15', 'ZY 32', 'ZY 494', 'ZY 6987', 'ZY 7', 'ZY 85', 'ZY 9064', 'ZYN 9', 'ZYP 646', 'ZYT 8545', 'ZYW 3194', 'ZYZ 575', 'ZZ 183', 'ZZ 24', 'ZZ 3', 'ZZ 7', 'ZZ 8', 'ZZ 82', 'ZZ 8733', 'ZZ 875', 'ZZ 9194', 'ZZB 11', 'ZZC 50', 'ZZF 603', 'ZZH 84', 'ZZI 6', 'ZZK 8', 'ZZP 876', 'ZZS 15', 'ZZU 12', 'ZZW 016', 'ZZY 1'], acknowledged=True)"
      ]
     },
     "execution_count": 35,
     "metadata": {},
     "output_type": "execute_result"
    }
   ],
   "source": [
    "# Remove duplicate car_plates, keeping the latest registration date\n",
    "vehicle['registration_date'] = pd.to_datetime(vehicle['registration_date'])\n",
    "vehicle_unique = vehicle.sort_values('registration_date').groupby('car_plate', as_index=False).last()\n",
    "vehicle_unique_records = vehicle_unique.to_dict(orient=\"records\")\n",
    "\n",
    "# Rename the column car_plate to _id\n",
    "for r in vehicle_unique_records:\n",
    "    r[\"_id\"] = r.pop(\"car_plate\")\n",
    "    \n",
    "# Insert vehicle data into the Vehicle collection\n",
    "vehicle_collection.insert_many(vehicle_unique_records)"
   ]
  },
  {
   "cell_type": "markdown",
   "id": "4bf143d6",
   "metadata": {},
   "source": [
    "#### Build the Violation collection in the database (historic data)"
   ]
  },
  {
   "cell_type": "code",
   "execution_count": 36,
   "id": "1edb4949",
   "metadata": {},
   "outputs": [],
   "source": [
    "# Preprocess on the violation dataframe\n",
    "violation[\"timestamp_start\"] = pd.to_datetime(violation['timestamp_start'], format=\"mixed\")\n",
    "violation[\"timestamp_end\"] = pd.to_datetime(violation['timestamp_end'], format=\"mixed\")\n",
    "violation['date'] = violation['timestamp_start'].dt.date\n",
    "\n",
    "# Create operations\n",
    "operations = []\n",
    "\n",
    "# Create operation for each row of data in the violation dataframe\n",
    "for _, row in violation.iterrows():\n",
    "    car_plate = row[\"car_plate\"]\n",
    "    date = dt.combine(row[\"date\"], dt.min.time())\n",
    "    updateAt = row[\"timestamp_end\"]\n",
    "    \n",
    "    search_condition = {\n",
    "        \"car_plate\": car_plate,\n",
    "        \"date\": date\n",
    "    }\n",
    "\n",
    "    \n",
    "    violation_payload = {\n",
    "        \"camera_id_start\": row[\"camera_id_start\"],\n",
    "        \"camera_id_end\": row[\"camera_id_end\"],\n",
    "        \"timestamp_start\": row[\"timestamp_start\"],\n",
    "        \"timestamp_end\": row[\"timestamp_end\"],\n",
    "        \"speed_reading\": row[\"speed_reading\"],\n",
    "        \"type\": \"average\",\n",
    "        \"updateAt\": updateAt\n",
    "    }\n",
    "    \n",
    "    update = {\n",
    "        \"$set\": {\n",
    "            \"updatedAt\": updateAt\n",
    "        },\n",
    "        \"$addToSet\": {\n",
    "            \"violations\": violation_payload\n",
    "        }\n",
    "    }\n",
    "    \n",
    "    operations.append(UpdateOne(search_condition, update, upsert=True))\n",
    "\n",
    "# Bulk write the violation records to the Violation collection\n",
    "if operations:\n",
    "    violation_collection.bulk_write(operations)\n",
    "else:\n",
    "    print(\"no operation is created yet\")"
   ]
  },
  {
   "cell_type": "markdown",
   "id": "3b764b0d",
   "metadata": {},
   "source": [
    "## <span style=\"color:#0b486b\">Part 2: Streaming Application</span>\n",
    "\n",
    "### Task 2.1 Data Stream Processing (Streaming Application)"
   ]
  },
  {
   "cell_type": "markdown",
   "id": "9d22e761",
   "metadata": {},
   "source": [
    "<div style=\"text-align: center\"> \n",
    "    <img src=\"application_part1.png\"></img>\n",
    "    <p style=\"text-align: center\">Figure 2.1 – Overview of Streaming Application (Part 1) </p>\n",
    "</div>"
   ]
  },
  {
   "cell_type": "markdown",
   "id": "39c414e1",
   "metadata": {},
   "source": [
    "This diagram illustrates the first part of our streaming algorithm, where data streams are read from the Kafka producer, processed in PySpark, and the watermarking technique is applied to handle late-arriving data."
   ]
  },
  {
   "cell_type": "markdown",
   "id": "eab4e7d8",
   "metadata": {},
   "source": [
    "<div style=\"text-align: center\"> \n",
    "    <img src=\"application_part2.png\"></img>\n",
    "    <p style=\"text-align: center\">Figure 2.2 – Overview of Streaming Application (Part 2) </p>\n",
    "</div>"
   ]
  },
  {
   "cell_type": "markdown",
   "id": "64ad5dd7",
   "metadata": {},
   "source": [
    "This diagram illustrates the second part of our streaming algorithm, showing how we join the data streams, process matched records to filter out violations and store them in MongoDB, and handle unmatched data by sinking it into a logged pairs collection."
   ]
  },
  {
   "cell_type": "markdown",
   "id": "88155365",
   "metadata": {},
   "source": [
    "#### PySpark runtime environment to support Kafka integration\n",
    "PySpark 3.5.5 is used here, the dependencies added using spark-submit. Refer to [Structured Streaming Kafka Integration - Deploying](https://spark.apache.org/docs/latest/structured-streaming-kafka-integration.html#deploying)"
   ]
  },
  {
   "cell_type": "code",
   "execution_count": 37,
   "id": "e7c6bcb8",
   "metadata": {},
   "outputs": [],
   "source": [
    "# Configure PySpark to include Kafka support via spark-streaming and spark-sql Kafka packages\n",
    "os.environ['PYSPARK_SUBMIT_ARGS'] = '--packages org.apache.spark:spark-streaming-kafka-0-10_2.12:3.5.5,org.apache.spark:spark-sql-kafka-0-10_2.12:3.5.5 pyspark-shell'"
   ]
  },
  {
   "cell_type": "markdown",
   "id": "7a6ffc2b",
   "metadata": {},
   "source": [
    "#### Basic configuration for the streaming application\n",
    "This section defines the constants for the streaming application. Please update the HOST_IP value if required"
   ]
  },
  {
   "cell_type": "code",
   "execution_count": 38,
   "id": "9d4743e6",
   "metadata": {},
   "outputs": [],
   "source": [
    "# Configuration parameters\n",
    "TOPIC_A = \"camera_event_a\"\n",
    "TOPIC_B = \"camera_event_b\"\n",
    "TOPIC_C = \"camera_event_c\"\n",
    "TOLERANCE_RATE = \"30 minutes\"\n",
    "METADATA = {\n",
    "    \"producer_id\": \"int\",\n",
    "    \"speed_limit\": \"int\",\n",
    "    \"dist_next\": \"int\",\n",
    "    \"processing_timestamp\": \"timestamp\",\n",
    "}\n",
    "\n",
    "# Schema to parse the message into json\n",
    "SCHEMA = StructType(\n",
    "    [\n",
    "        StructField(\"event_id\", StringType(), True),\n",
    "        StructField(\"batch_id\", IntegerType(), True),\n",
    "        StructField(\"car_plate\", StringType(), True),\n",
    "        StructField(\"camera_id\", IntegerType(), True),\n",
    "        StructField(\"timestamp\", TimestampType(), True),\n",
    "        StructField(\"speed_reading\", DoubleType(), True),\n",
    "    ]\n",
    ")\n",
    "\n",
    "# Initialize Spark session\n",
    "spark = (\n",
    "    SparkSession.builder.master(\"local[*]\")\n",
    "    .appName(\"Streaming Parking Data\")\n",
    "    .getOrCreate()\n",
    ")"
   ]
  },
  {
   "cell_type": "markdown",
   "id": "a30c0b36",
   "metadata": {},
   "source": [
    "#### Read message from Kafka"
   ]
  },
  {
   "cell_type": "code",
   "execution_count": 39,
   "id": "b059fcca",
   "metadata": {},
   "outputs": [],
   "source": [
    "# Read from corresponding topic\n",
    "event_a = read_stream(spark, TOPIC_A, HOST_IP)\n",
    "event_b = read_stream(spark, TOPIC_B, HOST_IP)\n",
    "event_c = read_stream(spark, TOPIC_C, HOST_IP)"
   ]
  },
  {
   "cell_type": "markdown",
   "id": "dad13cf4",
   "metadata": {},
   "source": [
    "#### Extract metadata from header"
   ]
  },
  {
   "cell_type": "code",
   "execution_count": 40,
   "id": "711cd047",
   "metadata": {},
   "outputs": [],
   "source": [
    "header_a = get_kafka_header(event_a, METADATA)\n",
    "header_b = get_kafka_header(event_b, METADATA)\n",
    "header_c = get_kafka_header(event_c, METADATA)"
   ]
  },
  {
   "cell_type": "markdown",
   "id": "88fbbc70",
   "metadata": {},
   "source": [
    "#### Extract message\n",
    "The Kafka message is extracted and converted into rows along with the Kafka headers."
   ]
  },
  {
   "cell_type": "code",
   "execution_count": 41,
   "id": "b2dbd242",
   "metadata": {},
   "outputs": [],
   "source": [
    "stream_a = get_kafka_message(header_a, SCHEMA)\n",
    "stream_b = get_kafka_message(header_b, SCHEMA)\n",
    "stream_c = get_kafka_message(header_c, SCHEMA)"
   ]
  },
  {
   "cell_type": "markdown",
   "id": "a623eca4",
   "metadata": {},
   "source": [
    "#### Adding watermark\n",
    "Watermarking is a technique used in PySpark to handle late-arriving data in streaming applications. Each stream is assigned a watermark to keep track of the maximum event time seen so far. The latest timestamp in each stream will be remembered by the pyspark, if new data arrives with a timestamp after the `TOLERANCE_RATE`, it will be considered too late and ignored by the pyspark. Watermarking can help to clear the outdated data.\n",
    "\n",
    "The `TOLERANCE_RATE` is set to 30 minutes in our case which means PySpark will only process messages that arrive within 30 minutes of the latest observed event time in each stream. This helps manage state and prevents unbounded growth of intermediate results by discarding outdated data. However, while performing the online joins across multiple streams, PySpark will determine a global watermark which is typically the minimum watermark among the three streams, as defined in the references below.\n",
    "The example below show that watermark is set to 20 minutes\n",
    "\n",
    "This example showing that setting watermark to 20 minutes:\n",
    "\n",
    "Event timestamps:\n",
    "- 10:00AM\n",
    "- 10:15AM ( latest timestamp )\n",
    "- 10:08AM ( will be processes, within 20 minutes of the latest event )\n",
    "- 09:50AM ( ignored, older than the 20-minute threshold )\n",
    "\n",
    "In this case, any event earlier than 09:55 AM would be dropped, given the latest event occurred at 10:15 AM and the watermark is set to 20 minutes.\n",
    "\n",
    "Refer to [Handling Late Data and Watermarking](https://spark.apache.org/docs/latest/structured-streaming-programming-guide.html#handling-late-data-and-watermarking)\n",
    "\n",
    "Refer to [Policy for handling multiple watermarks](https://spark.apache.org/docs/latest/structured-streaming-programming-guide.html#policy-for-handling-multiple-watermarks)"
   ]
  },
  {
   "cell_type": "code",
   "execution_count": 42,
   "id": "1c2d6468",
   "metadata": {},
   "outputs": [],
   "source": [
    "marked_a = stream_a.withWatermark(\"timestamp\", TOLERANCE_RATE)\n",
    "marked_b = stream_b.withWatermark(\"timestamp\", TOLERANCE_RATE)\n",
    "marked_c = stream_c.withWatermark(\"timestamp\", TOLERANCE_RATE)"
   ]
  },
  {
   "cell_type": "markdown",
   "id": "50389e8c",
   "metadata": {},
   "source": [
    "#### Instant violation Detection\n",
    "instant violation is detected independently to ensure that all the instant violation will be recorded. If the instant violation is detected with the average speed violation in the section below. Some instant violation will be dropped as some violated instant speed will be dropped in the online join process. "
   ]
  },
  {
   "cell_type": "code",
   "execution_count": 43,
   "id": "40f2b596",
   "metadata": {},
   "outputs": [],
   "source": [
    "# Filter violated row \n",
    "violated_a = marked_a.filter(col(\"speed_reading\") >= col(\"speed_limit\"))\n",
    "violated_b = marked_b.filter(col(\"speed_reading\") >= col(\"speed_limit\"))\n",
    "violated_c = marked_c.filter(col(\"speed_reading\") >= col(\"speed_limit\"))\n",
    "\n",
    "# Union to perform sink action at once\n",
    "instant_violation = violated_a.union(violated_b).union(violated_c)"
   ]
  },
  {
   "cell_type": "markdown",
   "id": "969e2f61",
   "metadata": {},
   "source": [
    "#### Online Join\n",
    "The detail of the implementation are in the online_join_utils.py file. Full outer join is used here as dropped data needed to be recorded. The window size for the online join is determine using the boundary time that might be average speed violation and the derivation are shown below. However, the futher validation on the violation are required as PySpark only allow using integer for the event-time windows\n",
    "\n",
    "$$\\frac{\\text{distance (km)}}{\\text{duration (hours)}} \\geq \\text{speed limit (km/h)}$$\n",
    "\n",
    "$$\\text{duration (hours)} \\leq \\frac{\\text{distance (km)}}{\\text{speed limit (km/h)}}$$\n",
    "\n",
    "$$\\text{duration (seconds)} \\leq \\frac{\\text{distance (km)} \\times 3600}{\\text{speed limit (km/h)}}$$\n",
    "\n",
    "Uisng the watermark in the stream-stream join can ensure the data won't drop the data in the `TOLERANCE_RATE` for joining. The NULL results will be shown once it did not find match pairs and it is outdated according to the watermarking mechanism.\n",
    "\n",
    "Refer to [Stream-stream joins](https://spark.apache.org/docs/latest/structured-streaming-programming-guide.html#stream-stream-joins)"
   ]
  },
  {
   "cell_type": "code",
   "execution_count": 44,
   "id": "0f6945f1",
   "metadata": {},
   "outputs": [],
   "source": [
    "# Calculate the window size\n",
    "window_size_ab = calculate_time_boundary(1, 110)\n",
    "window_size_bc = calculate_time_boundary(1, 90)\n",
    "\n",
    "# Stream-stream full outer join\n",
    "stream_ab = stream_stream_join_event(marked_a, marked_b, window_size_ab)\n",
    "stream_bc = stream_stream_join_event(marked_b, marked_c, window_size_bc)"
   ]
  },
  {
   "cell_type": "markdown",
   "id": "451fd2a1",
   "metadata": {},
   "source": [
    "#### Average Violation\n",
    "A duration column is added here by using the formula above, a filtering is applied here to filter out the event that the average speed violated the speed limit of the ending camera. An average speed column is added to calculate the average speed to record in the database."
   ]
  },
  {
   "cell_type": "code",
   "execution_count": 45,
   "id": "1b46239d",
   "metadata": {},
   "outputs": [],
   "source": [
    "# Filter match pairs\n",
    "match_ab = get_matched_stream(stream_ab)\n",
    "match_bc = get_matched_stream(stream_bc)\n",
    "\n",
    "# Detection and calculation\n",
    "average_violated_ab = get_violated_average_stream(match_ab)\n",
    "average_violated_bc = get_violated_average_stream(match_bc)\n",
    "\n",
    "# Union to perform sink action at once\n",
    "average_violation = average_violated_ab.union(average_violated_bc)"
   ]
  },
  {
   "cell_type": "markdown",
   "id": "1a935bae",
   "metadata": {},
   "source": [
    "#### Log Drop Pairs"
   ]
  },
  {
   "cell_type": "code",
   "execution_count": 46,
   "id": "5e13f7de",
   "metadata": {},
   "outputs": [],
   "source": [
    "# Filter unmatch data\n",
    "drop_ab = stream_ab.filter(\n",
    "    col(\"timestamp_start\").isNull() | col(\"timestamp_end\").isNull()\n",
    ")\n",
    "drop_bc = stream_bc.filter(\n",
    "    col(\"timestamp_start\").isNull() | col(\"timestamp_end\").isNull()\n",
    ")\n",
    "\n",
    "# Union to perform sink action at once\n",
    "drop = drop_ab.union(drop_bc)"
   ]
  },
  {
   "cell_type": "markdown",
   "id": "4beeb473",
   "metadata": {},
   "source": [
    "#### Violation and Drop Pairs Written to MongoDB\n",
    "The implementation can be found in the sink_mongodb.py. Bulk write is used to improve the performance to perform the action to the database. UpdateOne with upsert is used as the operation to update or insert a document into the collection. To ensure the violations array do not have duplicate data, addToSet operator is used. To allow bulk write operation can be used, `foreachbatch` is used to ensure that pyspark can perform the sink action on batch of dataframe, instead of row by row using `foreach`.\n",
    "\n",
    "Refer to [addToSet](https://www.mongodb.com/docs/manual/reference/operator/update/addToSet/)\n",
    "\n",
    "Refer to [BulkWrite](https://www.mongodb.com/docs/manual/reference/method/db.collection.bulkWrite/)\n",
    "\n",
    "Refer to [foreachbatch](https://spark.apache.org/docs/latest/api/python/reference/pyspark.ss/api/pyspark.sql.streaming.DataStreamWriter.foreachBatch.html)"
   ]
  },
  {
   "cell_type": "code",
   "execution_count": 47,
   "id": "bcbb746a",
   "metadata": {},
   "outputs": [],
   "source": [
    "# Write of average violations\n",
    "average_violation_writer = (\n",
    "    average_violation.writeStream.format(\"mongodb\")\n",
    "    .option(\"checkpointLocation\", \"./average_checkpoints\")\n",
    "    .outputMode(\"append\")\n",
    "    .foreachBatch(\n",
    "        lambda batch_df, _: write_violations_to_mongo(\n",
    "            batch_df, _, HOST_IP, \"average\"\n",
    "        )\n",
    "    )\n",
    ")\n",
    "\n",
    "# Writer of instant violations\n",
    "instant_violation_writer = (\n",
    "    instant_violation.writeStream.format(\"mongodb\")\n",
    "    .option(\"checkpointLocation\", \"./instant_checkpoints\")\n",
    "    .outputMode(\"append\")\n",
    "    .foreachBatch(\n",
    "        lambda batch_df, _: write_violations_to_mongo(\n",
    "            batch_df, _, HOST_IP, \"instant\"\n",
    "        )\n",
    "    )\n",
    ")\n",
    "\n",
    "# Writer of dropped pairs\n",
    "drop_violation_writer = (\n",
    "    drop.writeStream.format(\"mongodb\")\n",
    "    .option(\"checkpointLocation\", \"./drop_checkpoints\")\n",
    "    .outputMode(\"append\")\n",
    "    .foreachBatch(\n",
    "        lambda batch_df, _: write_dropped_pairs(batch_df, _, HOST_IP)\n",
    "    )\n",
    ")"
   ]
  },
  {
   "cell_type": "markdown",
   "id": "851ad8ec",
   "metadata": {},
   "source": [
    "#### Start Streaming"
   ]
  },
  {
   "cell_type": "code",
   "execution_count": null,
   "id": "29f22cee",
   "metadata": {},
   "outputs": [],
   "source": [
    "try:\n",
    "    average_query = average_violation_writer.start()\n",
    "    instant_query = instant_violation_writer.start()\n",
    "    drop_query = drop_violation_writer.start()\n",
    "    \n",
    "    average_query.awaitTermination()\n",
    "    instant_query.awaitTermination()\n",
    "    drop_query.awaitTermination()\n",
    "except KeyboardInterrupt:\n",
    "    print('Interrupted by CTRL-C. Stopping query.')\n",
    "finally:\n",
    "    average_query.stop()\n",
    "    instant_query.stop()\n",
    "    drop_query.stop()"
   ]
  },
  {
   "cell_type": "code",
   "execution_count": null,
   "id": "54ade0c3",
   "metadata": {},
   "outputs": [],
   "source": []
  }
 ],
 "metadata": {
  "kernelspec": {
   "display_name": "Python 3 (ipykernel)",
   "language": "python",
   "name": "python3"
  },
  "language_info": {
   "codemirror_mode": {
    "name": "ipython",
    "version": 3
   },
   "file_extension": ".py",
   "mimetype": "text/x-python",
   "name": "python",
   "nbconvert_exporter": "python",
   "pygments_lexer": "ipython3",
   "version": "3.10.17"
  }
 },
 "nbformat": 4,
 "nbformat_minor": 5
}
